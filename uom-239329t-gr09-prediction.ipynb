{
 "cells": [
  {
   "cell_type": "code",
   "execution_count": 1,
   "id": "f4afb480",
   "metadata": {
    "_cell_guid": "b1076dfc-b9ad-4769-8c92-a6c4dae69d19",
    "_uuid": "8f2839f25d086af736a60e9eeb907d3b93b6e0e5",
    "execution": {
     "iopub.execute_input": "2023-12-03T20:01:39.866518Z",
     "iopub.status.busy": "2023-12-03T20:01:39.865918Z",
     "iopub.status.idle": "2023-12-03T20:01:40.247465Z",
     "shell.execute_reply": "2023-12-03T20:01:40.245257Z"
    },
    "papermill": {
     "duration": 0.397052,
     "end_time": "2023-12-03T20:01:40.250652",
     "exception": false,
     "start_time": "2023-12-03T20:01:39.853600",
     "status": "completed"
    },
    "tags": []
   },
   "outputs": [
    {
     "name": "stdout",
     "output_type": "stream",
     "text": [
      "/kaggle/input/child-mind-institute-detect-sleep-states/train_series.parquet\n",
      "/kaggle/input/child-mind-institute-detect-sleep-states/sample_submission.csv\n",
      "/kaggle/input/child-mind-institute-detect-sleep-states/train_events.csv\n",
      "/kaggle/input/child-mind-institute-detect-sleep-states/test_series.parquet\n",
      "/kaggle/input/models/bestXGboost.pkl\n",
      "/kaggle/input/models/enmoScaler.pkl\n",
      "/kaggle/input/models/anglezScaler.pkl\n",
      "/kaggle/input/models/labelEncoder.pkl\n",
      "/kaggle/input/preprocesseddata/cropedTrainSeries3_2.csv\n"
     ]
    }
   ],
   "source": [
    "# This Python 3 environment comes with many helpful analytics libraries installed\n",
    "# It is defined by the kaggle/python Docker image: https://github.com/kaggle/docker-python\n",
    "# For example, here's several helpful packages to load\n",
    "\n",
    "import numpy as np # linear algebra\n",
    "import pandas as pd # data processing, CSV file I/O (e.g. pd.read_csv)\n",
    "\n",
    "# Input data files are available in the read-only \"../input/\" directory\n",
    "# For example, running this (by clicking run or pressing Shift+Enter) will list all files under the input directory\n",
    "\n",
    "import os\n",
    "for dirname, _, filenames in os.walk('/kaggle/input'):\n",
    "    for filename in filenames:\n",
    "        print(os.path.join(dirname, filename))\n",
    "\n",
    "# You can write up to 20GB to the current directory (/kaggle/working/) that gets preserved as output when you create a version using \"Save & Run All\" \n",
    "# You can also write temporary files to /kaggle/temp/, but they won't be saved outside of the current session"
   ]
  },
  {
   "cell_type": "code",
   "execution_count": 2,
   "id": "788fa6bb",
   "metadata": {
    "execution": {
     "iopub.execute_input": "2023-12-03T20:01:40.266074Z",
     "iopub.status.busy": "2023-12-03T20:01:40.265154Z",
     "iopub.status.idle": "2023-12-03T20:01:41.824864Z",
     "shell.execute_reply": "2023-12-03T20:01:41.823663Z"
    },
    "papermill": {
     "duration": 1.570114,
     "end_time": "2023-12-03T20:01:41.827867",
     "exception": false,
     "start_time": "2023-12-03T20:01:40.257753",
     "status": "completed"
    },
    "tags": []
   },
   "outputs": [],
   "source": [
    "import joblib\n",
    "import numpy as np\n",
    "from datetime import datetime as dt\n",
    "from datetime import timedelta\n",
    "from datetime import time as tm\n",
    "\n",
    "import gc\n",
    "\n",
    "from xgboost import XGBClassifier\n",
    "\n",
    "\n",
    "from sklearn.preprocessing import MinMaxScaler"
   ]
  },
  {
   "cell_type": "code",
   "execution_count": 3,
   "id": "d686ff75",
   "metadata": {
    "execution": {
     "iopub.execute_input": "2023-12-03T20:01:41.843145Z",
     "iopub.status.busy": "2023-12-03T20:01:41.842517Z",
     "iopub.status.idle": "2023-12-03T20:01:47.634634Z",
     "shell.execute_reply": "2023-12-03T20:01:47.633111Z"
    },
    "papermill": {
     "duration": 5.803411,
     "end_time": "2023-12-03T20:01:47.637855",
     "exception": false,
     "start_time": "2023-12-03T20:01:41.834444",
     "status": "completed"
    },
    "tags": []
   },
   "outputs": [],
   "source": [
    "#XGboostModel=loaded_model = joblib.load('/kaggle/input/models/bestXGboost.pkl')\n",
    "labelEncoder=joblib.load('/kaggle/input/models/labelEncoder.pkl')\n",
    "enmoScaler=joblib.load('/kaggle/input/models/enmoScaler.pkl')\n",
    "anglezScaler=joblib.load('/kaggle/input/models/anglezScaler.pkl')\n",
    "testDF=pd.read_parquet('/kaggle/input/child-mind-institute-detect-sleep-states/test_series.parquet')\n",
    "trainDF=pd.read_csv('/kaggle/input/preprocesseddata/cropedTrainSeries3_2.csv')"
   ]
  },
  {
   "cell_type": "code",
   "execution_count": 4,
   "id": "36f30df0",
   "metadata": {
    "execution": {
     "iopub.execute_input": "2023-12-03T20:01:47.652895Z",
     "iopub.status.busy": "2023-12-03T20:01:47.652372Z",
     "iopub.status.idle": "2023-12-03T20:01:47.659551Z",
     "shell.execute_reply": "2023-12-03T20:01:47.658094Z"
    },
    "papermill": {
     "duration": 0.017601,
     "end_time": "2023-12-03T20:01:47.662124",
     "exception": false,
     "start_time": "2023-12-03T20:01:47.644523",
     "status": "completed"
    },
    "tags": []
   },
   "outputs": [],
   "source": [
    "test_series_DF_CP=testDF.copy()"
   ]
  },
  {
   "cell_type": "code",
   "execution_count": 5,
   "id": "48cc8877",
   "metadata": {
    "execution": {
     "iopub.execute_input": "2023-12-03T20:01:47.676573Z",
     "iopub.status.busy": "2023-12-03T20:01:47.676130Z",
     "iopub.status.idle": "2023-12-03T20:01:47.694843Z",
     "shell.execute_reply": "2023-12-03T20:01:47.693836Z"
    },
    "papermill": {
     "duration": 0.029489,
     "end_time": "2023-12-03T20:01:47.697781",
     "exception": false,
     "start_time": "2023-12-03T20:01:47.668292",
     "status": "completed"
    },
    "tags": []
   },
   "outputs": [
    {
     "data": {
      "text/html": [
       "<div>\n",
       "<style scoped>\n",
       "    .dataframe tbody tr th:only-of-type {\n",
       "        vertical-align: middle;\n",
       "    }\n",
       "\n",
       "    .dataframe tbody tr th {\n",
       "        vertical-align: top;\n",
       "    }\n",
       "\n",
       "    .dataframe thead th {\n",
       "        text-align: right;\n",
       "    }\n",
       "</style>\n",
       "<table border=\"1\" class=\"dataframe\">\n",
       "  <thead>\n",
       "    <tr style=\"text-align: right;\">\n",
       "      <th></th>\n",
       "      <th>series_id</th>\n",
       "      <th>step</th>\n",
       "      <th>timestamp</th>\n",
       "      <th>anglez</th>\n",
       "      <th>enmo</th>\n",
       "    </tr>\n",
       "  </thead>\n",
       "  <tbody>\n",
       "    <tr>\n",
       "      <th>0</th>\n",
       "      <td>038441c925bb</td>\n",
       "      <td>0</td>\n",
       "      <td>2018-08-14T15:30:00-0400</td>\n",
       "      <td>2.6367</td>\n",
       "      <td>0.0217</td>\n",
       "    </tr>\n",
       "    <tr>\n",
       "      <th>1</th>\n",
       "      <td>038441c925bb</td>\n",
       "      <td>1</td>\n",
       "      <td>2018-08-14T15:30:05-0400</td>\n",
       "      <td>2.6368</td>\n",
       "      <td>0.0215</td>\n",
       "    </tr>\n",
       "    <tr>\n",
       "      <th>2</th>\n",
       "      <td>038441c925bb</td>\n",
       "      <td>2</td>\n",
       "      <td>2018-08-14T15:30:10-0400</td>\n",
       "      <td>2.6370</td>\n",
       "      <td>0.0216</td>\n",
       "    </tr>\n",
       "    <tr>\n",
       "      <th>3</th>\n",
       "      <td>038441c925bb</td>\n",
       "      <td>3</td>\n",
       "      <td>2018-08-14T15:30:15-0400</td>\n",
       "      <td>2.6368</td>\n",
       "      <td>0.0213</td>\n",
       "    </tr>\n",
       "    <tr>\n",
       "      <th>4</th>\n",
       "      <td>038441c925bb</td>\n",
       "      <td>4</td>\n",
       "      <td>2018-08-14T15:30:20-0400</td>\n",
       "      <td>2.6368</td>\n",
       "      <td>0.0215</td>\n",
       "    </tr>\n",
       "  </tbody>\n",
       "</table>\n",
       "</div>"
      ],
      "text/plain": [
       "      series_id  step                 timestamp  anglez    enmo\n",
       "0  038441c925bb     0  2018-08-14T15:30:00-0400  2.6367  0.0217\n",
       "1  038441c925bb     1  2018-08-14T15:30:05-0400  2.6368  0.0215\n",
       "2  038441c925bb     2  2018-08-14T15:30:10-0400  2.6370  0.0216\n",
       "3  038441c925bb     3  2018-08-14T15:30:15-0400  2.6368  0.0213\n",
       "4  038441c925bb     4  2018-08-14T15:30:20-0400  2.6368  0.0215"
      ]
     },
     "execution_count": 5,
     "metadata": {},
     "output_type": "execute_result"
    }
   ],
   "source": [
    "test_series_DF_CP.head()"
   ]
  },
  {
   "cell_type": "code",
   "execution_count": 6,
   "id": "04f7981a",
   "metadata": {
    "execution": {
     "iopub.execute_input": "2023-12-03T20:01:47.712803Z",
     "iopub.status.busy": "2023-12-03T20:01:47.712132Z",
     "iopub.status.idle": "2023-12-03T20:01:47.738147Z",
     "shell.execute_reply": "2023-12-03T20:01:47.737038Z"
    },
    "papermill": {
     "duration": 0.036997,
     "end_time": "2023-12-03T20:01:47.741271",
     "exception": false,
     "start_time": "2023-12-03T20:01:47.704274",
     "status": "completed"
    },
    "tags": []
   },
   "outputs": [],
   "source": [
    "test_series_DF_CP['timestamp'] = pd.to_datetime(test_series_DF_CP['timestamp'],utc=True)\n",
    "test_series_DF_CP['Date'] = test_series_DF_CP['timestamp'].dt.date\n",
    "test_series_DF_CP['Time'] = test_series_DF_CP['timestamp'].dt.time"
   ]
  },
  {
   "cell_type": "code",
   "execution_count": 7,
   "id": "6bbca811",
   "metadata": {
    "execution": {
     "iopub.execute_input": "2023-12-03T20:01:47.755961Z",
     "iopub.status.busy": "2023-12-03T20:01:47.754978Z",
     "iopub.status.idle": "2023-12-03T20:01:47.774032Z",
     "shell.execute_reply": "2023-12-03T20:01:47.772291Z"
    },
    "papermill": {
     "duration": 0.029195,
     "end_time": "2023-12-03T20:01:47.776715",
     "exception": false,
     "start_time": "2023-12-03T20:01:47.747520",
     "status": "completed"
    },
    "tags": []
   },
   "outputs": [
    {
     "data": {
      "text/html": [
       "<div>\n",
       "<style scoped>\n",
       "    .dataframe tbody tr th:only-of-type {\n",
       "        vertical-align: middle;\n",
       "    }\n",
       "\n",
       "    .dataframe tbody tr th {\n",
       "        vertical-align: top;\n",
       "    }\n",
       "\n",
       "    .dataframe thead th {\n",
       "        text-align: right;\n",
       "    }\n",
       "</style>\n",
       "<table border=\"1\" class=\"dataframe\">\n",
       "  <thead>\n",
       "    <tr style=\"text-align: right;\">\n",
       "      <th></th>\n",
       "      <th>series_id</th>\n",
       "      <th>step</th>\n",
       "      <th>timestamp</th>\n",
       "      <th>anglez</th>\n",
       "      <th>enmo</th>\n",
       "      <th>Date</th>\n",
       "      <th>Time</th>\n",
       "    </tr>\n",
       "  </thead>\n",
       "  <tbody>\n",
       "    <tr>\n",
       "      <th>0</th>\n",
       "      <td>038441c925bb</td>\n",
       "      <td>0</td>\n",
       "      <td>2018-08-14 19:30:00+00:00</td>\n",
       "      <td>2.6367</td>\n",
       "      <td>0.0217</td>\n",
       "      <td>2018-08-14</td>\n",
       "      <td>19:30:00</td>\n",
       "    </tr>\n",
       "    <tr>\n",
       "      <th>1</th>\n",
       "      <td>038441c925bb</td>\n",
       "      <td>1</td>\n",
       "      <td>2018-08-14 19:30:05+00:00</td>\n",
       "      <td>2.6368</td>\n",
       "      <td>0.0215</td>\n",
       "      <td>2018-08-14</td>\n",
       "      <td>19:30:05</td>\n",
       "    </tr>\n",
       "    <tr>\n",
       "      <th>2</th>\n",
       "      <td>038441c925bb</td>\n",
       "      <td>2</td>\n",
       "      <td>2018-08-14 19:30:10+00:00</td>\n",
       "      <td>2.6370</td>\n",
       "      <td>0.0216</td>\n",
       "      <td>2018-08-14</td>\n",
       "      <td>19:30:10</td>\n",
       "    </tr>\n",
       "    <tr>\n",
       "      <th>3</th>\n",
       "      <td>038441c925bb</td>\n",
       "      <td>3</td>\n",
       "      <td>2018-08-14 19:30:15+00:00</td>\n",
       "      <td>2.6368</td>\n",
       "      <td>0.0213</td>\n",
       "      <td>2018-08-14</td>\n",
       "      <td>19:30:15</td>\n",
       "    </tr>\n",
       "    <tr>\n",
       "      <th>4</th>\n",
       "      <td>038441c925bb</td>\n",
       "      <td>4</td>\n",
       "      <td>2018-08-14 19:30:20+00:00</td>\n",
       "      <td>2.6368</td>\n",
       "      <td>0.0215</td>\n",
       "      <td>2018-08-14</td>\n",
       "      <td>19:30:20</td>\n",
       "    </tr>\n",
       "  </tbody>\n",
       "</table>\n",
       "</div>"
      ],
      "text/plain": [
       "      series_id  step                 timestamp  anglez    enmo        Date  \\\n",
       "0  038441c925bb     0 2018-08-14 19:30:00+00:00  2.6367  0.0217  2018-08-14   \n",
       "1  038441c925bb     1 2018-08-14 19:30:05+00:00  2.6368  0.0215  2018-08-14   \n",
       "2  038441c925bb     2 2018-08-14 19:30:10+00:00  2.6370  0.0216  2018-08-14   \n",
       "3  038441c925bb     3 2018-08-14 19:30:15+00:00  2.6368  0.0213  2018-08-14   \n",
       "4  038441c925bb     4 2018-08-14 19:30:20+00:00  2.6368  0.0215  2018-08-14   \n",
       "\n",
       "       Time  \n",
       "0  19:30:00  \n",
       "1  19:30:05  \n",
       "2  19:30:10  \n",
       "3  19:30:15  \n",
       "4  19:30:20  "
      ]
     },
     "execution_count": 7,
     "metadata": {},
     "output_type": "execute_result"
    }
   ],
   "source": [
    "test_series_DF_CP.head()"
   ]
  },
  {
   "cell_type": "code",
   "execution_count": 8,
   "id": "bd897fc9",
   "metadata": {
    "execution": {
     "iopub.execute_input": "2023-12-03T20:01:47.792272Z",
     "iopub.status.busy": "2023-12-03T20:01:47.791829Z",
     "iopub.status.idle": "2023-12-03T20:01:47.917222Z",
     "shell.execute_reply": "2023-12-03T20:01:47.916173Z"
    },
    "papermill": {
     "duration": 0.136615,
     "end_time": "2023-12-03T20:01:47.920038",
     "exception": false,
     "start_time": "2023-12-03T20:01:47.783423",
     "status": "completed"
    },
    "tags": []
   },
   "outputs": [],
   "source": [
    "test_series_DF_CP['NewDate'] = pd.to_datetime(test_series_DF_CP['Date'])\n",
    "# Create a new 'Season' column based on the month of each date\n",
    "test_series_DF_CP['Season'] = test_series_DF_CP['NewDate'].dt.month.map(lambda x: {3: 'Spring', 4: 'Spring', 5: 'Spring',\n",
    "                                                 6: 'Summer', 7: 'Summer', 8: 'Summer',\n",
    "                                                 9: 'Autumn', 10: 'Autumn', 11: 'Autumn',\n",
    "                                                 12: 'Winter', 1: 'Winter', 2: 'Winter'}.get(x))\n",
    "\n",
    "# Use get_dummies to one-hot encode the 'Season' column\n",
    "season_dummiesTest = test_series_DF_CP['Season'].apply(lambda x: pd.Series({x: 1}))\n",
    "test_series_DF_CP = pd.concat([test_series_DF_CP, season_dummiesTest], axis=1)\n"
   ]
  },
  {
   "cell_type": "code",
   "execution_count": 9,
   "id": "386cb95a",
   "metadata": {
    "execution": {
     "iopub.execute_input": "2023-12-03T20:01:47.934823Z",
     "iopub.status.busy": "2023-12-03T20:01:47.934372Z",
     "iopub.status.idle": "2023-12-03T20:01:47.951941Z",
     "shell.execute_reply": "2023-12-03T20:01:47.951147Z"
    },
    "papermill": {
     "duration": 0.027652,
     "end_time": "2023-12-03T20:01:47.954082",
     "exception": false,
     "start_time": "2023-12-03T20:01:47.926430",
     "status": "completed"
    },
    "tags": []
   },
   "outputs": [
    {
     "data": {
      "text/html": [
       "<div>\n",
       "<style scoped>\n",
       "    .dataframe tbody tr th:only-of-type {\n",
       "        vertical-align: middle;\n",
       "    }\n",
       "\n",
       "    .dataframe tbody tr th {\n",
       "        vertical-align: top;\n",
       "    }\n",
       "\n",
       "    .dataframe thead th {\n",
       "        text-align: right;\n",
       "    }\n",
       "</style>\n",
       "<table border=\"1\" class=\"dataframe\">\n",
       "  <thead>\n",
       "    <tr style=\"text-align: right;\">\n",
       "      <th></th>\n",
       "      <th>series_id</th>\n",
       "      <th>step</th>\n",
       "      <th>timestamp</th>\n",
       "      <th>anglez</th>\n",
       "      <th>enmo</th>\n",
       "      <th>Date</th>\n",
       "      <th>Time</th>\n",
       "      <th>NewDate</th>\n",
       "      <th>Season</th>\n",
       "      <th>Summer</th>\n",
       "      <th>Spring</th>\n",
       "      <th>Winter</th>\n",
       "    </tr>\n",
       "  </thead>\n",
       "  <tbody>\n",
       "    <tr>\n",
       "      <th>0</th>\n",
       "      <td>038441c925bb</td>\n",
       "      <td>0</td>\n",
       "      <td>2018-08-14 19:30:00+00:00</td>\n",
       "      <td>2.6367</td>\n",
       "      <td>0.0217</td>\n",
       "      <td>2018-08-14</td>\n",
       "      <td>19:30:00</td>\n",
       "      <td>2018-08-14</td>\n",
       "      <td>Summer</td>\n",
       "      <td>1.0</td>\n",
       "      <td>NaN</td>\n",
       "      <td>NaN</td>\n",
       "    </tr>\n",
       "    <tr>\n",
       "      <th>1</th>\n",
       "      <td>038441c925bb</td>\n",
       "      <td>1</td>\n",
       "      <td>2018-08-14 19:30:05+00:00</td>\n",
       "      <td>2.6368</td>\n",
       "      <td>0.0215</td>\n",
       "      <td>2018-08-14</td>\n",
       "      <td>19:30:05</td>\n",
       "      <td>2018-08-14</td>\n",
       "      <td>Summer</td>\n",
       "      <td>1.0</td>\n",
       "      <td>NaN</td>\n",
       "      <td>NaN</td>\n",
       "    </tr>\n",
       "    <tr>\n",
       "      <th>2</th>\n",
       "      <td>038441c925bb</td>\n",
       "      <td>2</td>\n",
       "      <td>2018-08-14 19:30:10+00:00</td>\n",
       "      <td>2.6370</td>\n",
       "      <td>0.0216</td>\n",
       "      <td>2018-08-14</td>\n",
       "      <td>19:30:10</td>\n",
       "      <td>2018-08-14</td>\n",
       "      <td>Summer</td>\n",
       "      <td>1.0</td>\n",
       "      <td>NaN</td>\n",
       "      <td>NaN</td>\n",
       "    </tr>\n",
       "    <tr>\n",
       "      <th>3</th>\n",
       "      <td>038441c925bb</td>\n",
       "      <td>3</td>\n",
       "      <td>2018-08-14 19:30:15+00:00</td>\n",
       "      <td>2.6368</td>\n",
       "      <td>0.0213</td>\n",
       "      <td>2018-08-14</td>\n",
       "      <td>19:30:15</td>\n",
       "      <td>2018-08-14</td>\n",
       "      <td>Summer</td>\n",
       "      <td>1.0</td>\n",
       "      <td>NaN</td>\n",
       "      <td>NaN</td>\n",
       "    </tr>\n",
       "    <tr>\n",
       "      <th>4</th>\n",
       "      <td>038441c925bb</td>\n",
       "      <td>4</td>\n",
       "      <td>2018-08-14 19:30:20+00:00</td>\n",
       "      <td>2.6368</td>\n",
       "      <td>0.0215</td>\n",
       "      <td>2018-08-14</td>\n",
       "      <td>19:30:20</td>\n",
       "      <td>2018-08-14</td>\n",
       "      <td>Summer</td>\n",
       "      <td>1.0</td>\n",
       "      <td>NaN</td>\n",
       "      <td>NaN</td>\n",
       "    </tr>\n",
       "  </tbody>\n",
       "</table>\n",
       "</div>"
      ],
      "text/plain": [
       "      series_id  step                 timestamp  anglez    enmo        Date  \\\n",
       "0  038441c925bb     0 2018-08-14 19:30:00+00:00  2.6367  0.0217  2018-08-14   \n",
       "1  038441c925bb     1 2018-08-14 19:30:05+00:00  2.6368  0.0215  2018-08-14   \n",
       "2  038441c925bb     2 2018-08-14 19:30:10+00:00  2.6370  0.0216  2018-08-14   \n",
       "3  038441c925bb     3 2018-08-14 19:30:15+00:00  2.6368  0.0213  2018-08-14   \n",
       "4  038441c925bb     4 2018-08-14 19:30:20+00:00  2.6368  0.0215  2018-08-14   \n",
       "\n",
       "       Time    NewDate  Season  Summer  Spring  Winter  \n",
       "0  19:30:00 2018-08-14  Summer     1.0     NaN     NaN  \n",
       "1  19:30:05 2018-08-14  Summer     1.0     NaN     NaN  \n",
       "2  19:30:10 2018-08-14  Summer     1.0     NaN     NaN  \n",
       "3  19:30:15 2018-08-14  Summer     1.0     NaN     NaN  \n",
       "4  19:30:20 2018-08-14  Summer     1.0     NaN     NaN  "
      ]
     },
     "execution_count": 9,
     "metadata": {},
     "output_type": "execute_result"
    }
   ],
   "source": [
    "test_series_DF_CP.head()"
   ]
  },
  {
   "cell_type": "code",
   "execution_count": 10,
   "id": "48d6e264",
   "metadata": {
    "execution": {
     "iopub.execute_input": "2023-12-03T20:01:47.971160Z",
     "iopub.status.busy": "2023-12-03T20:01:47.970217Z",
     "iopub.status.idle": "2023-12-03T20:01:47.985648Z",
     "shell.execute_reply": "2023-12-03T20:01:47.983138Z"
    },
    "papermill": {
     "duration": 0.028433,
     "end_time": "2023-12-03T20:01:47.989847",
     "exception": false,
     "start_time": "2023-12-03T20:01:47.961414",
     "status": "completed"
    },
    "tags": []
   },
   "outputs": [],
   "source": [
    "seasons=['Summer','Autumn','Spring','Winter']\n",
    "for season in seasons:\n",
    "    if season not in test_series_DF_CP.columns:\n",
    "        test_series_DF_CP[season]=float('nan')\n",
    "        \n",
    "        \n",
    "test_series_DF_CP['Date'] = pd.to_datetime(test_series_DF_CP['Date'])\n",
    "\n",
    "# Add a new column 'weekday' to the DataFrame\n",
    "test_series_DF_CP['weekday'] = test_series_DF_CP['Date'].dt.dayofweek\n",
    "\n",
    "# Map the weekdays to 1 and weekends to 0\n",
    "test_series_DF_CP['weekday'] = test_series_DF_CP['weekday'].apply(lambda x: 1 if x < 5 else 0)\n",
    "\n",
    "test_series_DF_CP['anglezScaled']=anglezScaler.transform(test_series_DF_CP['anglez'].values.reshape(-1, 1))\n",
    "test_series_DF_CP['enmoScaled']=anglezScaler.transform(test_series_DF_CP['enmo'].values.reshape(-1, 1))"
   ]
  },
  {
   "cell_type": "code",
   "execution_count": 11,
   "id": "32754659",
   "metadata": {
    "execution": {
     "iopub.execute_input": "2023-12-03T20:01:48.005607Z",
     "iopub.status.busy": "2023-12-03T20:01:48.005160Z",
     "iopub.status.idle": "2023-12-03T20:01:48.017893Z",
     "shell.execute_reply": "2023-12-03T20:01:48.015912Z"
    },
    "papermill": {
     "duration": 0.024367,
     "end_time": "2023-12-03T20:01:48.021244",
     "exception": false,
     "start_time": "2023-12-03T20:01:47.996877",
     "status": "completed"
    },
    "tags": []
   },
   "outputs": [
    {
     "data": {
      "text/plain": [
       "series_id         0\n",
       "step              0\n",
       "timestamp         0\n",
       "anglez            0\n",
       "enmo              0\n",
       "Date              0\n",
       "Time              0\n",
       "NewDate           0\n",
       "Season            0\n",
       "Summer          300\n",
       "Spring          300\n",
       "Winter          300\n",
       "Autumn          450\n",
       "weekday           0\n",
       "anglezScaled      0\n",
       "enmoScaled        0\n",
       "dtype: int64"
      ]
     },
     "execution_count": 11,
     "metadata": {},
     "output_type": "execute_result"
    }
   ],
   "source": [
    "test_series_DF_CP.isnull().sum()"
   ]
  },
  {
   "cell_type": "code",
   "execution_count": 12,
   "id": "5930214b",
   "metadata": {
    "execution": {
     "iopub.execute_input": "2023-12-03T20:01:48.037312Z",
     "iopub.status.busy": "2023-12-03T20:01:48.036738Z",
     "iopub.status.idle": "2023-12-03T20:01:48.050579Z",
     "shell.execute_reply": "2023-12-03T20:01:48.049139Z"
    },
    "papermill": {
     "duration": 0.02549,
     "end_time": "2023-12-03T20:01:48.053935",
     "exception": false,
     "start_time": "2023-12-03T20:01:48.028445",
     "status": "completed"
    },
    "tags": []
   },
   "outputs": [],
   "source": [
    "test_series_DF_CP['Date'] = pd.to_datetime(test_series_DF_CP['Date'])\n",
    "\n",
    "# Add a new column 'weekday' to the DataFrame\n",
    "test_series_DF_CP['weekday'] = test_series_DF_CP['Date'].dt.dayofweek\n",
    "\n",
    "# Map the weekdays to 1 and weekends to 0\n",
    "test_series_DF_CP['weekday'] = test_series_DF_CP['weekday'].apply(lambda x: 1 if x < 5 else 0)\n",
    "\n"
   ]
  },
  {
   "cell_type": "code",
   "execution_count": 13,
   "id": "fb42c48b",
   "metadata": {
    "execution": {
     "iopub.execute_input": "2023-12-03T20:01:48.069470Z",
     "iopub.status.busy": "2023-12-03T20:01:48.069029Z",
     "iopub.status.idle": "2023-12-03T20:01:48.078337Z",
     "shell.execute_reply": "2023-12-03T20:01:48.076768Z"
    },
    "papermill": {
     "duration": 0.020365,
     "end_time": "2023-12-03T20:01:48.081206",
     "exception": false,
     "start_time": "2023-12-03T20:01:48.060841",
     "status": "completed"
    },
    "tags": []
   },
   "outputs": [],
   "source": [
    "test_series_DF_CP['anglezScaled']=anglezScaler.transform(test_series_DF_CP['anglez'].values.reshape(-1, 1))\n",
    "test_series_DF_CP['enmoScaled']=anglezScaler.transform(test_series_DF_CP['enmo'].values.reshape(-1, 1))"
   ]
  },
  {
   "cell_type": "code",
   "execution_count": 14,
   "id": "7f956a1a",
   "metadata": {
    "execution": {
     "iopub.execute_input": "2023-12-03T20:01:48.096115Z",
     "iopub.status.busy": "2023-12-03T20:01:48.095647Z",
     "iopub.status.idle": "2023-12-03T20:01:48.112843Z",
     "shell.execute_reply": "2023-12-03T20:01:48.112075Z"
    },
    "papermill": {
     "duration": 0.02701,
     "end_time": "2023-12-03T20:01:48.115156",
     "exception": false,
     "start_time": "2023-12-03T20:01:48.088146",
     "status": "completed"
    },
    "tags": []
   },
   "outputs": [],
   "source": [
    "test_series_DF_CP['Time'] = pd.to_datetime(test_series_DF_CP['Time'], format='%H:%M:%S')\n",
    "\n",
    "#Extracting total seconds since midnight as a single feature\n",
    "test_series_DF_CP['time_in_seconds'] = test_series_DF_CP['Time'].dt.hour * 3600 + test_series_DF_CP['Time'].dt.minute * 60 + test_series_DF_CP['Time'].dt.second\n",
    "\n",
    "# Create empty columns for sin and cos\n",
    "test_series_DF_CP['sin_time'] = np.nan\n",
    "test_series_DF_CP['cos_time'] = np.nan\n",
    "\n",
    "# Calculating sin and cos of time_in_seconds\n",
    "test_series_DF_CP['sin_time'] = np.sin(2 * np.pi * test_series_DF_CP['time_in_seconds'] / 86400)  # 86400 seconds in a day\n",
    "test_series_DF_CP['cos_time'] = np.cos(2 * np.pi * test_series_DF_CP['time_in_seconds'] / 86400)"
   ]
  },
  {
   "cell_type": "code",
   "execution_count": 15,
   "id": "bf1bee0d",
   "metadata": {
    "execution": {
     "iopub.execute_input": "2023-12-03T20:01:48.131836Z",
     "iopub.status.busy": "2023-12-03T20:01:48.131429Z",
     "iopub.status.idle": "2023-12-03T20:01:48.135555Z",
     "shell.execute_reply": "2023-12-03T20:01:48.134813Z"
    },
    "papermill": {
     "duration": 0.015726,
     "end_time": "2023-12-03T20:01:48.137605",
     "exception": false,
     "start_time": "2023-12-03T20:01:48.121879",
     "status": "completed"
    },
    "tags": []
   },
   "outputs": [],
   "source": [
    "trainFeatures=['sin_time','cos_time','Summer','Autumn','Spring','Winter','anglezScaled','enmoScaled','weekday']"
   ]
  },
  {
   "cell_type": "code",
   "execution_count": 16,
   "id": "451ebea0",
   "metadata": {
    "execution": {
     "iopub.execute_input": "2023-12-03T20:01:48.154451Z",
     "iopub.status.busy": "2023-12-03T20:01:48.153711Z",
     "iopub.status.idle": "2023-12-03T20:01:48.502356Z",
     "shell.execute_reply": "2023-12-03T20:01:48.501172Z"
    },
    "papermill": {
     "duration": 0.360428,
     "end_time": "2023-12-03T20:01:48.505380",
     "exception": false,
     "start_time": "2023-12-03T20:01:48.144952",
     "status": "completed"
    },
    "tags": []
   },
   "outputs": [
    {
     "data": {
      "text/plain": [
       "90"
      ]
     },
     "execution_count": 16,
     "metadata": {},
     "output_type": "execute_result"
    }
   ],
   "source": [
    "X_train=trainDF[trainFeatures]\n",
    "y_train=labelEncoder.transform(trainDF['event'])\n",
    "X_test=test_series_DF_CP[trainFeatures]\n",
    "del trainDF\n",
    "del test_series_DF_CP\n",
    "gc.collect()"
   ]
  },
  {
   "cell_type": "code",
   "execution_count": 17,
   "id": "2856c674",
   "metadata": {
    "execution": {
     "iopub.execute_input": "2023-12-03T20:01:48.522213Z",
     "iopub.status.busy": "2023-12-03T20:01:48.521754Z",
     "iopub.status.idle": "2023-12-03T20:01:48.528096Z",
     "shell.execute_reply": "2023-12-03T20:01:48.527077Z"
    },
    "papermill": {
     "duration": 0.018193,
     "end_time": "2023-12-03T20:01:48.531069",
     "exception": false,
     "start_time": "2023-12-03T20:01:48.512876",
     "status": "completed"
    },
    "tags": []
   },
   "outputs": [],
   "source": [
    "bestParam={'colsample_bytree': 0.6456435938182042,\n",
    "    'gamma': 0.13694212934107353,\n",
    "    'learning_rate': 0.05291471499780669,\n",
    "    'max_depth': 3,\n",
    "    'n_estimators': 69,\n",
    "    'subsample': 0.9139826897166969}\n",
    "XGboostModel=XGBClassifier(**bestParam)"
   ]
  },
  {
   "cell_type": "code",
   "execution_count": 18,
   "id": "09f0e3c7",
   "metadata": {
    "execution": {
     "iopub.execute_input": "2023-12-03T20:01:48.548250Z",
     "iopub.status.busy": "2023-12-03T20:01:48.547762Z",
     "iopub.status.idle": "2023-12-03T20:01:51.193974Z",
     "shell.execute_reply": "2023-12-03T20:01:51.193069Z"
    },
    "papermill": {
     "duration": 2.657435,
     "end_time": "2023-12-03T20:01:51.196116",
     "exception": false,
     "start_time": "2023-12-03T20:01:48.538681",
     "status": "completed"
    },
    "tags": []
   },
   "outputs": [
    {
     "data": {
      "text/html": [
       "<style>#sk-container-id-1 {color: black;background-color: white;}#sk-container-id-1 pre{padding: 0;}#sk-container-id-1 div.sk-toggleable {background-color: white;}#sk-container-id-1 label.sk-toggleable__label {cursor: pointer;display: block;width: 100%;margin-bottom: 0;padding: 0.3em;box-sizing: border-box;text-align: center;}#sk-container-id-1 label.sk-toggleable__label-arrow:before {content: \"▸\";float: left;margin-right: 0.25em;color: #696969;}#sk-container-id-1 label.sk-toggleable__label-arrow:hover:before {color: black;}#sk-container-id-1 div.sk-estimator:hover label.sk-toggleable__label-arrow:before {color: black;}#sk-container-id-1 div.sk-toggleable__content {max-height: 0;max-width: 0;overflow: hidden;text-align: left;background-color: #f0f8ff;}#sk-container-id-1 div.sk-toggleable__content pre {margin: 0.2em;color: black;border-radius: 0.25em;background-color: #f0f8ff;}#sk-container-id-1 input.sk-toggleable__control:checked~div.sk-toggleable__content {max-height: 200px;max-width: 100%;overflow: auto;}#sk-container-id-1 input.sk-toggleable__control:checked~label.sk-toggleable__label-arrow:before {content: \"▾\";}#sk-container-id-1 div.sk-estimator input.sk-toggleable__control:checked~label.sk-toggleable__label {background-color: #d4ebff;}#sk-container-id-1 div.sk-label input.sk-toggleable__control:checked~label.sk-toggleable__label {background-color: #d4ebff;}#sk-container-id-1 input.sk-hidden--visually {border: 0;clip: rect(1px 1px 1px 1px);clip: rect(1px, 1px, 1px, 1px);height: 1px;margin: -1px;overflow: hidden;padding: 0;position: absolute;width: 1px;}#sk-container-id-1 div.sk-estimator {font-family: monospace;background-color: #f0f8ff;border: 1px dotted black;border-radius: 0.25em;box-sizing: border-box;margin-bottom: 0.5em;}#sk-container-id-1 div.sk-estimator:hover {background-color: #d4ebff;}#sk-container-id-1 div.sk-parallel-item::after {content: \"\";width: 100%;border-bottom: 1px solid gray;flex-grow: 1;}#sk-container-id-1 div.sk-label:hover label.sk-toggleable__label {background-color: #d4ebff;}#sk-container-id-1 div.sk-serial::before {content: \"\";position: absolute;border-left: 1px solid gray;box-sizing: border-box;top: 0;bottom: 0;left: 50%;z-index: 0;}#sk-container-id-1 div.sk-serial {display: flex;flex-direction: column;align-items: center;background-color: white;padding-right: 0.2em;padding-left: 0.2em;position: relative;}#sk-container-id-1 div.sk-item {position: relative;z-index: 1;}#sk-container-id-1 div.sk-parallel {display: flex;align-items: stretch;justify-content: center;background-color: white;position: relative;}#sk-container-id-1 div.sk-item::before, #sk-container-id-1 div.sk-parallel-item::before {content: \"\";position: absolute;border-left: 1px solid gray;box-sizing: border-box;top: 0;bottom: 0;left: 50%;z-index: -1;}#sk-container-id-1 div.sk-parallel-item {display: flex;flex-direction: column;z-index: 1;position: relative;background-color: white;}#sk-container-id-1 div.sk-parallel-item:first-child::after {align-self: flex-end;width: 50%;}#sk-container-id-1 div.sk-parallel-item:last-child::after {align-self: flex-start;width: 50%;}#sk-container-id-1 div.sk-parallel-item:only-child::after {width: 0;}#sk-container-id-1 div.sk-dashed-wrapped {border: 1px dashed gray;margin: 0 0.4em 0.5em 0.4em;box-sizing: border-box;padding-bottom: 0.4em;background-color: white;}#sk-container-id-1 div.sk-label label {font-family: monospace;font-weight: bold;display: inline-block;line-height: 1.2em;}#sk-container-id-1 div.sk-label-container {text-align: center;}#sk-container-id-1 div.sk-container {/* jupyter's `normalize.less` sets `[hidden] { display: none; }` but bootstrap.min.css set `[hidden] { display: none !important; }` so we also need the `!important` here to be able to override the default hidden behavior on the sphinx rendered scikit-learn.org. See: https://github.com/scikit-learn/scikit-learn/issues/21755 */display: inline-block !important;position: relative;}#sk-container-id-1 div.sk-text-repr-fallback {display: none;}</style><div id=\"sk-container-id-1\" class=\"sk-top-container\"><div class=\"sk-text-repr-fallback\"><pre>XGBClassifier(base_score=None, booster=None, callbacks=None,\n",
       "              colsample_bylevel=None, colsample_bynode=None,\n",
       "              colsample_bytree=0.6456435938182042, device=None,\n",
       "              early_stopping_rounds=None, enable_categorical=False,\n",
       "              eval_metric=None, feature_types=None, gamma=0.13694212934107353,\n",
       "              grow_policy=None, importance_type=None,\n",
       "              interaction_constraints=None, learning_rate=0.05291471499780669,\n",
       "              max_bin=None, max_cat_threshold=None, max_cat_to_onehot=None,\n",
       "              max_delta_step=None, max_depth=3, max_leaves=None,\n",
       "              min_child_weight=None, missing=nan, monotone_constraints=None,\n",
       "              multi_strategy=None, n_estimators=69, n_jobs=None,\n",
       "              num_parallel_tree=None, random_state=None, ...)</pre><b>In a Jupyter environment, please rerun this cell to show the HTML representation or trust the notebook. <br />On GitHub, the HTML representation is unable to render, please try loading this page with nbviewer.org.</b></div><div class=\"sk-container\" hidden><div class=\"sk-item\"><div class=\"sk-estimator sk-toggleable\"><input class=\"sk-toggleable__control sk-hidden--visually\" id=\"sk-estimator-id-1\" type=\"checkbox\" checked><label for=\"sk-estimator-id-1\" class=\"sk-toggleable__label sk-toggleable__label-arrow\">XGBClassifier</label><div class=\"sk-toggleable__content\"><pre>XGBClassifier(base_score=None, booster=None, callbacks=None,\n",
       "              colsample_bylevel=None, colsample_bynode=None,\n",
       "              colsample_bytree=0.6456435938182042, device=None,\n",
       "              early_stopping_rounds=None, enable_categorical=False,\n",
       "              eval_metric=None, feature_types=None, gamma=0.13694212934107353,\n",
       "              grow_policy=None, importance_type=None,\n",
       "              interaction_constraints=None, learning_rate=0.05291471499780669,\n",
       "              max_bin=None, max_cat_threshold=None, max_cat_to_onehot=None,\n",
       "              max_delta_step=None, max_depth=3, max_leaves=None,\n",
       "              min_child_weight=None, missing=nan, monotone_constraints=None,\n",
       "              multi_strategy=None, n_estimators=69, n_jobs=None,\n",
       "              num_parallel_tree=None, random_state=None, ...)</pre></div></div></div></div></div>"
      ],
      "text/plain": [
       "XGBClassifier(base_score=None, booster=None, callbacks=None,\n",
       "              colsample_bylevel=None, colsample_bynode=None,\n",
       "              colsample_bytree=0.6456435938182042, device=None,\n",
       "              early_stopping_rounds=None, enable_categorical=False,\n",
       "              eval_metric=None, feature_types=None, gamma=0.13694212934107353,\n",
       "              grow_policy=None, importance_type=None,\n",
       "              interaction_constraints=None, learning_rate=0.05291471499780669,\n",
       "              max_bin=None, max_cat_threshold=None, max_cat_to_onehot=None,\n",
       "              max_delta_step=None, max_depth=3, max_leaves=None,\n",
       "              min_child_weight=None, missing=nan, monotone_constraints=None,\n",
       "              multi_strategy=None, n_estimators=69, n_jobs=None,\n",
       "              num_parallel_tree=None, random_state=None, ...)"
      ]
     },
     "execution_count": 18,
     "metadata": {},
     "output_type": "execute_result"
    }
   ],
   "source": [
    "XGboostModel.fit(X_train,y_train)"
   ]
  },
  {
   "cell_type": "code",
   "execution_count": 19,
   "id": "578563a5",
   "metadata": {
    "execution": {
     "iopub.execute_input": "2023-12-03T20:01:51.212755Z",
     "iopub.status.busy": "2023-12-03T20:01:51.212313Z",
     "iopub.status.idle": "2023-12-03T20:01:51.226803Z",
     "shell.execute_reply": "2023-12-03T20:01:51.226067Z"
    },
    "papermill": {
     "duration": 0.028227,
     "end_time": "2023-12-03T20:01:51.231948",
     "exception": false,
     "start_time": "2023-12-03T20:01:51.203721",
     "status": "completed"
    },
    "tags": []
   },
   "outputs": [],
   "source": [
    "preditions=XGboostModel.predict(X_test)"
   ]
  },
  {
   "cell_type": "code",
   "execution_count": 20,
   "id": "75fc55ee",
   "metadata": {
    "execution": {
     "iopub.execute_input": "2023-12-03T20:01:51.248626Z",
     "iopub.status.busy": "2023-12-03T20:01:51.247557Z",
     "iopub.status.idle": "2023-12-03T20:01:51.253434Z",
     "shell.execute_reply": "2023-12-03T20:01:51.252267Z"
    },
    "papermill": {
     "duration": 0.016964,
     "end_time": "2023-12-03T20:01:51.256061",
     "exception": false,
     "start_time": "2023-12-03T20:01:51.239097",
     "status": "completed"
    },
    "tags": []
   },
   "outputs": [],
   "source": [
    "preditions_lables=labelEncoder.inverse_transform(preditions)"
   ]
  },
  {
   "cell_type": "code",
   "execution_count": 21,
   "id": "b550be01",
   "metadata": {
    "execution": {
     "iopub.execute_input": "2023-12-03T20:01:51.272444Z",
     "iopub.status.busy": "2023-12-03T20:01:51.271778Z",
     "iopub.status.idle": "2023-12-03T20:01:51.375444Z",
     "shell.execute_reply": "2023-12-03T20:01:51.374167Z"
    },
    "papermill": {
     "duration": 0.114862,
     "end_time": "2023-12-03T20:01:51.378185",
     "exception": false,
     "start_time": "2023-12-03T20:01:51.263323",
     "status": "completed"
    },
    "tags": []
   },
   "outputs": [
    {
     "data": {
      "text/plain": [
       "0"
      ]
     },
     "execution_count": 21,
     "metadata": {},
     "output_type": "execute_result"
    }
   ],
   "source": [
    "preditions_proba=XGboostModel.predict_proba(X_test)\n",
    "gc.collect()"
   ]
  },
  {
   "cell_type": "code",
   "execution_count": 22,
   "id": "2b58b09c",
   "metadata": {
    "execution": {
     "iopub.execute_input": "2023-12-03T20:01:51.394709Z",
     "iopub.status.busy": "2023-12-03T20:01:51.394265Z",
     "iopub.status.idle": "2023-12-03T20:01:51.403575Z",
     "shell.execute_reply": "2023-12-03T20:01:51.402168Z"
    },
    "papermill": {
     "duration": 0.021021,
     "end_time": "2023-12-03T20:01:51.406513",
     "exception": false,
     "start_time": "2023-12-03T20:01:51.385492",
     "status": "completed"
    },
    "tags": []
   },
   "outputs": [
    {
     "name": "stderr",
     "output_type": "stream",
     "text": [
      "/tmp/ipykernel_19/2627425699.py:2: SettingWithCopyWarning: \n",
      "A value is trying to be set on a copy of a slice from a DataFrame.\n",
      "Try using .loc[row_indexer,col_indexer] = value instead\n",
      "\n",
      "See the caveats in the documentation: https://pandas.pydata.org/pandas-docs/stable/user_guide/indexing.html#returning-a-view-versus-a-copy\n",
      "  submission['event']=preditions_lables\n",
      "/tmp/ipykernel_19/2627425699.py:3: SettingWithCopyWarning: \n",
      "A value is trying to be set on a copy of a slice from a DataFrame.\n",
      "Try using .loc[row_indexer,col_indexer] = value instead\n",
      "\n",
      "See the caveats in the documentation: https://pandas.pydata.org/pandas-docs/stable/user_guide/indexing.html#returning-a-view-versus-a-copy\n",
      "  submission['score']=preditions_proba[:,1]\n"
     ]
    }
   ],
   "source": [
    "submission=testDF[['series_id','step']]\n",
    "submission['event']=preditions_lables\n",
    "submission['score']=preditions_proba[:,1]"
   ]
  },
  {
   "cell_type": "code",
   "execution_count": 23,
   "id": "a1bf73d0",
   "metadata": {
    "execution": {
     "iopub.execute_input": "2023-12-03T20:01:51.422780Z",
     "iopub.status.busy": "2023-12-03T20:01:51.422367Z",
     "iopub.status.idle": "2023-12-03T20:01:51.430993Z",
     "shell.execute_reply": "2023-12-03T20:01:51.429252Z"
    },
    "papermill": {
     "duration": 0.019353,
     "end_time": "2023-12-03T20:01:51.433296",
     "exception": false,
     "start_time": "2023-12-03T20:01:51.413943",
     "status": "completed"
    },
    "tags": []
   },
   "outputs": [],
   "source": [
    "#submission = submission.sort_values(['series_id','step']).reset_index(drop=True)\n",
    "submission['row_id'] = submission.index.astype(int)\n",
    "submission = submission[['row_id','series_id','step','event','score']]\n",
    "#submission['score'] = submission['score'].fillna(submission['score'].mean())"
   ]
  },
  {
   "cell_type": "code",
   "execution_count": 24,
   "id": "abf6b97e",
   "metadata": {
    "execution": {
     "iopub.execute_input": "2023-12-03T20:01:51.450639Z",
     "iopub.status.busy": "2023-12-03T20:01:51.450223Z",
     "iopub.status.idle": "2023-12-03T20:01:51.459898Z",
     "shell.execute_reply": "2023-12-03T20:01:51.458442Z"
    },
    "papermill": {
     "duration": 0.021308,
     "end_time": "2023-12-03T20:01:51.462851",
     "exception": false,
     "start_time": "2023-12-03T20:01:51.441543",
     "status": "completed"
    },
    "tags": []
   },
   "outputs": [],
   "source": [
    "submission.to_csv('submission.csv')"
   ]
  },
  {
   "cell_type": "code",
   "execution_count": null,
   "id": "9b758018",
   "metadata": {
    "papermill": {
     "duration": 0.00983,
     "end_time": "2023-12-03T20:01:51.480357",
     "exception": false,
     "start_time": "2023-12-03T20:01:51.470527",
     "status": "completed"
    },
    "tags": []
   },
   "outputs": [],
   "source": []
  }
 ],
 "metadata": {
  "kaggle": {
   "accelerator": "none",
   "dataSources": [
    {
     "databundleVersionId": 6589269,
     "sourceId": 53666,
     "sourceType": "competition"
    },
    {
     "datasetId": 4101059,
     "sourceId": 7112181,
     "sourceType": "datasetVersion"
    },
    {
     "datasetId": 4101210,
     "sourceId": 7112383,
     "sourceType": "datasetVersion"
    }
   ],
   "dockerImageVersionId": 30587,
   "isGpuEnabled": false,
   "isInternetEnabled": false,
   "language": "python",
   "sourceType": "notebook"
  },
  "kernelspec": {
   "display_name": "Python 3",
   "language": "python",
   "name": "python3"
  },
  "language_info": {
   "codemirror_mode": {
    "name": "ipython",
    "version": 3
   },
   "file_extension": ".py",
   "mimetype": "text/x-python",
   "name": "python",
   "nbconvert_exporter": "python",
   "pygments_lexer": "ipython3",
   "version": "3.10.12"
  },
  "papermill": {
   "default_parameters": {},
   "duration": 15.189016,
   "end_time": "2023-12-03T20:01:52.112504",
   "environment_variables": {},
   "exception": null,
   "input_path": "__notebook__.ipynb",
   "output_path": "__notebook__.ipynb",
   "parameters": {},
   "start_time": "2023-12-03T20:01:36.923488",
   "version": "2.4.0"
  }
 },
 "nbformat": 4,
 "nbformat_minor": 5
}
