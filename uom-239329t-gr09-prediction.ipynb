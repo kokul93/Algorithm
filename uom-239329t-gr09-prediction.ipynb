{
 "cells": [
  {
   "cell_type": "code",
   "execution_count": 1,
   "id": "1d445083",
   "metadata": {
    "_cell_guid": "b1076dfc-b9ad-4769-8c92-a6c4dae69d19",
    "_uuid": "8f2839f25d086af736a60e9eeb907d3b93b6e0e5",
    "execution": {
     "iopub.execute_input": "2023-12-03T14:41:54.425929Z",
     "iopub.status.busy": "2023-12-03T14:41:54.425074Z",
     "iopub.status.idle": "2023-12-03T14:41:54.874222Z",
     "shell.execute_reply": "2023-12-03T14:41:54.872638Z"
    },
    "papermill": {
     "duration": 0.464261,
     "end_time": "2023-12-03T14:41:54.877569",
     "exception": false,
     "start_time": "2023-12-03T14:41:54.413308",
     "status": "completed"
    },
    "tags": []
   },
   "outputs": [
    {
     "name": "stdout",
     "output_type": "stream",
     "text": [
      "/kaggle/input/models/bestXGboost.pkl\n",
      "/kaggle/input/models/enmoScaler.pkl\n",
      "/kaggle/input/models/anglezScaler.pkl\n",
      "/kaggle/input/models/labelEncoder.pkl\n",
      "/kaggle/input/child-mind-institute-detect-sleep-states/train_series.parquet\n",
      "/kaggle/input/child-mind-institute-detect-sleep-states/sample_submission.csv\n",
      "/kaggle/input/child-mind-institute-detect-sleep-states/train_events.csv\n",
      "/kaggle/input/child-mind-institute-detect-sleep-states/test_series.parquet\n",
      "/kaggle/input/preprocesseddata/cropedTrainSeries3_2.csv\n"
     ]
    }
   ],
   "source": [
    "# This Python 3 environment comes with many helpful analytics libraries installed\n",
    "# It is defined by the kaggle/python Docker image: https://github.com/kaggle/docker-python\n",
    "# For example, here's several helpful packages to load\n",
    "\n",
    "import numpy as np # linear algebra\n",
    "import pandas as pd # data processing, CSV file I/O (e.g. pd.read_csv)\n",
    "\n",
    "# Input data files are available in the read-only \"../input/\" directory\n",
    "# For example, running this (by clicking run or pressing Shift+Enter) will list all files under the input directory\n",
    "\n",
    "import os\n",
    "for dirname, _, filenames in os.walk('/kaggle/input'):\n",
    "    for filename in filenames:\n",
    "        print(os.path.join(dirname, filename))\n",
    "\n",
    "# You can write up to 20GB to the current directory (/kaggle/working/) that gets preserved as output when you create a version using \"Save & Run All\" \n",
    "# You can also write temporary files to /kaggle/temp/, but they won't be saved outside of the current session"
   ]
  },
  {
   "cell_type": "code",
   "execution_count": 2,
   "id": "a0fb0048",
   "metadata": {
    "execution": {
     "iopub.execute_input": "2023-12-03T14:41:54.898702Z",
     "iopub.status.busy": "2023-12-03T14:41:54.898164Z",
     "iopub.status.idle": "2023-12-03T14:41:57.664803Z",
     "shell.execute_reply": "2023-12-03T14:41:57.663887Z"
    },
    "papermill": {
     "duration": 2.780225,
     "end_time": "2023-12-03T14:41:57.667318",
     "exception": false,
     "start_time": "2023-12-03T14:41:54.887093",
     "status": "completed"
    },
    "tags": []
   },
   "outputs": [],
   "source": [
    "import joblib\n",
    "import numpy as np\n",
    "from datetime import datetime as dt\n",
    "from datetime import timedelta\n",
    "from pathlib import Path\n",
    "from datetime import datetime\n",
    "from datetime import time as tm\n",
    "import pyarrow.parquet as pq\n",
    "\n",
    "#from tqdm import tqdm\n",
    "#from rich.progress import Progress\n",
    "#import swifter\n",
    "\n",
    "import dask.dataframe as dd\n",
    "from dask.diagnostics import ProgressBar\n",
    "from xgboost import XGBClassifier\n",
    "\n",
    "import polars as pl\n",
    "from matplotlib.dates import date2num\n",
    "from matplotlib import pyplot as plt\n",
    "from tqdm.auto import tqdm\n",
    "from io import StringIO\n",
    "\n",
    "from sklearn.preprocessing import MinMaxScaler"
   ]
  },
  {
   "cell_type": "code",
   "execution_count": 3,
   "id": "e4132162",
   "metadata": {
    "execution": {
     "iopub.execute_input": "2023-12-03T14:41:57.688467Z",
     "iopub.status.busy": "2023-12-03T14:41:57.687557Z",
     "iopub.status.idle": "2023-12-03T14:42:06.248933Z",
     "shell.execute_reply": "2023-12-03T14:42:06.247513Z"
    },
    "papermill": {
     "duration": 8.574884,
     "end_time": "2023-12-03T14:42:06.251749",
     "exception": false,
     "start_time": "2023-12-03T14:41:57.676865",
     "status": "completed"
    },
    "tags": []
   },
   "outputs": [],
   "source": [
    "XGboostModel=loaded_model = joblib.load('/kaggle/input/models/bestXGboost.pkl')\n",
    "labelEncoder=joblib.load('/kaggle/input/models/labelEncoder.pkl')\n",
    "enmoScaler=joblib.load('/kaggle/input/models/enmoScaler.pkl')\n",
    "anglezScaler=joblib.load('/kaggle/input/models/anglezScaler.pkl')\n",
    "testDF=pd.read_parquet('/kaggle/input/child-mind-institute-detect-sleep-states/test_series.parquet')\n",
    "trainDF=pd.read_csv('/kaggle/input/preprocesseddata/cropedTrainSeries3_2.csv')"
   ]
  },
  {
   "cell_type": "code",
   "execution_count": 4,
   "id": "3ce86d58",
   "metadata": {
    "execution": {
     "iopub.execute_input": "2023-12-03T14:42:06.272700Z",
     "iopub.status.busy": "2023-12-03T14:42:06.271853Z",
     "iopub.status.idle": "2023-12-03T14:42:06.277784Z",
     "shell.execute_reply": "2023-12-03T14:42:06.276322Z"
    },
    "papermill": {
     "duration": 0.01921,
     "end_time": "2023-12-03T14:42:06.280343",
     "exception": false,
     "start_time": "2023-12-03T14:42:06.261133",
     "status": "completed"
    },
    "tags": []
   },
   "outputs": [],
   "source": [
    "test_series_DF_CP=testDF.copy()"
   ]
  },
  {
   "cell_type": "code",
   "execution_count": 5,
   "id": "81b1291c",
   "metadata": {
    "execution": {
     "iopub.execute_input": "2023-12-03T14:42:06.301305Z",
     "iopub.status.busy": "2023-12-03T14:42:06.300847Z",
     "iopub.status.idle": "2023-12-03T14:42:06.318046Z",
     "shell.execute_reply": "2023-12-03T14:42:06.317074Z"
    },
    "papermill": {
     "duration": 0.030956,
     "end_time": "2023-12-03T14:42:06.320739",
     "exception": false,
     "start_time": "2023-12-03T14:42:06.289783",
     "status": "completed"
    },
    "tags": []
   },
   "outputs": [
    {
     "data": {
      "text/html": [
       "<div>\n",
       "<style scoped>\n",
       "    .dataframe tbody tr th:only-of-type {\n",
       "        vertical-align: middle;\n",
       "    }\n",
       "\n",
       "    .dataframe tbody tr th {\n",
       "        vertical-align: top;\n",
       "    }\n",
       "\n",
       "    .dataframe thead th {\n",
       "        text-align: right;\n",
       "    }\n",
       "</style>\n",
       "<table border=\"1\" class=\"dataframe\">\n",
       "  <thead>\n",
       "    <tr style=\"text-align: right;\">\n",
       "      <th></th>\n",
       "      <th>series_id</th>\n",
       "      <th>step</th>\n",
       "      <th>timestamp</th>\n",
       "      <th>anglez</th>\n",
       "      <th>enmo</th>\n",
       "    </tr>\n",
       "  </thead>\n",
       "  <tbody>\n",
       "    <tr>\n",
       "      <th>0</th>\n",
       "      <td>038441c925bb</td>\n",
       "      <td>0</td>\n",
       "      <td>2018-08-14T15:30:00-0400</td>\n",
       "      <td>2.6367</td>\n",
       "      <td>0.0217</td>\n",
       "    </tr>\n",
       "    <tr>\n",
       "      <th>1</th>\n",
       "      <td>038441c925bb</td>\n",
       "      <td>1</td>\n",
       "      <td>2018-08-14T15:30:05-0400</td>\n",
       "      <td>2.6368</td>\n",
       "      <td>0.0215</td>\n",
       "    </tr>\n",
       "    <tr>\n",
       "      <th>2</th>\n",
       "      <td>038441c925bb</td>\n",
       "      <td>2</td>\n",
       "      <td>2018-08-14T15:30:10-0400</td>\n",
       "      <td>2.6370</td>\n",
       "      <td>0.0216</td>\n",
       "    </tr>\n",
       "    <tr>\n",
       "      <th>3</th>\n",
       "      <td>038441c925bb</td>\n",
       "      <td>3</td>\n",
       "      <td>2018-08-14T15:30:15-0400</td>\n",
       "      <td>2.6368</td>\n",
       "      <td>0.0213</td>\n",
       "    </tr>\n",
       "    <tr>\n",
       "      <th>4</th>\n",
       "      <td>038441c925bb</td>\n",
       "      <td>4</td>\n",
       "      <td>2018-08-14T15:30:20-0400</td>\n",
       "      <td>2.6368</td>\n",
       "      <td>0.0215</td>\n",
       "    </tr>\n",
       "  </tbody>\n",
       "</table>\n",
       "</div>"
      ],
      "text/plain": [
       "      series_id  step                 timestamp  anglez    enmo\n",
       "0  038441c925bb     0  2018-08-14T15:30:00-0400  2.6367  0.0217\n",
       "1  038441c925bb     1  2018-08-14T15:30:05-0400  2.6368  0.0215\n",
       "2  038441c925bb     2  2018-08-14T15:30:10-0400  2.6370  0.0216\n",
       "3  038441c925bb     3  2018-08-14T15:30:15-0400  2.6368  0.0213\n",
       "4  038441c925bb     4  2018-08-14T15:30:20-0400  2.6368  0.0215"
      ]
     },
     "execution_count": 5,
     "metadata": {},
     "output_type": "execute_result"
    }
   ],
   "source": [
    "test_series_DF_CP.head()"
   ]
  },
  {
   "cell_type": "code",
   "execution_count": 6,
   "id": "3523d373",
   "metadata": {
    "execution": {
     "iopub.execute_input": "2023-12-03T14:42:06.342796Z",
     "iopub.status.busy": "2023-12-03T14:42:06.341989Z",
     "iopub.status.idle": "2023-12-03T14:42:06.377782Z",
     "shell.execute_reply": "2023-12-03T14:42:06.376621Z"
    },
    "papermill": {
     "duration": 0.049852,
     "end_time": "2023-12-03T14:42:06.380541",
     "exception": false,
     "start_time": "2023-12-03T14:42:06.330689",
     "status": "completed"
    },
    "tags": []
   },
   "outputs": [],
   "source": [
    "test_series_DF_CP['timestamp'] = pd.to_datetime(test_series_DF_CP['timestamp'],utc=True)\n",
    "test_series_DF_CP['Date'] = test_series_DF_CP['timestamp'].dt.date\n",
    "test_series_DF_CP['Time'] = test_series_DF_CP['timestamp'].dt.time"
   ]
  },
  {
   "cell_type": "code",
   "execution_count": 7,
   "id": "ea79a51e",
   "metadata": {
    "execution": {
     "iopub.execute_input": "2023-12-03T14:42:06.402152Z",
     "iopub.status.busy": "2023-12-03T14:42:06.401732Z",
     "iopub.status.idle": "2023-12-03T14:42:06.419141Z",
     "shell.execute_reply": "2023-12-03T14:42:06.417880Z"
    },
    "papermill": {
     "duration": 0.031376,
     "end_time": "2023-12-03T14:42:06.421723",
     "exception": false,
     "start_time": "2023-12-03T14:42:06.390347",
     "status": "completed"
    },
    "tags": []
   },
   "outputs": [
    {
     "data": {
      "text/html": [
       "<div>\n",
       "<style scoped>\n",
       "    .dataframe tbody tr th:only-of-type {\n",
       "        vertical-align: middle;\n",
       "    }\n",
       "\n",
       "    .dataframe tbody tr th {\n",
       "        vertical-align: top;\n",
       "    }\n",
       "\n",
       "    .dataframe thead th {\n",
       "        text-align: right;\n",
       "    }\n",
       "</style>\n",
       "<table border=\"1\" class=\"dataframe\">\n",
       "  <thead>\n",
       "    <tr style=\"text-align: right;\">\n",
       "      <th></th>\n",
       "      <th>series_id</th>\n",
       "      <th>step</th>\n",
       "      <th>timestamp</th>\n",
       "      <th>anglez</th>\n",
       "      <th>enmo</th>\n",
       "      <th>Date</th>\n",
       "      <th>Time</th>\n",
       "    </tr>\n",
       "  </thead>\n",
       "  <tbody>\n",
       "    <tr>\n",
       "      <th>0</th>\n",
       "      <td>038441c925bb</td>\n",
       "      <td>0</td>\n",
       "      <td>2018-08-14 19:30:00+00:00</td>\n",
       "      <td>2.6367</td>\n",
       "      <td>0.0217</td>\n",
       "      <td>2018-08-14</td>\n",
       "      <td>19:30:00</td>\n",
       "    </tr>\n",
       "    <tr>\n",
       "      <th>1</th>\n",
       "      <td>038441c925bb</td>\n",
       "      <td>1</td>\n",
       "      <td>2018-08-14 19:30:05+00:00</td>\n",
       "      <td>2.6368</td>\n",
       "      <td>0.0215</td>\n",
       "      <td>2018-08-14</td>\n",
       "      <td>19:30:05</td>\n",
       "    </tr>\n",
       "    <tr>\n",
       "      <th>2</th>\n",
       "      <td>038441c925bb</td>\n",
       "      <td>2</td>\n",
       "      <td>2018-08-14 19:30:10+00:00</td>\n",
       "      <td>2.6370</td>\n",
       "      <td>0.0216</td>\n",
       "      <td>2018-08-14</td>\n",
       "      <td>19:30:10</td>\n",
       "    </tr>\n",
       "    <tr>\n",
       "      <th>3</th>\n",
       "      <td>038441c925bb</td>\n",
       "      <td>3</td>\n",
       "      <td>2018-08-14 19:30:15+00:00</td>\n",
       "      <td>2.6368</td>\n",
       "      <td>0.0213</td>\n",
       "      <td>2018-08-14</td>\n",
       "      <td>19:30:15</td>\n",
       "    </tr>\n",
       "    <tr>\n",
       "      <th>4</th>\n",
       "      <td>038441c925bb</td>\n",
       "      <td>4</td>\n",
       "      <td>2018-08-14 19:30:20+00:00</td>\n",
       "      <td>2.6368</td>\n",
       "      <td>0.0215</td>\n",
       "      <td>2018-08-14</td>\n",
       "      <td>19:30:20</td>\n",
       "    </tr>\n",
       "  </tbody>\n",
       "</table>\n",
       "</div>"
      ],
      "text/plain": [
       "      series_id  step                 timestamp  anglez    enmo        Date  \\\n",
       "0  038441c925bb     0 2018-08-14 19:30:00+00:00  2.6367  0.0217  2018-08-14   \n",
       "1  038441c925bb     1 2018-08-14 19:30:05+00:00  2.6368  0.0215  2018-08-14   \n",
       "2  038441c925bb     2 2018-08-14 19:30:10+00:00  2.6370  0.0216  2018-08-14   \n",
       "3  038441c925bb     3 2018-08-14 19:30:15+00:00  2.6368  0.0213  2018-08-14   \n",
       "4  038441c925bb     4 2018-08-14 19:30:20+00:00  2.6368  0.0215  2018-08-14   \n",
       "\n",
       "       Time  \n",
       "0  19:30:00  \n",
       "1  19:30:05  \n",
       "2  19:30:10  \n",
       "3  19:30:15  \n",
       "4  19:30:20  "
      ]
     },
     "execution_count": 7,
     "metadata": {},
     "output_type": "execute_result"
    }
   ],
   "source": [
    "test_series_DF_CP.head()"
   ]
  },
  {
   "cell_type": "code",
   "execution_count": 8,
   "id": "b9440c0f",
   "metadata": {
    "execution": {
     "iopub.execute_input": "2023-12-03T14:42:06.443227Z",
     "iopub.status.busy": "2023-12-03T14:42:06.442849Z",
     "iopub.status.idle": "2023-12-03T14:42:06.591797Z",
     "shell.execute_reply": "2023-12-03T14:42:06.590475Z"
    },
    "papermill": {
     "duration": 0.163166,
     "end_time": "2023-12-03T14:42:06.594647",
     "exception": false,
     "start_time": "2023-12-03T14:42:06.431481",
     "status": "completed"
    },
    "tags": []
   },
   "outputs": [],
   "source": [
    "test_series_DF_CP['NewDate'] = pd.to_datetime(test_series_DF_CP['Date'])\n",
    "# Create a new 'Season' column based on the month of each date\n",
    "test_series_DF_CP['Season'] = test_series_DF_CP['NewDate'].dt.month.map(lambda x: {3: 'Spring', 4: 'Spring', 5: 'Spring',\n",
    "                                                 6: 'Summer', 7: 'Summer', 8: 'Summer',\n",
    "                                                 9: 'Autumn', 10: 'Autumn', 11: 'Autumn',\n",
    "                                                 12: 'Winter', 1: 'Winter', 2: 'Winter'}.get(x))\n",
    "\n",
    "# Use get_dummies to one-hot encode the 'Season' column\n",
    "season_dummiesTest = test_series_DF_CP['Season'].apply(lambda x: pd.Series({x: 1}))\n",
    "test_series_DF_CP = pd.concat([test_series_DF_CP, season_dummiesTest], axis=1)\n"
   ]
  },
  {
   "cell_type": "code",
   "execution_count": 9,
   "id": "a0a532e7",
   "metadata": {
    "execution": {
     "iopub.execute_input": "2023-12-03T14:42:06.616971Z",
     "iopub.status.busy": "2023-12-03T14:42:06.616534Z",
     "iopub.status.idle": "2023-12-03T14:42:06.638041Z",
     "shell.execute_reply": "2023-12-03T14:42:06.636713Z"
    },
    "papermill": {
     "duration": 0.036039,
     "end_time": "2023-12-03T14:42:06.640783",
     "exception": false,
     "start_time": "2023-12-03T14:42:06.604744",
     "status": "completed"
    },
    "tags": []
   },
   "outputs": [
    {
     "data": {
      "text/html": [
       "<div>\n",
       "<style scoped>\n",
       "    .dataframe tbody tr th:only-of-type {\n",
       "        vertical-align: middle;\n",
       "    }\n",
       "\n",
       "    .dataframe tbody tr th {\n",
       "        vertical-align: top;\n",
       "    }\n",
       "\n",
       "    .dataframe thead th {\n",
       "        text-align: right;\n",
       "    }\n",
       "</style>\n",
       "<table border=\"1\" class=\"dataframe\">\n",
       "  <thead>\n",
       "    <tr style=\"text-align: right;\">\n",
       "      <th></th>\n",
       "      <th>series_id</th>\n",
       "      <th>step</th>\n",
       "      <th>timestamp</th>\n",
       "      <th>anglez</th>\n",
       "      <th>enmo</th>\n",
       "      <th>Date</th>\n",
       "      <th>Time</th>\n",
       "      <th>NewDate</th>\n",
       "      <th>Season</th>\n",
       "      <th>Summer</th>\n",
       "      <th>Spring</th>\n",
       "      <th>Winter</th>\n",
       "    </tr>\n",
       "  </thead>\n",
       "  <tbody>\n",
       "    <tr>\n",
       "      <th>0</th>\n",
       "      <td>038441c925bb</td>\n",
       "      <td>0</td>\n",
       "      <td>2018-08-14 19:30:00+00:00</td>\n",
       "      <td>2.6367</td>\n",
       "      <td>0.0217</td>\n",
       "      <td>2018-08-14</td>\n",
       "      <td>19:30:00</td>\n",
       "      <td>2018-08-14</td>\n",
       "      <td>Summer</td>\n",
       "      <td>1.0</td>\n",
       "      <td>NaN</td>\n",
       "      <td>NaN</td>\n",
       "    </tr>\n",
       "    <tr>\n",
       "      <th>1</th>\n",
       "      <td>038441c925bb</td>\n",
       "      <td>1</td>\n",
       "      <td>2018-08-14 19:30:05+00:00</td>\n",
       "      <td>2.6368</td>\n",
       "      <td>0.0215</td>\n",
       "      <td>2018-08-14</td>\n",
       "      <td>19:30:05</td>\n",
       "      <td>2018-08-14</td>\n",
       "      <td>Summer</td>\n",
       "      <td>1.0</td>\n",
       "      <td>NaN</td>\n",
       "      <td>NaN</td>\n",
       "    </tr>\n",
       "    <tr>\n",
       "      <th>2</th>\n",
       "      <td>038441c925bb</td>\n",
       "      <td>2</td>\n",
       "      <td>2018-08-14 19:30:10+00:00</td>\n",
       "      <td>2.6370</td>\n",
       "      <td>0.0216</td>\n",
       "      <td>2018-08-14</td>\n",
       "      <td>19:30:10</td>\n",
       "      <td>2018-08-14</td>\n",
       "      <td>Summer</td>\n",
       "      <td>1.0</td>\n",
       "      <td>NaN</td>\n",
       "      <td>NaN</td>\n",
       "    </tr>\n",
       "    <tr>\n",
       "      <th>3</th>\n",
       "      <td>038441c925bb</td>\n",
       "      <td>3</td>\n",
       "      <td>2018-08-14 19:30:15+00:00</td>\n",
       "      <td>2.6368</td>\n",
       "      <td>0.0213</td>\n",
       "      <td>2018-08-14</td>\n",
       "      <td>19:30:15</td>\n",
       "      <td>2018-08-14</td>\n",
       "      <td>Summer</td>\n",
       "      <td>1.0</td>\n",
       "      <td>NaN</td>\n",
       "      <td>NaN</td>\n",
       "    </tr>\n",
       "    <tr>\n",
       "      <th>4</th>\n",
       "      <td>038441c925bb</td>\n",
       "      <td>4</td>\n",
       "      <td>2018-08-14 19:30:20+00:00</td>\n",
       "      <td>2.6368</td>\n",
       "      <td>0.0215</td>\n",
       "      <td>2018-08-14</td>\n",
       "      <td>19:30:20</td>\n",
       "      <td>2018-08-14</td>\n",
       "      <td>Summer</td>\n",
       "      <td>1.0</td>\n",
       "      <td>NaN</td>\n",
       "      <td>NaN</td>\n",
       "    </tr>\n",
       "  </tbody>\n",
       "</table>\n",
       "</div>"
      ],
      "text/plain": [
       "      series_id  step                 timestamp  anglez    enmo        Date  \\\n",
       "0  038441c925bb     0 2018-08-14 19:30:00+00:00  2.6367  0.0217  2018-08-14   \n",
       "1  038441c925bb     1 2018-08-14 19:30:05+00:00  2.6368  0.0215  2018-08-14   \n",
       "2  038441c925bb     2 2018-08-14 19:30:10+00:00  2.6370  0.0216  2018-08-14   \n",
       "3  038441c925bb     3 2018-08-14 19:30:15+00:00  2.6368  0.0213  2018-08-14   \n",
       "4  038441c925bb     4 2018-08-14 19:30:20+00:00  2.6368  0.0215  2018-08-14   \n",
       "\n",
       "       Time    NewDate  Season  Summer  Spring  Winter  \n",
       "0  19:30:00 2018-08-14  Summer     1.0     NaN     NaN  \n",
       "1  19:30:05 2018-08-14  Summer     1.0     NaN     NaN  \n",
       "2  19:30:10 2018-08-14  Summer     1.0     NaN     NaN  \n",
       "3  19:30:15 2018-08-14  Summer     1.0     NaN     NaN  \n",
       "4  19:30:20 2018-08-14  Summer     1.0     NaN     NaN  "
      ]
     },
     "execution_count": 9,
     "metadata": {},
     "output_type": "execute_result"
    }
   ],
   "source": [
    "test_series_DF_CP.head()"
   ]
  },
  {
   "cell_type": "code",
   "execution_count": 10,
   "id": "9248f464",
   "metadata": {
    "execution": {
     "iopub.execute_input": "2023-12-03T14:42:06.663499Z",
     "iopub.status.busy": "2023-12-03T14:42:06.663065Z",
     "iopub.status.idle": "2023-12-03T14:42:06.678416Z",
     "shell.execute_reply": "2023-12-03T14:42:06.677531Z"
    },
    "papermill": {
     "duration": 0.029256,
     "end_time": "2023-12-03T14:42:06.680722",
     "exception": false,
     "start_time": "2023-12-03T14:42:06.651466",
     "status": "completed"
    },
    "tags": []
   },
   "outputs": [],
   "source": [
    "seasons=['Summer','Autumn','Spring','Winter']\n",
    "for season in seasons:\n",
    "    if season not in test_series_DF_CP.columns:\n",
    "        test_series_DF_CP[season]=float('nan')\n",
    "        \n",
    "        \n",
    "test_series_DF_CP['Date'] = pd.to_datetime(test_series_DF_CP['Date'])\n",
    "\n",
    "# Add a new column 'weekday' to the DataFrame\n",
    "test_series_DF_CP['weekday'] = test_series_DF_CP['Date'].dt.dayofweek\n",
    "\n",
    "# Map the weekdays to 1 and weekends to 0\n",
    "test_series_DF_CP['weekday'] = test_series_DF_CP['weekday'].apply(lambda x: 1 if x < 5 else 0)\n",
    "\n",
    "test_series_DF_CP['anglezScaled']=anglezScaler.transform(test_series_DF_CP['anglez'].values.reshape(-1, 1))\n",
    "test_series_DF_CP['enmoScaled']=anglezScaler.transform(test_series_DF_CP['enmo'].values.reshape(-1, 1))"
   ]
  },
  {
   "cell_type": "code",
   "execution_count": 11,
   "id": "0189dcd2",
   "metadata": {
    "execution": {
     "iopub.execute_input": "2023-12-03T14:42:06.702698Z",
     "iopub.status.busy": "2023-12-03T14:42:06.702268Z",
     "iopub.status.idle": "2023-12-03T14:42:06.713037Z",
     "shell.execute_reply": "2023-12-03T14:42:06.711908Z"
    },
    "papermill": {
     "duration": 0.024746,
     "end_time": "2023-12-03T14:42:06.715569",
     "exception": false,
     "start_time": "2023-12-03T14:42:06.690823",
     "status": "completed"
    },
    "tags": []
   },
   "outputs": [
    {
     "data": {
      "text/plain": [
       "series_id         0\n",
       "step              0\n",
       "timestamp         0\n",
       "anglez            0\n",
       "enmo              0\n",
       "Date              0\n",
       "Time              0\n",
       "NewDate           0\n",
       "Season            0\n",
       "Summer          300\n",
       "Spring          300\n",
       "Winter          300\n",
       "Autumn          450\n",
       "weekday           0\n",
       "anglezScaled      0\n",
       "enmoScaled        0\n",
       "dtype: int64"
      ]
     },
     "execution_count": 11,
     "metadata": {},
     "output_type": "execute_result"
    }
   ],
   "source": [
    "test_series_DF_CP.isnull().sum()"
   ]
  },
  {
   "cell_type": "code",
   "execution_count": 12,
   "id": "85681599",
   "metadata": {
    "execution": {
     "iopub.execute_input": "2023-12-03T14:42:06.738922Z",
     "iopub.status.busy": "2023-12-03T14:42:06.738511Z",
     "iopub.status.idle": "2023-12-03T14:42:06.751030Z",
     "shell.execute_reply": "2023-12-03T14:42:06.749851Z"
    },
    "papermill": {
     "duration": 0.026824,
     "end_time": "2023-12-03T14:42:06.753325",
     "exception": false,
     "start_time": "2023-12-03T14:42:06.726501",
     "status": "completed"
    },
    "tags": []
   },
   "outputs": [],
   "source": [
    "test_series_DF_CP['Date'] = pd.to_datetime(test_series_DF_CP['Date'])\n",
    "\n",
    "# Add a new column 'weekday' to the DataFrame\n",
    "test_series_DF_CP['weekday'] = test_series_DF_CP['Date'].dt.dayofweek\n",
    "\n",
    "# Map the weekdays to 1 and weekends to 0\n",
    "test_series_DF_CP['weekday'] = test_series_DF_CP['weekday'].apply(lambda x: 1 if x < 5 else 0)\n",
    "\n"
   ]
  },
  {
   "cell_type": "code",
   "execution_count": 13,
   "id": "d85c984b",
   "metadata": {
    "execution": {
     "iopub.execute_input": "2023-12-03T14:42:06.775943Z",
     "iopub.status.busy": "2023-12-03T14:42:06.775511Z",
     "iopub.status.idle": "2023-12-03T14:42:06.782759Z",
     "shell.execute_reply": "2023-12-03T14:42:06.781496Z"
    },
    "papermill": {
     "duration": 0.021642,
     "end_time": "2023-12-03T14:42:06.785302",
     "exception": false,
     "start_time": "2023-12-03T14:42:06.763660",
     "status": "completed"
    },
    "tags": []
   },
   "outputs": [],
   "source": [
    "test_series_DF_CP['anglezScaled']=anglezScaler.transform(test_series_DF_CP['anglez'].values.reshape(-1, 1))\n",
    "test_series_DF_CP['enmoScaled']=anglezScaler.transform(test_series_DF_CP['enmo'].values.reshape(-1, 1))"
   ]
  },
  {
   "cell_type": "code",
   "execution_count": 14,
   "id": "5df38a10",
   "metadata": {
    "execution": {
     "iopub.execute_input": "2023-12-03T14:42:06.807853Z",
     "iopub.status.busy": "2023-12-03T14:42:06.807466Z",
     "iopub.status.idle": "2023-12-03T14:42:06.829045Z",
     "shell.execute_reply": "2023-12-03T14:42:06.827222Z"
    },
    "papermill": {
     "duration": 0.03599,
     "end_time": "2023-12-03T14:42:06.831756",
     "exception": false,
     "start_time": "2023-12-03T14:42:06.795766",
     "status": "completed"
    },
    "tags": []
   },
   "outputs": [],
   "source": [
    "test_series_DF_CP['Time'] = pd.to_datetime(test_series_DF_CP['Time'], format='%H:%M:%S')\n",
    "\n",
    "#Extracting total seconds since midnight as a single feature\n",
    "test_series_DF_CP['time_in_seconds'] = test_series_DF_CP['Time'].dt.hour * 3600 + test_series_DF_CP['Time'].dt.minute * 60 + test_series_DF_CP['Time'].dt.second\n",
    "\n",
    "# Create empty columns for sin and cos\n",
    "test_series_DF_CP['sin_time'] = np.nan\n",
    "test_series_DF_CP['cos_time'] = np.nan\n",
    "\n",
    "# Calculating sin and cos of time_in_seconds\n",
    "test_series_DF_CP['sin_time'] = np.sin(2 * np.pi * test_series_DF_CP['time_in_seconds'] / 86400)  # 86400 seconds in a day\n",
    "test_series_DF_CP['cos_time'] = np.cos(2 * np.pi * test_series_DF_CP['time_in_seconds'] / 86400)"
   ]
  },
  {
   "cell_type": "code",
   "execution_count": 15,
   "id": "4f714611",
   "metadata": {
    "execution": {
     "iopub.execute_input": "2023-12-03T14:42:06.854635Z",
     "iopub.status.busy": "2023-12-03T14:42:06.854190Z",
     "iopub.status.idle": "2023-12-03T14:42:06.859723Z",
     "shell.execute_reply": "2023-12-03T14:42:06.858577Z"
    },
    "papermill": {
     "duration": 0.020186,
     "end_time": "2023-12-03T14:42:06.862230",
     "exception": false,
     "start_time": "2023-12-03T14:42:06.842044",
     "status": "completed"
    },
    "tags": []
   },
   "outputs": [],
   "source": [
    "trainFeatures=['sin_time','cos_time','Summer','Autumn','Spring','Winter','anglezScaled','enmoScaled','weekday']"
   ]
  },
  {
   "cell_type": "code",
   "execution_count": 16,
   "id": "41ba9ea5",
   "metadata": {
    "execution": {
     "iopub.execute_input": "2023-12-03T14:42:06.885598Z",
     "iopub.status.busy": "2023-12-03T14:42:06.885124Z",
     "iopub.status.idle": "2023-12-03T14:42:07.229063Z",
     "shell.execute_reply": "2023-12-03T14:42:07.227752Z"
    },
    "papermill": {
     "duration": 0.358974,
     "end_time": "2023-12-03T14:42:07.232141",
     "exception": false,
     "start_time": "2023-12-03T14:42:06.873167",
     "status": "completed"
    },
    "tags": []
   },
   "outputs": [],
   "source": [
    "X_train=trainDF[trainFeatures]\n",
    "y_train=labelEncoder.transform(trainDF['event'])\n",
    "X_test=test_series_DF_CP[trainFeatures]\n"
   ]
  },
  {
   "cell_type": "code",
   "execution_count": 17,
   "id": "c2153217",
   "metadata": {
    "execution": {
     "iopub.execute_input": "2023-12-03T14:42:07.255060Z",
     "iopub.status.busy": "2023-12-03T14:42:07.254623Z",
     "iopub.status.idle": "2023-12-03T14:42:07.270259Z",
     "shell.execute_reply": "2023-12-03T14:42:07.268845Z"
    },
    "papermill": {
     "duration": 0.030169,
     "end_time": "2023-12-03T14:42:07.273093",
     "exception": false,
     "start_time": "2023-12-03T14:42:07.242924",
     "status": "completed"
    },
    "tags": []
   },
   "outputs": [
    {
     "data": {
      "text/html": [
       "<style>#sk-container-id-1 {color: black;background-color: white;}#sk-container-id-1 pre{padding: 0;}#sk-container-id-1 div.sk-toggleable {background-color: white;}#sk-container-id-1 label.sk-toggleable__label {cursor: pointer;display: block;width: 100%;margin-bottom: 0;padding: 0.3em;box-sizing: border-box;text-align: center;}#sk-container-id-1 label.sk-toggleable__label-arrow:before {content: \"▸\";float: left;margin-right: 0.25em;color: #696969;}#sk-container-id-1 label.sk-toggleable__label-arrow:hover:before {color: black;}#sk-container-id-1 div.sk-estimator:hover label.sk-toggleable__label-arrow:before {color: black;}#sk-container-id-1 div.sk-toggleable__content {max-height: 0;max-width: 0;overflow: hidden;text-align: left;background-color: #f0f8ff;}#sk-container-id-1 div.sk-toggleable__content pre {margin: 0.2em;color: black;border-radius: 0.25em;background-color: #f0f8ff;}#sk-container-id-1 input.sk-toggleable__control:checked~div.sk-toggleable__content {max-height: 200px;max-width: 100%;overflow: auto;}#sk-container-id-1 input.sk-toggleable__control:checked~label.sk-toggleable__label-arrow:before {content: \"▾\";}#sk-container-id-1 div.sk-estimator input.sk-toggleable__control:checked~label.sk-toggleable__label {background-color: #d4ebff;}#sk-container-id-1 div.sk-label input.sk-toggleable__control:checked~label.sk-toggleable__label {background-color: #d4ebff;}#sk-container-id-1 input.sk-hidden--visually {border: 0;clip: rect(1px 1px 1px 1px);clip: rect(1px, 1px, 1px, 1px);height: 1px;margin: -1px;overflow: hidden;padding: 0;position: absolute;width: 1px;}#sk-container-id-1 div.sk-estimator {font-family: monospace;background-color: #f0f8ff;border: 1px dotted black;border-radius: 0.25em;box-sizing: border-box;margin-bottom: 0.5em;}#sk-container-id-1 div.sk-estimator:hover {background-color: #d4ebff;}#sk-container-id-1 div.sk-parallel-item::after {content: \"\";width: 100%;border-bottom: 1px solid gray;flex-grow: 1;}#sk-container-id-1 div.sk-label:hover label.sk-toggleable__label {background-color: #d4ebff;}#sk-container-id-1 div.sk-serial::before {content: \"\";position: absolute;border-left: 1px solid gray;box-sizing: border-box;top: 0;bottom: 0;left: 50%;z-index: 0;}#sk-container-id-1 div.sk-serial {display: flex;flex-direction: column;align-items: center;background-color: white;padding-right: 0.2em;padding-left: 0.2em;position: relative;}#sk-container-id-1 div.sk-item {position: relative;z-index: 1;}#sk-container-id-1 div.sk-parallel {display: flex;align-items: stretch;justify-content: center;background-color: white;position: relative;}#sk-container-id-1 div.sk-item::before, #sk-container-id-1 div.sk-parallel-item::before {content: \"\";position: absolute;border-left: 1px solid gray;box-sizing: border-box;top: 0;bottom: 0;left: 50%;z-index: -1;}#sk-container-id-1 div.sk-parallel-item {display: flex;flex-direction: column;z-index: 1;position: relative;background-color: white;}#sk-container-id-1 div.sk-parallel-item:first-child::after {align-self: flex-end;width: 50%;}#sk-container-id-1 div.sk-parallel-item:last-child::after {align-self: flex-start;width: 50%;}#sk-container-id-1 div.sk-parallel-item:only-child::after {width: 0;}#sk-container-id-1 div.sk-dashed-wrapped {border: 1px dashed gray;margin: 0 0.4em 0.5em 0.4em;box-sizing: border-box;padding-bottom: 0.4em;background-color: white;}#sk-container-id-1 div.sk-label label {font-family: monospace;font-weight: bold;display: inline-block;line-height: 1.2em;}#sk-container-id-1 div.sk-label-container {text-align: center;}#sk-container-id-1 div.sk-container {/* jupyter's `normalize.less` sets `[hidden] { display: none; }` but bootstrap.min.css set `[hidden] { display: none !important; }` so we also need the `!important` here to be able to override the default hidden behavior on the sphinx rendered scikit-learn.org. See: https://github.com/scikit-learn/scikit-learn/issues/21755 */display: inline-block !important;position: relative;}#sk-container-id-1 div.sk-text-repr-fallback {display: none;}</style><div id=\"sk-container-id-1\" class=\"sk-top-container\"><div class=\"sk-text-repr-fallback\"><pre>XGBClassifier(base_score=None, booster=None, callbacks=None,\n",
       "              colsample_bylevel=None, colsample_bynode=None,\n",
       "              colsample_bytree=0.6456435938182042, device=None,\n",
       "              early_stopping_rounds=None, enable_categorical=False,\n",
       "              eval_metric=None, feature_types=None, gamma=0.13694212934107353,\n",
       "              grow_policy=None, importance_type=None,\n",
       "              interaction_constraints=None, learning_rate=0.05291471499780669,\n",
       "              max_bin=None, max_cat_threshold=None, max_cat_to_onehot=None,\n",
       "              max_delta_step=None, max_depth=3, max_leaves=None,\n",
       "              min_child_weight=None, missing=nan, monotone_constraints=None,\n",
       "              multi_strategy=None, n_estimators=69, n_jobs=None,\n",
       "              num_parallel_tree=None, random_state=None, ...)</pre><b>In a Jupyter environment, please rerun this cell to show the HTML representation or trust the notebook. <br />On GitHub, the HTML representation is unable to render, please try loading this page with nbviewer.org.</b></div><div class=\"sk-container\" hidden><div class=\"sk-item\"><div class=\"sk-estimator sk-toggleable\"><input class=\"sk-toggleable__control sk-hidden--visually\" id=\"sk-estimator-id-1\" type=\"checkbox\" checked><label for=\"sk-estimator-id-1\" class=\"sk-toggleable__label sk-toggleable__label-arrow\">XGBClassifier</label><div class=\"sk-toggleable__content\"><pre>XGBClassifier(base_score=None, booster=None, callbacks=None,\n",
       "              colsample_bylevel=None, colsample_bynode=None,\n",
       "              colsample_bytree=0.6456435938182042, device=None,\n",
       "              early_stopping_rounds=None, enable_categorical=False,\n",
       "              eval_metric=None, feature_types=None, gamma=0.13694212934107353,\n",
       "              grow_policy=None, importance_type=None,\n",
       "              interaction_constraints=None, learning_rate=0.05291471499780669,\n",
       "              max_bin=None, max_cat_threshold=None, max_cat_to_onehot=None,\n",
       "              max_delta_step=None, max_depth=3, max_leaves=None,\n",
       "              min_child_weight=None, missing=nan, monotone_constraints=None,\n",
       "              multi_strategy=None, n_estimators=69, n_jobs=None,\n",
       "              num_parallel_tree=None, random_state=None, ...)</pre></div></div></div></div></div>"
      ],
      "text/plain": [
       "XGBClassifier(base_score=None, booster=None, callbacks=None,\n",
       "              colsample_bylevel=None, colsample_bynode=None,\n",
       "              colsample_bytree=0.6456435938182042, device=None,\n",
       "              early_stopping_rounds=None, enable_categorical=False,\n",
       "              eval_metric=None, feature_types=None, gamma=0.13694212934107353,\n",
       "              grow_policy=None, importance_type=None,\n",
       "              interaction_constraints=None, learning_rate=0.05291471499780669,\n",
       "              max_bin=None, max_cat_threshold=None, max_cat_to_onehot=None,\n",
       "              max_delta_step=None, max_depth=3, max_leaves=None,\n",
       "              min_child_weight=None, missing=nan, monotone_constraints=None,\n",
       "              multi_strategy=None, n_estimators=69, n_jobs=None,\n",
       "              num_parallel_tree=None, random_state=None, ...)"
      ]
     },
     "execution_count": 17,
     "metadata": {},
     "output_type": "execute_result"
    }
   ],
   "source": [
    "bestParam={'colsample_bytree': 0.6456435938182042,\n",
    "    'gamma': 0.13694212934107353,\n",
    "    'learning_rate': 0.05291471499780669,\n",
    "    'max_depth': 3,\n",
    "    'n_estimators': 69,\n",
    "    'subsample': 0.9139826897166969}\n",
    "XGboostModel=XGBClassifier(**bestParam)\n",
    "XGboostModel"
   ]
  },
  {
   "cell_type": "code",
   "execution_count": 18,
   "id": "d982dcfb",
   "metadata": {
    "execution": {
     "iopub.execute_input": "2023-12-03T14:42:07.297262Z",
     "iopub.status.busy": "2023-12-03T14:42:07.296855Z",
     "iopub.status.idle": "2023-12-03T14:42:11.007550Z",
     "shell.execute_reply": "2023-12-03T14:42:11.006313Z"
    },
    "papermill": {
     "duration": 3.726045,
     "end_time": "2023-12-03T14:42:11.010082",
     "exception": false,
     "start_time": "2023-12-03T14:42:07.284037",
     "status": "completed"
    },
    "tags": []
   },
   "outputs": [
    {
     "data": {
      "text/html": [
       "<style>#sk-container-id-2 {color: black;background-color: white;}#sk-container-id-2 pre{padding: 0;}#sk-container-id-2 div.sk-toggleable {background-color: white;}#sk-container-id-2 label.sk-toggleable__label {cursor: pointer;display: block;width: 100%;margin-bottom: 0;padding: 0.3em;box-sizing: border-box;text-align: center;}#sk-container-id-2 label.sk-toggleable__label-arrow:before {content: \"▸\";float: left;margin-right: 0.25em;color: #696969;}#sk-container-id-2 label.sk-toggleable__label-arrow:hover:before {color: black;}#sk-container-id-2 div.sk-estimator:hover label.sk-toggleable__label-arrow:before {color: black;}#sk-container-id-2 div.sk-toggleable__content {max-height: 0;max-width: 0;overflow: hidden;text-align: left;background-color: #f0f8ff;}#sk-container-id-2 div.sk-toggleable__content pre {margin: 0.2em;color: black;border-radius: 0.25em;background-color: #f0f8ff;}#sk-container-id-2 input.sk-toggleable__control:checked~div.sk-toggleable__content {max-height: 200px;max-width: 100%;overflow: auto;}#sk-container-id-2 input.sk-toggleable__control:checked~label.sk-toggleable__label-arrow:before {content: \"▾\";}#sk-container-id-2 div.sk-estimator input.sk-toggleable__control:checked~label.sk-toggleable__label {background-color: #d4ebff;}#sk-container-id-2 div.sk-label input.sk-toggleable__control:checked~label.sk-toggleable__label {background-color: #d4ebff;}#sk-container-id-2 input.sk-hidden--visually {border: 0;clip: rect(1px 1px 1px 1px);clip: rect(1px, 1px, 1px, 1px);height: 1px;margin: -1px;overflow: hidden;padding: 0;position: absolute;width: 1px;}#sk-container-id-2 div.sk-estimator {font-family: monospace;background-color: #f0f8ff;border: 1px dotted black;border-radius: 0.25em;box-sizing: border-box;margin-bottom: 0.5em;}#sk-container-id-2 div.sk-estimator:hover {background-color: #d4ebff;}#sk-container-id-2 div.sk-parallel-item::after {content: \"\";width: 100%;border-bottom: 1px solid gray;flex-grow: 1;}#sk-container-id-2 div.sk-label:hover label.sk-toggleable__label {background-color: #d4ebff;}#sk-container-id-2 div.sk-serial::before {content: \"\";position: absolute;border-left: 1px solid gray;box-sizing: border-box;top: 0;bottom: 0;left: 50%;z-index: 0;}#sk-container-id-2 div.sk-serial {display: flex;flex-direction: column;align-items: center;background-color: white;padding-right: 0.2em;padding-left: 0.2em;position: relative;}#sk-container-id-2 div.sk-item {position: relative;z-index: 1;}#sk-container-id-2 div.sk-parallel {display: flex;align-items: stretch;justify-content: center;background-color: white;position: relative;}#sk-container-id-2 div.sk-item::before, #sk-container-id-2 div.sk-parallel-item::before {content: \"\";position: absolute;border-left: 1px solid gray;box-sizing: border-box;top: 0;bottom: 0;left: 50%;z-index: -1;}#sk-container-id-2 div.sk-parallel-item {display: flex;flex-direction: column;z-index: 1;position: relative;background-color: white;}#sk-container-id-2 div.sk-parallel-item:first-child::after {align-self: flex-end;width: 50%;}#sk-container-id-2 div.sk-parallel-item:last-child::after {align-self: flex-start;width: 50%;}#sk-container-id-2 div.sk-parallel-item:only-child::after {width: 0;}#sk-container-id-2 div.sk-dashed-wrapped {border: 1px dashed gray;margin: 0 0.4em 0.5em 0.4em;box-sizing: border-box;padding-bottom: 0.4em;background-color: white;}#sk-container-id-2 div.sk-label label {font-family: monospace;font-weight: bold;display: inline-block;line-height: 1.2em;}#sk-container-id-2 div.sk-label-container {text-align: center;}#sk-container-id-2 div.sk-container {/* jupyter's `normalize.less` sets `[hidden] { display: none; }` but bootstrap.min.css set `[hidden] { display: none !important; }` so we also need the `!important` here to be able to override the default hidden behavior on the sphinx rendered scikit-learn.org. See: https://github.com/scikit-learn/scikit-learn/issues/21755 */display: inline-block !important;position: relative;}#sk-container-id-2 div.sk-text-repr-fallback {display: none;}</style><div id=\"sk-container-id-2\" class=\"sk-top-container\"><div class=\"sk-text-repr-fallback\"><pre>XGBClassifier(base_score=None, booster=None, callbacks=None,\n",
       "              colsample_bylevel=None, colsample_bynode=None,\n",
       "              colsample_bytree=0.6456435938182042, device=None,\n",
       "              early_stopping_rounds=None, enable_categorical=False,\n",
       "              eval_metric=None, feature_types=None, gamma=0.13694212934107353,\n",
       "              grow_policy=None, importance_type=None,\n",
       "              interaction_constraints=None, learning_rate=0.05291471499780669,\n",
       "              max_bin=None, max_cat_threshold=None, max_cat_to_onehot=None,\n",
       "              max_delta_step=None, max_depth=3, max_leaves=None,\n",
       "              min_child_weight=None, missing=nan, monotone_constraints=None,\n",
       "              multi_strategy=None, n_estimators=69, n_jobs=None,\n",
       "              num_parallel_tree=None, random_state=None, ...)</pre><b>In a Jupyter environment, please rerun this cell to show the HTML representation or trust the notebook. <br />On GitHub, the HTML representation is unable to render, please try loading this page with nbviewer.org.</b></div><div class=\"sk-container\" hidden><div class=\"sk-item\"><div class=\"sk-estimator sk-toggleable\"><input class=\"sk-toggleable__control sk-hidden--visually\" id=\"sk-estimator-id-2\" type=\"checkbox\" checked><label for=\"sk-estimator-id-2\" class=\"sk-toggleable__label sk-toggleable__label-arrow\">XGBClassifier</label><div class=\"sk-toggleable__content\"><pre>XGBClassifier(base_score=None, booster=None, callbacks=None,\n",
       "              colsample_bylevel=None, colsample_bynode=None,\n",
       "              colsample_bytree=0.6456435938182042, device=None,\n",
       "              early_stopping_rounds=None, enable_categorical=False,\n",
       "              eval_metric=None, feature_types=None, gamma=0.13694212934107353,\n",
       "              grow_policy=None, importance_type=None,\n",
       "              interaction_constraints=None, learning_rate=0.05291471499780669,\n",
       "              max_bin=None, max_cat_threshold=None, max_cat_to_onehot=None,\n",
       "              max_delta_step=None, max_depth=3, max_leaves=None,\n",
       "              min_child_weight=None, missing=nan, monotone_constraints=None,\n",
       "              multi_strategy=None, n_estimators=69, n_jobs=None,\n",
       "              num_parallel_tree=None, random_state=None, ...)</pre></div></div></div></div></div>"
      ],
      "text/plain": [
       "XGBClassifier(base_score=None, booster=None, callbacks=None,\n",
       "              colsample_bylevel=None, colsample_bynode=None,\n",
       "              colsample_bytree=0.6456435938182042, device=None,\n",
       "              early_stopping_rounds=None, enable_categorical=False,\n",
       "              eval_metric=None, feature_types=None, gamma=0.13694212934107353,\n",
       "              grow_policy=None, importance_type=None,\n",
       "              interaction_constraints=None, learning_rate=0.05291471499780669,\n",
       "              max_bin=None, max_cat_threshold=None, max_cat_to_onehot=None,\n",
       "              max_delta_step=None, max_depth=3, max_leaves=None,\n",
       "              min_child_weight=None, missing=nan, monotone_constraints=None,\n",
       "              multi_strategy=None, n_estimators=69, n_jobs=None,\n",
       "              num_parallel_tree=None, random_state=None, ...)"
      ]
     },
     "execution_count": 18,
     "metadata": {},
     "output_type": "execute_result"
    }
   ],
   "source": [
    "XGboostModel.fit(X_train,y_train)"
   ]
  },
  {
   "cell_type": "code",
   "execution_count": 19,
   "id": "48f1d156",
   "metadata": {
    "execution": {
     "iopub.execute_input": "2023-12-03T14:42:11.033908Z",
     "iopub.status.busy": "2023-12-03T14:42:11.033461Z",
     "iopub.status.idle": "2023-12-03T14:42:11.053417Z",
     "shell.execute_reply": "2023-12-03T14:42:11.052467Z"
    },
    "papermill": {
     "duration": 0.035112,
     "end_time": "2023-12-03T14:42:11.056253",
     "exception": false,
     "start_time": "2023-12-03T14:42:11.021141",
     "status": "completed"
    },
    "tags": []
   },
   "outputs": [
    {
     "data": {
      "text/plain": [
       "array([1, 1, 1, 1, 1, 1, 1, 1, 1, 1, 1, 1, 1, 1, 1, 1, 1, 1, 1, 1, 1, 1,\n",
       "       1, 1, 1, 1, 1, 1, 1, 1, 1, 1, 1, 1, 1, 1, 1, 1, 1, 1, 1, 0, 0, 0,\n",
       "       0, 0, 0, 0, 0, 0, 0, 0, 0, 0, 0, 0, 0, 0, 0, 0, 0, 0, 0, 0, 0, 0,\n",
       "       0, 0, 0, 0, 0, 0, 0, 0, 0, 0, 0, 0, 0, 0, 0, 0, 0, 0, 0, 0, 0, 0,\n",
       "       0, 0, 0, 0, 0, 0, 0, 0, 0, 0, 0, 0, 0, 0, 0, 0, 0, 0, 0, 0, 0, 0,\n",
       "       0, 0, 0, 0, 0, 0, 0, 0, 0, 0, 0, 0, 0, 0, 0, 0, 0, 0, 0, 0, 0, 0,\n",
       "       0, 0, 0, 0, 0, 0, 0, 0, 0, 0, 0, 0, 0, 0, 0, 0, 0, 0, 1, 1, 1, 1,\n",
       "       1, 1, 1, 1, 1, 1, 1, 1, 1, 1, 1, 1, 1, 1, 1, 1, 1, 1, 1, 1, 1, 1,\n",
       "       1, 1, 1, 1, 1, 1, 1, 1, 1, 1, 1, 1, 1, 1, 1, 1, 1, 1, 1, 1, 1, 1,\n",
       "       1, 1, 1, 1, 1, 1, 1, 1, 1, 1, 1, 1, 1, 1, 1, 1, 1, 1, 1, 1, 1, 1,\n",
       "       1, 1, 1, 1, 1, 1, 1, 1, 1, 1, 1, 1, 1, 1, 1, 1, 1, 1, 1, 1, 1, 1,\n",
       "       1, 1, 1, 1, 1, 1, 1, 1, 1, 1, 1, 1, 1, 1, 1, 1, 1, 1, 1, 1, 1, 1,\n",
       "       1, 1, 1, 1, 1, 1, 1, 1, 1, 1, 1, 1, 1, 1, 1, 1, 1, 1, 1, 1, 1, 1,\n",
       "       1, 1, 1, 1, 1, 1, 1, 1, 1, 1, 1, 1, 1, 1, 1, 1, 1, 1, 1, 1, 1, 1,\n",
       "       1, 1, 1, 1, 1, 1, 1, 1, 1, 1, 1, 1, 1, 1, 1, 1, 1, 1, 1, 1, 1, 1,\n",
       "       1, 1, 1, 1, 1, 1, 1, 1, 1, 1, 1, 1, 1, 1, 1, 1, 1, 1, 1, 1, 1, 1,\n",
       "       1, 1, 1, 1, 1, 1, 1, 1, 1, 1, 1, 1, 1, 1, 1, 1, 1, 1, 1, 1, 1, 1,\n",
       "       1, 1, 1, 1, 1, 1, 1, 1, 1, 1, 1, 1, 1, 1, 1, 1, 1, 1, 1, 1, 1, 1,\n",
       "       1, 1, 1, 1, 1, 1, 1, 1, 1, 1, 1, 1, 1, 1, 1, 1, 1, 1, 1, 1, 1, 1,\n",
       "       1, 1, 1, 1, 1, 1, 1, 1, 1, 1, 1, 1, 1, 1, 1, 1, 1, 1, 1, 1, 1, 1,\n",
       "       1, 1, 1, 1, 1, 1, 1, 1, 1, 1])"
      ]
     },
     "execution_count": 19,
     "metadata": {},
     "output_type": "execute_result"
    }
   ],
   "source": [
    "preditions=XGboostModel.predict(X_test)\n",
    "preditions"
   ]
  },
  {
   "cell_type": "code",
   "execution_count": 20,
   "id": "d71f25da",
   "metadata": {
    "execution": {
     "iopub.execute_input": "2023-12-03T14:42:11.080808Z",
     "iopub.status.busy": "2023-12-03T14:42:11.080373Z",
     "iopub.status.idle": "2023-12-03T14:42:11.086031Z",
     "shell.execute_reply": "2023-12-03T14:42:11.084811Z"
    },
    "papermill": {
     "duration": 0.021505,
     "end_time": "2023-12-03T14:42:11.089417",
     "exception": false,
     "start_time": "2023-12-03T14:42:11.067912",
     "status": "completed"
    },
    "tags": []
   },
   "outputs": [],
   "source": [
    "preditions_lables=labelEncoder.inverse_transform(preditions)"
   ]
  },
  {
   "cell_type": "code",
   "execution_count": 21,
   "id": "cf680fdf",
   "metadata": {
    "execution": {
     "iopub.execute_input": "2023-12-03T14:42:11.113642Z",
     "iopub.status.busy": "2023-12-03T14:42:11.113201Z",
     "iopub.status.idle": "2023-12-03T14:42:11.126256Z",
     "shell.execute_reply": "2023-12-03T14:42:11.125341Z"
    },
    "papermill": {
     "duration": 0.028487,
     "end_time": "2023-12-03T14:42:11.129153",
     "exception": false,
     "start_time": "2023-12-03T14:42:11.100666",
     "status": "completed"
    },
    "tags": []
   },
   "outputs": [],
   "source": [
    "preditions_proba=XGboostModel.predict_proba(X_test)"
   ]
  },
  {
   "cell_type": "code",
   "execution_count": 22,
   "id": "d14881e2",
   "metadata": {
    "execution": {
     "iopub.execute_input": "2023-12-03T14:42:11.154520Z",
     "iopub.status.busy": "2023-12-03T14:42:11.154088Z",
     "iopub.status.idle": "2023-12-03T14:42:11.166921Z",
     "shell.execute_reply": "2023-12-03T14:42:11.165815Z"
    },
    "papermill": {
     "duration": 0.027229,
     "end_time": "2023-12-03T14:42:11.169217",
     "exception": false,
     "start_time": "2023-12-03T14:42:11.141988",
     "status": "completed"
    },
    "tags": []
   },
   "outputs": [
    {
     "data": {
      "text/plain": [
       "array([0.61886716, 0.61438   , 0.61886716, 0.61438   , 0.61438   ,\n",
       "       0.61886716, 0.60515946, 0.60515946, 0.61247087, 0.59158194,\n",
       "       0.61247087, 0.59158194, 0.59158194, 0.58698785, 0.58698785,\n",
       "       0.58698785, 0.58698785, 0.59158194, 0.6766625 , 0.5464629 ,\n",
       "       0.5464629 , 0.552663  , 0.6053921 , 0.5399968 , 0.5399968 ,\n",
       "       0.5399968 , 0.5399968 , 0.7257042 , 0.50486374, 0.50486374,\n",
       "       0.50486374, 0.50486374, 0.50486374, 0.50486374, 0.50486374,\n",
       "       0.50486374, 0.50486374, 0.50486374, 0.50486374, 0.50486374,\n",
       "       0.50486374, 0.48311132, 0.48311132, 0.48311132, 0.48311132,\n",
       "       0.48311132, 0.48311132, 0.48311132, 0.48311132, 0.48311132,\n",
       "       0.48311132, 0.48311132, 0.48311132, 0.48311132, 0.48311132,\n",
       "       0.48311132, 0.48311132, 0.48311132, 0.48311132, 0.48311132,\n",
       "       0.48311132, 0.48311132, 0.48311132, 0.48311132, 0.48311132,\n",
       "       0.48311132, 0.48311132, 0.48311132, 0.48311132, 0.48311132,\n",
       "       0.48311132, 0.48311132, 0.48311132, 0.48311132, 0.48311132,\n",
       "       0.48311132, 0.48311132, 0.48311132, 0.48311132, 0.48311132,\n",
       "       0.48311132, 0.48311132, 0.48311132, 0.48311132, 0.48311132,\n",
       "       0.48311132, 0.48311132, 0.48311132, 0.48311132, 0.48311132,\n",
       "       0.48311132, 0.48311132, 0.48311132, 0.48311132, 0.48311132,\n",
       "       0.48311132, 0.48311132, 0.48311132, 0.48311132, 0.48311132,\n",
       "       0.48311132, 0.48311132, 0.48311132, 0.48311132, 0.48311132,\n",
       "       0.48311132, 0.48311132, 0.48311132, 0.48311132, 0.46525568,\n",
       "       0.46525568, 0.46525568, 0.46525568, 0.46525568, 0.46525568,\n",
       "       0.46525568, 0.46525568, 0.46525568, 0.46525568, 0.46525568,\n",
       "       0.46525568, 0.46525568, 0.46525568, 0.46525568, 0.46525568,\n",
       "       0.46525568, 0.46525568, 0.46525568, 0.46525568, 0.46525568,\n",
       "       0.46525568, 0.46525568, 0.46525568, 0.46525568, 0.46525568,\n",
       "       0.46525568, 0.46525568, 0.46525568, 0.46525568, 0.46525568,\n",
       "       0.46525568, 0.46525568, 0.46525568, 0.45703954, 0.45703954,\n",
       "       0.45703954, 0.45703954, 0.45703954, 0.45703954, 0.45703954,\n",
       "       0.94867164, 0.94867164, 0.94867164, 0.94652617, 0.94437623,\n",
       "       0.94652617, 0.94652617, 0.94652617, 0.94652617, 0.94824255,\n",
       "       0.9321128 , 0.9321128 , 0.9315402 , 0.9315402 , 0.9315402 ,\n",
       "       0.9315402 , 0.934788  , 0.934788  , 0.934788  , 0.9353354 ,\n",
       "       0.94640803, 0.9470497 , 0.94893485, 0.93191814, 0.93191814,\n",
       "       0.93191814, 0.93191814, 0.93238366, 0.93238366, 0.93238366,\n",
       "       0.93238366, 0.93238366, 0.93238366, 0.93238366, 0.93238366,\n",
       "       0.93238366, 0.93238366, 0.9261721 , 0.9261721 , 0.9261721 ,\n",
       "       0.9261721 , 0.9261721 , 0.9261721 , 0.9261721 , 0.9261721 ,\n",
       "       0.9261721 , 0.9261721 , 0.9261721 , 0.9261721 , 0.927605  ,\n",
       "       0.927605  , 0.927605  , 0.927605  , 0.927605  , 0.927605  ,\n",
       "       0.927605  , 0.927605  , 0.927605  , 0.927605  , 0.927605  ,\n",
       "       0.927605  , 0.927605  , 0.927605  , 0.927605  , 0.927605  ,\n",
       "       0.927605  , 0.927605  , 0.927605  , 0.927605  , 0.927605  ,\n",
       "       0.927605  , 0.927605  , 0.927605  , 0.927605  , 0.927605  ,\n",
       "       0.927605  , 0.927605  , 0.927605  , 0.927605  , 0.927605  ,\n",
       "       0.927605  , 0.927605  , 0.927605  , 0.93055254, 0.93055254,\n",
       "       0.93055254, 0.93055254, 0.93055254, 0.93055254, 0.93055254,\n",
       "       0.93055254, 0.93055254, 0.93055254, 0.93055254, 0.93055254,\n",
       "       0.93055254, 0.93055254, 0.93055254, 0.93055254, 0.93055254,\n",
       "       0.93055254, 0.93055254, 0.93055254, 0.93055254, 0.93055254,\n",
       "       0.93055254, 0.93055254, 0.93055254, 0.93055254, 0.93055254,\n",
       "       0.93055254, 0.93055254, 0.93055254, 0.93055254, 0.93055254,\n",
       "       0.93055254, 0.93055254, 0.93055254, 0.93055254, 0.93055254,\n",
       "       0.93055254, 0.93055254, 0.93055254, 0.93055254, 0.93055254,\n",
       "       0.93055254, 0.93055254, 0.93055254, 0.93055254, 0.93055254,\n",
       "       0.93055254, 0.93055254, 0.93055254, 0.93055254, 0.93055254,\n",
       "       0.93055254, 0.93055254, 0.93055254, 0.93055254, 0.93055254,\n",
       "       0.93055254, 0.93055254, 0.93055254, 0.93055254, 0.93055254,\n",
       "       0.93055254, 0.93055254, 0.93055254, 0.93055254, 0.93055254,\n",
       "       0.9182398 , 0.9000287 , 0.917002  , 0.917002  , 0.93098646,\n",
       "       0.92893034, 0.9333214 , 0.9333214 , 0.9333214 , 0.92654014,\n",
       "       0.89831525, 0.89831525, 0.89831525, 0.92084086, 0.9342182 ,\n",
       "       0.91806203, 0.9333214 , 0.89831525, 0.8948925 , 0.8948925 ,\n",
       "       0.93098646, 0.9333214 , 0.917002  , 0.917002  , 0.9189446 ,\n",
       "       0.89278454, 0.89831525, 0.9333214 , 0.917002  , 0.9000287 ,\n",
       "       0.93225133, 0.9313297 , 0.9135957 , 0.91977113, 0.92654014,\n",
       "       0.917002  , 0.9189446 , 0.917002  , 0.9333214 , 0.93053424,\n",
       "       0.9281018 , 0.9281018 , 0.93053424, 0.89278454, 0.91743696,\n",
       "       0.9000287 , 0.89748955, 0.89748955, 0.92726946, 0.92654014,\n",
       "       0.8966744 , 0.89831525, 0.93053424, 0.8725878 , 0.8725878 ,\n",
       "       0.8725878 , 0.8725878 , 0.8725878 , 0.8725878 , 0.92084086,\n",
       "       0.9182398 , 0.8964847 , 0.91087127, 0.9189446 , 0.917002  ,\n",
       "       0.9189446 , 0.91806203, 0.93098646, 0.93225133, 0.8920159 ,\n",
       "       0.91076833, 0.917002  , 0.90128213, 0.917002  , 0.9000287 ,\n",
       "       0.9000287 , 0.9014924 , 0.9182398 , 0.917002  , 0.91806203,\n",
       "       0.8966744 , 0.9023263 , 0.90584546, 0.917002  , 0.90584546,\n",
       "       0.9333214 , 0.932475  , 0.9342182 , 0.9342182 , 0.9342182 ,\n",
       "       0.8994824 , 0.93098646, 0.9333214 , 0.932475  , 0.9299872 ,\n",
       "       0.89831525, 0.8806682 , 0.9189446 , 0.917002  , 0.89890957,\n",
       "       0.92654014, 0.908023  , 0.89831525, 0.917002  , 0.917002  ,\n",
       "       0.90584546, 0.8913189 , 0.9189446 , 0.8768908 , 0.9052431 ,\n",
       "       0.9000287 , 0.9000287 , 0.9014924 , 0.9014924 , 0.9000287 ,\n",
       "       0.917002  , 0.9000287 , 0.877023  , 0.88852745, 0.9000287 ,\n",
       "       0.89890957, 0.88852745, 0.9014924 , 0.90723276, 0.89898133,\n",
       "       0.89898133, 0.90723276, 0.9182398 , 0.917002  , 0.92311305,\n",
       "       0.9196706 , 0.9196706 , 0.93450725, 0.93450725, 0.9285026 ,\n",
       "       0.9017442 , 0.9042422 , 0.87661386, 0.93450725, 0.93450725,\n",
       "       0.93450725, 0.9322107 , 0.9305702 , 0.9264318 , 0.89460987,\n",
       "       0.9184526 , 0.9040066 , 0.92700404, 0.9029784 , 0.90005696],\n",
       "      dtype=float32)"
      ]
     },
     "execution_count": 22,
     "metadata": {},
     "output_type": "execute_result"
    }
   ],
   "source": [
    "preditions_proba[:,1]"
   ]
  },
  {
   "cell_type": "code",
   "execution_count": 23,
   "id": "cb272ab5",
   "metadata": {
    "execution": {
     "iopub.execute_input": "2023-12-03T14:42:11.193869Z",
     "iopub.status.busy": "2023-12-03T14:42:11.193454Z",
     "iopub.status.idle": "2023-12-03T14:42:11.202355Z",
     "shell.execute_reply": "2023-12-03T14:42:11.201264Z"
    },
    "papermill": {
     "duration": 0.02428,
     "end_time": "2023-12-03T14:42:11.205112",
     "exception": false,
     "start_time": "2023-12-03T14:42:11.180832",
     "status": "completed"
    },
    "tags": []
   },
   "outputs": [
    {
     "name": "stderr",
     "output_type": "stream",
     "text": [
      "/tmp/ipykernel_19/2627425699.py:2: SettingWithCopyWarning: \n",
      "A value is trying to be set on a copy of a slice from a DataFrame.\n",
      "Try using .loc[row_indexer,col_indexer] = value instead\n",
      "\n",
      "See the caveats in the documentation: https://pandas.pydata.org/pandas-docs/stable/user_guide/indexing.html#returning-a-view-versus-a-copy\n",
      "  submission['event']=preditions_lables\n",
      "/tmp/ipykernel_19/2627425699.py:3: SettingWithCopyWarning: \n",
      "A value is trying to be set on a copy of a slice from a DataFrame.\n",
      "Try using .loc[row_indexer,col_indexer] = value instead\n",
      "\n",
      "See the caveats in the documentation: https://pandas.pydata.org/pandas-docs/stable/user_guide/indexing.html#returning-a-view-versus-a-copy\n",
      "  submission['score']=preditions_proba[:,1]\n"
     ]
    }
   ],
   "source": [
    "submission=testDF[['series_id','step']]\n",
    "submission['event']=preditions_lables\n",
    "submission['score']=preditions_proba[:,1]"
   ]
  },
  {
   "cell_type": "code",
   "execution_count": 24,
   "id": "edd2fae7",
   "metadata": {
    "execution": {
     "iopub.execute_input": "2023-12-03T14:42:11.230516Z",
     "iopub.status.busy": "2023-12-03T14:42:11.230052Z",
     "iopub.status.idle": "2023-12-03T14:42:11.238160Z",
     "shell.execute_reply": "2023-12-03T14:42:11.237303Z"
    },
    "papermill": {
     "duration": 0.024045,
     "end_time": "2023-12-03T14:42:11.240656",
     "exception": false,
     "start_time": "2023-12-03T14:42:11.216611",
     "status": "completed"
    },
    "tags": []
   },
   "outputs": [],
   "source": [
    "#submission = submission.sort_values(['series_id','step']).reset_index(drop=True)\n",
    "submission['row_id'] = submission.index.astype(int)\n",
    "submission = submission[['row_id','series_id','step','event','score']]\n",
    "#submission['score'] = submission['score'].fillna(submission['score'].mean())"
   ]
  },
  {
   "cell_type": "code",
   "execution_count": 25,
   "id": "324a6624",
   "metadata": {
    "execution": {
     "iopub.execute_input": "2023-12-03T14:42:11.266623Z",
     "iopub.status.busy": "2023-12-03T14:42:11.265315Z",
     "iopub.status.idle": "2023-12-03T14:42:11.281872Z",
     "shell.execute_reply": "2023-12-03T14:42:11.280716Z"
    },
    "papermill": {
     "duration": 0.032499,
     "end_time": "2023-12-03T14:42:11.284505",
     "exception": false,
     "start_time": "2023-12-03T14:42:11.252006",
     "status": "completed"
    },
    "tags": []
   },
   "outputs": [
    {
     "data": {
      "text/html": [
       "<div>\n",
       "<style scoped>\n",
       "    .dataframe tbody tr th:only-of-type {\n",
       "        vertical-align: middle;\n",
       "    }\n",
       "\n",
       "    .dataframe tbody tr th {\n",
       "        vertical-align: top;\n",
       "    }\n",
       "\n",
       "    .dataframe thead th {\n",
       "        text-align: right;\n",
       "    }\n",
       "</style>\n",
       "<table border=\"1\" class=\"dataframe\">\n",
       "  <thead>\n",
       "    <tr style=\"text-align: right;\">\n",
       "      <th></th>\n",
       "      <th>row_id</th>\n",
       "      <th>series_id</th>\n",
       "      <th>step</th>\n",
       "      <th>event</th>\n",
       "      <th>score</th>\n",
       "    </tr>\n",
       "  </thead>\n",
       "  <tbody>\n",
       "    <tr>\n",
       "      <th>0</th>\n",
       "      <td>0</td>\n",
       "      <td>038441c925bb</td>\n",
       "      <td>0</td>\n",
       "      <td>wakeup</td>\n",
       "      <td>0.618867</td>\n",
       "    </tr>\n",
       "    <tr>\n",
       "      <th>1</th>\n",
       "      <td>1</td>\n",
       "      <td>038441c925bb</td>\n",
       "      <td>1</td>\n",
       "      <td>wakeup</td>\n",
       "      <td>0.614380</td>\n",
       "    </tr>\n",
       "    <tr>\n",
       "      <th>2</th>\n",
       "      <td>2</td>\n",
       "      <td>038441c925bb</td>\n",
       "      <td>2</td>\n",
       "      <td>wakeup</td>\n",
       "      <td>0.618867</td>\n",
       "    </tr>\n",
       "    <tr>\n",
       "      <th>3</th>\n",
       "      <td>3</td>\n",
       "      <td>038441c925bb</td>\n",
       "      <td>3</td>\n",
       "      <td>wakeup</td>\n",
       "      <td>0.614380</td>\n",
       "    </tr>\n",
       "    <tr>\n",
       "      <th>4</th>\n",
       "      <td>4</td>\n",
       "      <td>038441c925bb</td>\n",
       "      <td>4</td>\n",
       "      <td>wakeup</td>\n",
       "      <td>0.614380</td>\n",
       "    </tr>\n",
       "    <tr>\n",
       "      <th>...</th>\n",
       "      <td>...</td>\n",
       "      <td>...</td>\n",
       "      <td>...</td>\n",
       "      <td>...</td>\n",
       "      <td>...</td>\n",
       "    </tr>\n",
       "    <tr>\n",
       "      <th>445</th>\n",
       "      <td>445</td>\n",
       "      <td>0402a003dae9</td>\n",
       "      <td>145</td>\n",
       "      <td>wakeup</td>\n",
       "      <td>0.918453</td>\n",
       "    </tr>\n",
       "    <tr>\n",
       "      <th>446</th>\n",
       "      <td>446</td>\n",
       "      <td>0402a003dae9</td>\n",
       "      <td>146</td>\n",
       "      <td>wakeup</td>\n",
       "      <td>0.904007</td>\n",
       "    </tr>\n",
       "    <tr>\n",
       "      <th>447</th>\n",
       "      <td>447</td>\n",
       "      <td>0402a003dae9</td>\n",
       "      <td>147</td>\n",
       "      <td>wakeup</td>\n",
       "      <td>0.927004</td>\n",
       "    </tr>\n",
       "    <tr>\n",
       "      <th>448</th>\n",
       "      <td>448</td>\n",
       "      <td>0402a003dae9</td>\n",
       "      <td>148</td>\n",
       "      <td>wakeup</td>\n",
       "      <td>0.902978</td>\n",
       "    </tr>\n",
       "    <tr>\n",
       "      <th>449</th>\n",
       "      <td>449</td>\n",
       "      <td>0402a003dae9</td>\n",
       "      <td>149</td>\n",
       "      <td>wakeup</td>\n",
       "      <td>0.900057</td>\n",
       "    </tr>\n",
       "  </tbody>\n",
       "</table>\n",
       "<p>450 rows × 5 columns</p>\n",
       "</div>"
      ],
      "text/plain": [
       "     row_id     series_id  step   event     score\n",
       "0         0  038441c925bb     0  wakeup  0.618867\n",
       "1         1  038441c925bb     1  wakeup  0.614380\n",
       "2         2  038441c925bb     2  wakeup  0.618867\n",
       "3         3  038441c925bb     3  wakeup  0.614380\n",
       "4         4  038441c925bb     4  wakeup  0.614380\n",
       "..      ...           ...   ...     ...       ...\n",
       "445     445  0402a003dae9   145  wakeup  0.918453\n",
       "446     446  0402a003dae9   146  wakeup  0.904007\n",
       "447     447  0402a003dae9   147  wakeup  0.927004\n",
       "448     448  0402a003dae9   148  wakeup  0.902978\n",
       "449     449  0402a003dae9   149  wakeup  0.900057\n",
       "\n",
       "[450 rows x 5 columns]"
      ]
     },
     "execution_count": 25,
     "metadata": {},
     "output_type": "execute_result"
    }
   ],
   "source": [
    "submission"
   ]
  },
  {
   "cell_type": "code",
   "execution_count": 26,
   "id": "91ed783e",
   "metadata": {
    "execution": {
     "iopub.execute_input": "2023-12-03T14:42:11.310096Z",
     "iopub.status.busy": "2023-12-03T14:42:11.309700Z",
     "iopub.status.idle": "2023-12-03T14:42:11.319999Z",
     "shell.execute_reply": "2023-12-03T14:42:11.318967Z"
    },
    "papermill": {
     "duration": 0.026175,
     "end_time": "2023-12-03T14:42:11.322598",
     "exception": false,
     "start_time": "2023-12-03T14:42:11.296423",
     "status": "completed"
    },
    "tags": []
   },
   "outputs": [],
   "source": [
    "submission.to_csv('submission.csv')"
   ]
  },
  {
   "cell_type": "code",
   "execution_count": null,
   "id": "d2671fc6",
   "metadata": {
    "papermill": {
     "duration": 0.012,
     "end_time": "2023-12-03T14:42:11.346650",
     "exception": false,
     "start_time": "2023-12-03T14:42:11.334650",
     "status": "completed"
    },
    "tags": []
   },
   "outputs": [],
   "source": []
  }
 ],
 "metadata": {
  "kaggle": {
   "accelerator": "none",
   "dataSources": [
    {
     "databundleVersionId": 6589269,
     "sourceId": 53666,
     "sourceType": "competition"
    },
    {
     "datasetId": 4101059,
     "sourceId": 7112181,
     "sourceType": "datasetVersion"
    },
    {
     "datasetId": 4101210,
     "sourceId": 7112383,
     "sourceType": "datasetVersion"
    }
   ],
   "dockerImageVersionId": 30587,
   "isGpuEnabled": false,
   "isInternetEnabled": false,
   "language": "python",
   "sourceType": "notebook"
  },
  "kernelspec": {
   "display_name": "Python 3",
   "language": "python",
   "name": "python3"
  },
  "language_info": {
   "codemirror_mode": {
    "name": "ipython",
    "version": 3
   },
   "file_extension": ".py",
   "mimetype": "text/x-python",
   "name": "python",
   "nbconvert_exporter": "python",
   "pygments_lexer": "ipython3",
   "version": "3.10.12"
  },
  "papermill": {
   "default_parameters": {},
   "duration": 21.272409,
   "end_time": "2023-12-03T14:42:12.180658",
   "environment_variables": {},
   "exception": null,
   "input_path": "__notebook__.ipynb",
   "output_path": "__notebook__.ipynb",
   "parameters": {},
   "start_time": "2023-12-03T14:41:50.908249",
   "version": "2.4.0"
  }
 },
 "nbformat": 4,
 "nbformat_minor": 5
}
