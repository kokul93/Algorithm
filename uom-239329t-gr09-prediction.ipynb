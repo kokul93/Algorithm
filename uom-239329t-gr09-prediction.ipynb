{
 "cells": [
  {
   "cell_type": "code",
   "execution_count": 1,
   "id": "62776bc5",
   "metadata": {
    "_cell_guid": "b1076dfc-b9ad-4769-8c92-a6c4dae69d19",
    "_uuid": "8f2839f25d086af736a60e9eeb907d3b93b6e0e5",
    "execution": {
     "iopub.execute_input": "2023-12-03T20:34:35.941076Z",
     "iopub.status.busy": "2023-12-03T20:34:35.940699Z",
     "iopub.status.idle": "2023-12-03T20:34:36.807667Z",
     "shell.execute_reply": "2023-12-03T20:34:36.806665Z"
    },
    "papermill": {
     "duration": 0.878323,
     "end_time": "2023-12-03T20:34:36.809808",
     "exception": false,
     "start_time": "2023-12-03T20:34:35.931485",
     "status": "completed"
    },
    "tags": []
   },
   "outputs": [
    {
     "name": "stdout",
     "output_type": "stream",
     "text": [
      "/kaggle/input/child-mind-institute-detect-sleep-states/train_series.parquet\n",
      "/kaggle/input/child-mind-institute-detect-sleep-states/sample_submission.csv\n",
      "/kaggle/input/child-mind-institute-detect-sleep-states/train_events.csv\n",
      "/kaggle/input/child-mind-institute-detect-sleep-states/test_series.parquet\n",
      "/kaggle/input/models/bestXGboost.pkl\n",
      "/kaggle/input/models/enmoScaler.pkl\n",
      "/kaggle/input/models/anglezScaler.pkl\n",
      "/kaggle/input/models/labelEncoder.pkl\n",
      "/kaggle/input/preprocesseddata/cropedTrainSeries3_2.csv\n",
      "/kaggle/input/bestmodels/bestXGboost.joblib\n",
      "/kaggle/input/bestmodels/labelEncoder_2.joblib\n"
     ]
    }
   ],
   "source": [
    "# This Python 3 environment comes with many helpful analytics libraries installed\n",
    "# It is defined by the kaggle/python Docker image: https://github.com/kaggle/docker-python\n",
    "# For example, here's several helpful packages to load\n",
    "\n",
    "import numpy as np # linear algebra\n",
    "import pandas as pd # data processing, CSV file I/O (e.g. pd.read_csv)\n",
    "\n",
    "# Input data files are available in the read-only \"../input/\" directory\n",
    "# For example, running this (by clicking run or pressing Shift+Enter) will list all files under the input directory\n",
    "\n",
    "import os\n",
    "for dirname, _, filenames in os.walk('/kaggle/input'):\n",
    "    for filename in filenames:\n",
    "        print(os.path.join(dirname, filename))\n",
    "\n",
    "# You can write up to 20GB to the current directory (/kaggle/working/) that gets preserved as output when you create a version using \"Save & Run All\" \n",
    "# You can also write temporary files to /kaggle/temp/, but they won't be saved outside of the current session"
   ]
  },
  {
   "cell_type": "code",
   "execution_count": 2,
   "id": "c939bcdb",
   "metadata": {
    "execution": {
     "iopub.execute_input": "2023-12-03T20:34:36.823173Z",
     "iopub.status.busy": "2023-12-03T20:34:36.822426Z",
     "iopub.status.idle": "2023-12-03T20:34:38.425176Z",
     "shell.execute_reply": "2023-12-03T20:34:38.423938Z"
    },
    "papermill": {
     "duration": 1.611885,
     "end_time": "2023-12-03T20:34:38.427557",
     "exception": false,
     "start_time": "2023-12-03T20:34:36.815672",
     "status": "completed"
    },
    "tags": []
   },
   "outputs": [],
   "source": [
    "import joblib\n",
    "import numpy as np\n",
    "from datetime import datetime as dt\n",
    "from datetime import timedelta\n",
    "from datetime import time as tm\n",
    "\n",
    "import gc\n",
    "\n",
    "from xgboost import XGBClassifier\n",
    "\n",
    "\n",
    "from sklearn.preprocessing import MinMaxScaler"
   ]
  },
  {
   "cell_type": "code",
   "execution_count": 3,
   "id": "7e0581bd",
   "metadata": {
    "execution": {
     "iopub.execute_input": "2023-12-03T20:34:38.441832Z",
     "iopub.status.busy": "2023-12-03T20:34:38.441449Z",
     "iopub.status.idle": "2023-12-03T20:34:38.732464Z",
     "shell.execute_reply": "2023-12-03T20:34:38.731432Z"
    },
    "papermill": {
     "duration": 0.30027,
     "end_time": "2023-12-03T20:34:38.734641",
     "exception": false,
     "start_time": "2023-12-03T20:34:38.434371",
     "status": "completed"
    },
    "tags": []
   },
   "outputs": [],
   "source": [
    "XGboostModel2=loaded_model = joblib.load('/kaggle/input/bestmodels/bestXGboost.joblib')\n",
    "labelEncoder=joblib.load('/kaggle/input/bestmodels/labelEncoder_2.joblib')\n",
    "enmoScaler=joblib.load('/kaggle/input/models/enmoScaler.pkl')\n",
    "anglezScaler=joblib.load('/kaggle/input/models/anglezScaler.pkl')\n",
    "testDF=pd.read_parquet('/kaggle/input/child-mind-institute-detect-sleep-states/test_series.parquet')"
   ]
  },
  {
   "cell_type": "code",
   "execution_count": 4,
   "id": "7869222c",
   "metadata": {
    "execution": {
     "iopub.execute_input": "2023-12-03T20:34:38.748155Z",
     "iopub.status.busy": "2023-12-03T20:34:38.747778Z",
     "iopub.status.idle": "2023-12-03T20:34:38.752433Z",
     "shell.execute_reply": "2023-12-03T20:34:38.751191Z"
    },
    "papermill": {
     "duration": 0.013156,
     "end_time": "2023-12-03T20:34:38.754251",
     "exception": false,
     "start_time": "2023-12-03T20:34:38.741095",
     "status": "completed"
    },
    "tags": []
   },
   "outputs": [],
   "source": [
    "test_series_DF_CP=testDF.copy()"
   ]
  },
  {
   "cell_type": "code",
   "execution_count": 5,
   "id": "adf6f937",
   "metadata": {
    "execution": {
     "iopub.execute_input": "2023-12-03T20:34:38.767009Z",
     "iopub.status.busy": "2023-12-03T20:34:38.766662Z",
     "iopub.status.idle": "2023-12-03T20:34:38.785552Z",
     "shell.execute_reply": "2023-12-03T20:34:38.784582Z"
    },
    "papermill": {
     "duration": 0.027935,
     "end_time": "2023-12-03T20:34:38.787862",
     "exception": false,
     "start_time": "2023-12-03T20:34:38.759927",
     "status": "completed"
    },
    "tags": []
   },
   "outputs": [
    {
     "data": {
      "text/html": [
       "<div>\n",
       "<style scoped>\n",
       "    .dataframe tbody tr th:only-of-type {\n",
       "        vertical-align: middle;\n",
       "    }\n",
       "\n",
       "    .dataframe tbody tr th {\n",
       "        vertical-align: top;\n",
       "    }\n",
       "\n",
       "    .dataframe thead th {\n",
       "        text-align: right;\n",
       "    }\n",
       "</style>\n",
       "<table border=\"1\" class=\"dataframe\">\n",
       "  <thead>\n",
       "    <tr style=\"text-align: right;\">\n",
       "      <th></th>\n",
       "      <th>series_id</th>\n",
       "      <th>step</th>\n",
       "      <th>timestamp</th>\n",
       "      <th>anglez</th>\n",
       "      <th>enmo</th>\n",
       "    </tr>\n",
       "  </thead>\n",
       "  <tbody>\n",
       "    <tr>\n",
       "      <th>0</th>\n",
       "      <td>038441c925bb</td>\n",
       "      <td>0</td>\n",
       "      <td>2018-08-14T15:30:00-0400</td>\n",
       "      <td>2.6367</td>\n",
       "      <td>0.0217</td>\n",
       "    </tr>\n",
       "    <tr>\n",
       "      <th>1</th>\n",
       "      <td>038441c925bb</td>\n",
       "      <td>1</td>\n",
       "      <td>2018-08-14T15:30:05-0400</td>\n",
       "      <td>2.6368</td>\n",
       "      <td>0.0215</td>\n",
       "    </tr>\n",
       "    <tr>\n",
       "      <th>2</th>\n",
       "      <td>038441c925bb</td>\n",
       "      <td>2</td>\n",
       "      <td>2018-08-14T15:30:10-0400</td>\n",
       "      <td>2.6370</td>\n",
       "      <td>0.0216</td>\n",
       "    </tr>\n",
       "    <tr>\n",
       "      <th>3</th>\n",
       "      <td>038441c925bb</td>\n",
       "      <td>3</td>\n",
       "      <td>2018-08-14T15:30:15-0400</td>\n",
       "      <td>2.6368</td>\n",
       "      <td>0.0213</td>\n",
       "    </tr>\n",
       "    <tr>\n",
       "      <th>4</th>\n",
       "      <td>038441c925bb</td>\n",
       "      <td>4</td>\n",
       "      <td>2018-08-14T15:30:20-0400</td>\n",
       "      <td>2.6368</td>\n",
       "      <td>0.0215</td>\n",
       "    </tr>\n",
       "  </tbody>\n",
       "</table>\n",
       "</div>"
      ],
      "text/plain": [
       "      series_id  step                 timestamp  anglez    enmo\n",
       "0  038441c925bb     0  2018-08-14T15:30:00-0400  2.6367  0.0217\n",
       "1  038441c925bb     1  2018-08-14T15:30:05-0400  2.6368  0.0215\n",
       "2  038441c925bb     2  2018-08-14T15:30:10-0400  2.6370  0.0216\n",
       "3  038441c925bb     3  2018-08-14T15:30:15-0400  2.6368  0.0213\n",
       "4  038441c925bb     4  2018-08-14T15:30:20-0400  2.6368  0.0215"
      ]
     },
     "execution_count": 5,
     "metadata": {},
     "output_type": "execute_result"
    }
   ],
   "source": [
    "test_series_DF_CP.head()"
   ]
  },
  {
   "cell_type": "code",
   "execution_count": 6,
   "id": "f93ca09d",
   "metadata": {
    "execution": {
     "iopub.execute_input": "2023-12-03T20:34:38.800520Z",
     "iopub.status.busy": "2023-12-03T20:34:38.800206Z",
     "iopub.status.idle": "2023-12-03T20:34:38.831531Z",
     "shell.execute_reply": "2023-12-03T20:34:38.830470Z"
    },
    "papermill": {
     "duration": 0.040303,
     "end_time": "2023-12-03T20:34:38.833778",
     "exception": false,
     "start_time": "2023-12-03T20:34:38.793475",
     "status": "completed"
    },
    "tags": []
   },
   "outputs": [],
   "source": [
    "test_series_DF_CP['timestamp'] = pd.to_datetime(test_series_DF_CP['timestamp'],utc=True)\n",
    "test_series_DF_CP['Date'] = test_series_DF_CP['timestamp'].dt.date\n",
    "test_series_DF_CP['Time'] = test_series_DF_CP['timestamp'].dt.time"
   ]
  },
  {
   "cell_type": "code",
   "execution_count": 7,
   "id": "a55638be",
   "metadata": {
    "execution": {
     "iopub.execute_input": "2023-12-03T20:34:38.847377Z",
     "iopub.status.busy": "2023-12-03T20:34:38.847053Z",
     "iopub.status.idle": "2023-12-03T20:34:38.860607Z",
     "shell.execute_reply": "2023-12-03T20:34:38.859279Z"
    },
    "papermill": {
     "duration": 0.023111,
     "end_time": "2023-12-03T20:34:38.862858",
     "exception": false,
     "start_time": "2023-12-03T20:34:38.839747",
     "status": "completed"
    },
    "tags": []
   },
   "outputs": [
    {
     "data": {
      "text/html": [
       "<div>\n",
       "<style scoped>\n",
       "    .dataframe tbody tr th:only-of-type {\n",
       "        vertical-align: middle;\n",
       "    }\n",
       "\n",
       "    .dataframe tbody tr th {\n",
       "        vertical-align: top;\n",
       "    }\n",
       "\n",
       "    .dataframe thead th {\n",
       "        text-align: right;\n",
       "    }\n",
       "</style>\n",
       "<table border=\"1\" class=\"dataframe\">\n",
       "  <thead>\n",
       "    <tr style=\"text-align: right;\">\n",
       "      <th></th>\n",
       "      <th>series_id</th>\n",
       "      <th>step</th>\n",
       "      <th>timestamp</th>\n",
       "      <th>anglez</th>\n",
       "      <th>enmo</th>\n",
       "      <th>Date</th>\n",
       "      <th>Time</th>\n",
       "    </tr>\n",
       "  </thead>\n",
       "  <tbody>\n",
       "    <tr>\n",
       "      <th>0</th>\n",
       "      <td>038441c925bb</td>\n",
       "      <td>0</td>\n",
       "      <td>2018-08-14 19:30:00+00:00</td>\n",
       "      <td>2.6367</td>\n",
       "      <td>0.0217</td>\n",
       "      <td>2018-08-14</td>\n",
       "      <td>19:30:00</td>\n",
       "    </tr>\n",
       "    <tr>\n",
       "      <th>1</th>\n",
       "      <td>038441c925bb</td>\n",
       "      <td>1</td>\n",
       "      <td>2018-08-14 19:30:05+00:00</td>\n",
       "      <td>2.6368</td>\n",
       "      <td>0.0215</td>\n",
       "      <td>2018-08-14</td>\n",
       "      <td>19:30:05</td>\n",
       "    </tr>\n",
       "    <tr>\n",
       "      <th>2</th>\n",
       "      <td>038441c925bb</td>\n",
       "      <td>2</td>\n",
       "      <td>2018-08-14 19:30:10+00:00</td>\n",
       "      <td>2.6370</td>\n",
       "      <td>0.0216</td>\n",
       "      <td>2018-08-14</td>\n",
       "      <td>19:30:10</td>\n",
       "    </tr>\n",
       "    <tr>\n",
       "      <th>3</th>\n",
       "      <td>038441c925bb</td>\n",
       "      <td>3</td>\n",
       "      <td>2018-08-14 19:30:15+00:00</td>\n",
       "      <td>2.6368</td>\n",
       "      <td>0.0213</td>\n",
       "      <td>2018-08-14</td>\n",
       "      <td>19:30:15</td>\n",
       "    </tr>\n",
       "    <tr>\n",
       "      <th>4</th>\n",
       "      <td>038441c925bb</td>\n",
       "      <td>4</td>\n",
       "      <td>2018-08-14 19:30:20+00:00</td>\n",
       "      <td>2.6368</td>\n",
       "      <td>0.0215</td>\n",
       "      <td>2018-08-14</td>\n",
       "      <td>19:30:20</td>\n",
       "    </tr>\n",
       "  </tbody>\n",
       "</table>\n",
       "</div>"
      ],
      "text/plain": [
       "      series_id  step                 timestamp  anglez    enmo        Date  \\\n",
       "0  038441c925bb     0 2018-08-14 19:30:00+00:00  2.6367  0.0217  2018-08-14   \n",
       "1  038441c925bb     1 2018-08-14 19:30:05+00:00  2.6368  0.0215  2018-08-14   \n",
       "2  038441c925bb     2 2018-08-14 19:30:10+00:00  2.6370  0.0216  2018-08-14   \n",
       "3  038441c925bb     3 2018-08-14 19:30:15+00:00  2.6368  0.0213  2018-08-14   \n",
       "4  038441c925bb     4 2018-08-14 19:30:20+00:00  2.6368  0.0215  2018-08-14   \n",
       "\n",
       "       Time  \n",
       "0  19:30:00  \n",
       "1  19:30:05  \n",
       "2  19:30:10  \n",
       "3  19:30:15  \n",
       "4  19:30:20  "
      ]
     },
     "execution_count": 7,
     "metadata": {},
     "output_type": "execute_result"
    }
   ],
   "source": [
    "test_series_DF_CP.head()"
   ]
  },
  {
   "cell_type": "code",
   "execution_count": 8,
   "id": "0698f84e",
   "metadata": {
    "execution": {
     "iopub.execute_input": "2023-12-03T20:34:38.876532Z",
     "iopub.status.busy": "2023-12-03T20:34:38.876227Z",
     "iopub.status.idle": "2023-12-03T20:34:38.988435Z",
     "shell.execute_reply": "2023-12-03T20:34:38.987124Z"
    },
    "papermill": {
     "duration": 0.122,
     "end_time": "2023-12-03T20:34:38.990805",
     "exception": false,
     "start_time": "2023-12-03T20:34:38.868805",
     "status": "completed"
    },
    "tags": []
   },
   "outputs": [],
   "source": [
    "test_series_DF_CP['NewDate'] = pd.to_datetime(test_series_DF_CP['Date'])\n",
    "# Create a new 'Season' column based on the month of each date\n",
    "test_series_DF_CP['Season'] = test_series_DF_CP['NewDate'].dt.month.map(lambda x: {3: 'Spring', 4: 'Spring', 5: 'Spring',\n",
    "                                                 6: 'Summer', 7: 'Summer', 8: 'Summer',\n",
    "                                                 9: 'Autumn', 10: 'Autumn', 11: 'Autumn',\n",
    "                                                 12: 'Winter', 1: 'Winter', 2: 'Winter'}.get(x))\n",
    "\n",
    "# Use get_dummies to one-hot encode the 'Season' column\n",
    "season_dummiesTest = test_series_DF_CP['Season'].apply(lambda x: pd.Series({x: 1}))\n",
    "test_series_DF_CP = pd.concat([test_series_DF_CP, season_dummiesTest], axis=1)\n"
   ]
  },
  {
   "cell_type": "code",
   "execution_count": 9,
   "id": "b1c3c76f",
   "metadata": {
    "execution": {
     "iopub.execute_input": "2023-12-03T20:34:39.004173Z",
     "iopub.status.busy": "2023-12-03T20:34:39.003821Z",
     "iopub.status.idle": "2023-12-03T20:34:39.021333Z",
     "shell.execute_reply": "2023-12-03T20:34:39.020307Z"
    },
    "papermill": {
     "duration": 0.027321,
     "end_time": "2023-12-03T20:34:39.024048",
     "exception": false,
     "start_time": "2023-12-03T20:34:38.996727",
     "status": "completed"
    },
    "tags": []
   },
   "outputs": [
    {
     "data": {
      "text/html": [
       "<div>\n",
       "<style scoped>\n",
       "    .dataframe tbody tr th:only-of-type {\n",
       "        vertical-align: middle;\n",
       "    }\n",
       "\n",
       "    .dataframe tbody tr th {\n",
       "        vertical-align: top;\n",
       "    }\n",
       "\n",
       "    .dataframe thead th {\n",
       "        text-align: right;\n",
       "    }\n",
       "</style>\n",
       "<table border=\"1\" class=\"dataframe\">\n",
       "  <thead>\n",
       "    <tr style=\"text-align: right;\">\n",
       "      <th></th>\n",
       "      <th>series_id</th>\n",
       "      <th>step</th>\n",
       "      <th>timestamp</th>\n",
       "      <th>anglez</th>\n",
       "      <th>enmo</th>\n",
       "      <th>Date</th>\n",
       "      <th>Time</th>\n",
       "      <th>NewDate</th>\n",
       "      <th>Season</th>\n",
       "      <th>Summer</th>\n",
       "      <th>Spring</th>\n",
       "      <th>Winter</th>\n",
       "    </tr>\n",
       "  </thead>\n",
       "  <tbody>\n",
       "    <tr>\n",
       "      <th>0</th>\n",
       "      <td>038441c925bb</td>\n",
       "      <td>0</td>\n",
       "      <td>2018-08-14 19:30:00+00:00</td>\n",
       "      <td>2.6367</td>\n",
       "      <td>0.0217</td>\n",
       "      <td>2018-08-14</td>\n",
       "      <td>19:30:00</td>\n",
       "      <td>2018-08-14</td>\n",
       "      <td>Summer</td>\n",
       "      <td>1.0</td>\n",
       "      <td>NaN</td>\n",
       "      <td>NaN</td>\n",
       "    </tr>\n",
       "    <tr>\n",
       "      <th>1</th>\n",
       "      <td>038441c925bb</td>\n",
       "      <td>1</td>\n",
       "      <td>2018-08-14 19:30:05+00:00</td>\n",
       "      <td>2.6368</td>\n",
       "      <td>0.0215</td>\n",
       "      <td>2018-08-14</td>\n",
       "      <td>19:30:05</td>\n",
       "      <td>2018-08-14</td>\n",
       "      <td>Summer</td>\n",
       "      <td>1.0</td>\n",
       "      <td>NaN</td>\n",
       "      <td>NaN</td>\n",
       "    </tr>\n",
       "    <tr>\n",
       "      <th>2</th>\n",
       "      <td>038441c925bb</td>\n",
       "      <td>2</td>\n",
       "      <td>2018-08-14 19:30:10+00:00</td>\n",
       "      <td>2.6370</td>\n",
       "      <td>0.0216</td>\n",
       "      <td>2018-08-14</td>\n",
       "      <td>19:30:10</td>\n",
       "      <td>2018-08-14</td>\n",
       "      <td>Summer</td>\n",
       "      <td>1.0</td>\n",
       "      <td>NaN</td>\n",
       "      <td>NaN</td>\n",
       "    </tr>\n",
       "    <tr>\n",
       "      <th>3</th>\n",
       "      <td>038441c925bb</td>\n",
       "      <td>3</td>\n",
       "      <td>2018-08-14 19:30:15+00:00</td>\n",
       "      <td>2.6368</td>\n",
       "      <td>0.0213</td>\n",
       "      <td>2018-08-14</td>\n",
       "      <td>19:30:15</td>\n",
       "      <td>2018-08-14</td>\n",
       "      <td>Summer</td>\n",
       "      <td>1.0</td>\n",
       "      <td>NaN</td>\n",
       "      <td>NaN</td>\n",
       "    </tr>\n",
       "    <tr>\n",
       "      <th>4</th>\n",
       "      <td>038441c925bb</td>\n",
       "      <td>4</td>\n",
       "      <td>2018-08-14 19:30:20+00:00</td>\n",
       "      <td>2.6368</td>\n",
       "      <td>0.0215</td>\n",
       "      <td>2018-08-14</td>\n",
       "      <td>19:30:20</td>\n",
       "      <td>2018-08-14</td>\n",
       "      <td>Summer</td>\n",
       "      <td>1.0</td>\n",
       "      <td>NaN</td>\n",
       "      <td>NaN</td>\n",
       "    </tr>\n",
       "  </tbody>\n",
       "</table>\n",
       "</div>"
      ],
      "text/plain": [
       "      series_id  step                 timestamp  anglez    enmo        Date  \\\n",
       "0  038441c925bb     0 2018-08-14 19:30:00+00:00  2.6367  0.0217  2018-08-14   \n",
       "1  038441c925bb     1 2018-08-14 19:30:05+00:00  2.6368  0.0215  2018-08-14   \n",
       "2  038441c925bb     2 2018-08-14 19:30:10+00:00  2.6370  0.0216  2018-08-14   \n",
       "3  038441c925bb     3 2018-08-14 19:30:15+00:00  2.6368  0.0213  2018-08-14   \n",
       "4  038441c925bb     4 2018-08-14 19:30:20+00:00  2.6368  0.0215  2018-08-14   \n",
       "\n",
       "       Time    NewDate  Season  Summer  Spring  Winter  \n",
       "0  19:30:00 2018-08-14  Summer     1.0     NaN     NaN  \n",
       "1  19:30:05 2018-08-14  Summer     1.0     NaN     NaN  \n",
       "2  19:30:10 2018-08-14  Summer     1.0     NaN     NaN  \n",
       "3  19:30:15 2018-08-14  Summer     1.0     NaN     NaN  \n",
       "4  19:30:20 2018-08-14  Summer     1.0     NaN     NaN  "
      ]
     },
     "execution_count": 9,
     "metadata": {},
     "output_type": "execute_result"
    }
   ],
   "source": [
    "test_series_DF_CP.head()"
   ]
  },
  {
   "cell_type": "code",
   "execution_count": 10,
   "id": "59c5413b",
   "metadata": {
    "execution": {
     "iopub.execute_input": "2023-12-03T20:34:39.037813Z",
     "iopub.status.busy": "2023-12-03T20:34:39.037478Z",
     "iopub.status.idle": "2023-12-03T20:34:39.049902Z",
     "shell.execute_reply": "2023-12-03T20:34:39.048404Z"
    },
    "papermill": {
     "duration": 0.021741,
     "end_time": "2023-12-03T20:34:39.051979",
     "exception": false,
     "start_time": "2023-12-03T20:34:39.030238",
     "status": "completed"
    },
    "tags": []
   },
   "outputs": [],
   "source": [
    "seasons=['Summer','Autumn','Spring','Winter']\n",
    "for season in seasons:\n",
    "    if season not in test_series_DF_CP.columns:\n",
    "        test_series_DF_CP[season]=float('nan')\n",
    "        \n",
    "        \n",
    "test_series_DF_CP['Date'] = pd.to_datetime(test_series_DF_CP['Date'])\n",
    "\n",
    "# Add a new column 'weekday' to the DataFrame\n",
    "test_series_DF_CP['weekday'] = test_series_DF_CP['Date'].dt.dayofweek\n",
    "\n",
    "# Map the weekdays to 1 and weekends to 0\n",
    "test_series_DF_CP['weekday'] = test_series_DF_CP['weekday'].apply(lambda x: 1 if x < 5 else 0)\n",
    "\n",
    "test_series_DF_CP['anglezScaled']=anglezScaler.transform(test_series_DF_CP['anglez'].values.reshape(-1, 1))\n",
    "test_series_DF_CP['enmoScaled']=anglezScaler.transform(test_series_DF_CP['enmo'].values.reshape(-1, 1))"
   ]
  },
  {
   "cell_type": "code",
   "execution_count": 11,
   "id": "f41520d5",
   "metadata": {
    "execution": {
     "iopub.execute_input": "2023-12-03T20:34:39.065580Z",
     "iopub.status.busy": "2023-12-03T20:34:39.065251Z",
     "iopub.status.idle": "2023-12-03T20:34:39.074334Z",
     "shell.execute_reply": "2023-12-03T20:34:39.073197Z"
    },
    "papermill": {
     "duration": 0.018202,
     "end_time": "2023-12-03T20:34:39.076336",
     "exception": false,
     "start_time": "2023-12-03T20:34:39.058134",
     "status": "completed"
    },
    "tags": []
   },
   "outputs": [
    {
     "data": {
      "text/plain": [
       "series_id         0\n",
       "step              0\n",
       "timestamp         0\n",
       "anglez            0\n",
       "enmo              0\n",
       "Date              0\n",
       "Time              0\n",
       "NewDate           0\n",
       "Season            0\n",
       "Summer          300\n",
       "Spring          300\n",
       "Winter          300\n",
       "Autumn          450\n",
       "weekday           0\n",
       "anglezScaled      0\n",
       "enmoScaled        0\n",
       "dtype: int64"
      ]
     },
     "execution_count": 11,
     "metadata": {},
     "output_type": "execute_result"
    }
   ],
   "source": [
    "test_series_DF_CP.isnull().sum()"
   ]
  },
  {
   "cell_type": "code",
   "execution_count": 12,
   "id": "0b03801e",
   "metadata": {
    "execution": {
     "iopub.execute_input": "2023-12-03T20:34:39.091658Z",
     "iopub.status.busy": "2023-12-03T20:34:39.091269Z",
     "iopub.status.idle": "2023-12-03T20:34:39.102534Z",
     "shell.execute_reply": "2023-12-03T20:34:39.101548Z"
    },
    "papermill": {
     "duration": 0.020497,
     "end_time": "2023-12-03T20:34:39.104213",
     "exception": false,
     "start_time": "2023-12-03T20:34:39.083716",
     "status": "completed"
    },
    "tags": []
   },
   "outputs": [],
   "source": [
    "test_series_DF_CP['Date'] = pd.to_datetime(test_series_DF_CP['Date'])\n",
    "\n",
    "# Add a new column 'weekday' to the DataFrame\n",
    "test_series_DF_CP['weekday'] = test_series_DF_CP['Date'].dt.dayofweek\n",
    "\n",
    "# Map the weekdays to 1 and weekends to 0\n",
    "test_series_DF_CP['weekday'] = test_series_DF_CP['weekday'].apply(lambda x: 1 if x < 5 else 0)\n",
    "\n"
   ]
  },
  {
   "cell_type": "code",
   "execution_count": 13,
   "id": "b428d008",
   "metadata": {
    "execution": {
     "iopub.execute_input": "2023-12-03T20:34:39.118053Z",
     "iopub.status.busy": "2023-12-03T20:34:39.117689Z",
     "iopub.status.idle": "2023-12-03T20:34:39.122830Z",
     "shell.execute_reply": "2023-12-03T20:34:39.122148Z"
    },
    "papermill": {
     "duration": 0.014296,
     "end_time": "2023-12-03T20:34:39.124779",
     "exception": false,
     "start_time": "2023-12-03T20:34:39.110483",
     "status": "completed"
    },
    "tags": []
   },
   "outputs": [],
   "source": [
    "test_series_DF_CP['anglezScaled']=anglezScaler.transform(test_series_DF_CP['anglez'].values.reshape(-1, 1))\n",
    "test_series_DF_CP['enmoScaled']=anglezScaler.transform(test_series_DF_CP['enmo'].values.reshape(-1, 1))"
   ]
  },
  {
   "cell_type": "code",
   "execution_count": 14,
   "id": "2320fe14",
   "metadata": {
    "execution": {
     "iopub.execute_input": "2023-12-03T20:34:39.139469Z",
     "iopub.status.busy": "2023-12-03T20:34:39.138936Z",
     "iopub.status.idle": "2023-12-03T20:34:39.157332Z",
     "shell.execute_reply": "2023-12-03T20:34:39.156101Z"
    },
    "papermill": {
     "duration": 0.028398,
     "end_time": "2023-12-03T20:34:39.159998",
     "exception": false,
     "start_time": "2023-12-03T20:34:39.131600",
     "status": "completed"
    },
    "tags": []
   },
   "outputs": [],
   "source": [
    "test_series_DF_CP['Time'] = pd.to_datetime(test_series_DF_CP['Time'], format='%H:%M:%S')\n",
    "\n",
    "#Extracting total seconds since midnight as a single feature\n",
    "test_series_DF_CP['time_in_seconds'] = test_series_DF_CP['Time'].dt.hour * 3600 + test_series_DF_CP['Time'].dt.minute * 60 + test_series_DF_CP['Time'].dt.second\n",
    "\n",
    "# Create empty columns for sin and cos\n",
    "test_series_DF_CP['sin_time'] = np.nan\n",
    "test_series_DF_CP['cos_time'] = np.nan\n",
    "\n",
    "# Calculating sin and cos of time_in_seconds\n",
    "test_series_DF_CP['sin_time'] = np.sin(2 * np.pi * test_series_DF_CP['time_in_seconds'] / 86400)  # 86400 seconds in a day\n",
    "test_series_DF_CP['cos_time'] = np.cos(2 * np.pi * test_series_DF_CP['time_in_seconds'] / 86400)"
   ]
  },
  {
   "cell_type": "code",
   "execution_count": 15,
   "id": "e659e226",
   "metadata": {
    "execution": {
     "iopub.execute_input": "2023-12-03T20:34:39.174309Z",
     "iopub.status.busy": "2023-12-03T20:34:39.173984Z",
     "iopub.status.idle": "2023-12-03T20:34:39.179043Z",
     "shell.execute_reply": "2023-12-03T20:34:39.177592Z"
    },
    "papermill": {
     "duration": 0.015205,
     "end_time": "2023-12-03T20:34:39.181635",
     "exception": false,
     "start_time": "2023-12-03T20:34:39.166430",
     "status": "completed"
    },
    "tags": []
   },
   "outputs": [],
   "source": [
    "trainFeatures=['sin_time','cos_time','Summer','Autumn','Spring','Winter','anglezScaled','enmoScaled','weekday']"
   ]
  },
  {
   "cell_type": "code",
   "execution_count": 16,
   "id": "5b7ea3ea",
   "metadata": {
    "execution": {
     "iopub.execute_input": "2023-12-03T20:34:39.196278Z",
     "iopub.status.busy": "2023-12-03T20:34:39.195932Z",
     "iopub.status.idle": "2023-12-03T20:34:39.282364Z",
     "shell.execute_reply": "2023-12-03T20:34:39.280907Z"
    },
    "papermill": {
     "duration": 0.096528,
     "end_time": "2023-12-03T20:34:39.284800",
     "exception": false,
     "start_time": "2023-12-03T20:34:39.188272",
     "status": "completed"
    },
    "tags": []
   },
   "outputs": [
    {
     "data": {
      "text/plain": [
       "90"
      ]
     },
     "execution_count": 16,
     "metadata": {},
     "output_type": "execute_result"
    }
   ],
   "source": [
    "#X_train=trainDF[trainFeatures]\n",
    "#y_train=labelEncoder.transform(trainDF['event'])\n",
    "X_test=test_series_DF_CP[trainFeatures]\n",
    "#del trainDF\n",
    "del test_series_DF_CP\n",
    "gc.collect()"
   ]
  },
  {
   "cell_type": "code",
   "execution_count": 17,
   "id": "51918ec9",
   "metadata": {
    "execution": {
     "iopub.execute_input": "2023-12-03T20:34:39.303384Z",
     "iopub.status.busy": "2023-12-03T20:34:39.302612Z",
     "iopub.status.idle": "2023-12-03T20:34:39.327294Z",
     "shell.execute_reply": "2023-12-03T20:34:39.326257Z"
    },
    "papermill": {
     "duration": 0.039358,
     "end_time": "2023-12-03T20:34:39.331331",
     "exception": false,
     "start_time": "2023-12-03T20:34:39.291973",
     "status": "completed"
    },
    "tags": []
   },
   "outputs": [
    {
     "data": {
      "text/plain": [
       "array([1, 1, 1, 1, 1, 1, 1, 1, 1, 1, 1, 1, 1, 1, 1, 1, 1, 1, 1, 1, 1, 1,\n",
       "       1, 1, 1, 1, 1, 1, 0, 0, 0, 0, 0, 0, 0, 0, 0, 0, 0, 0, 0, 0, 0, 0,\n",
       "       0, 0, 0, 0, 0, 0, 0, 0, 0, 0, 0, 0, 0, 0, 0, 0, 0, 0, 0, 0, 0, 0,\n",
       "       0, 0, 0, 0, 0, 0, 0, 0, 0, 0, 0, 0, 0, 0, 0, 0, 0, 0, 0, 0, 0, 0,\n",
       "       0, 0, 0, 0, 0, 0, 0, 0, 0, 0, 0, 0, 0, 0, 0, 0, 0, 0, 0, 0, 0, 0,\n",
       "       0, 0, 0, 0, 0, 0, 0, 0, 0, 0, 0, 0, 0, 0, 0, 0, 0, 0, 0, 0, 0, 0,\n",
       "       0, 0, 0, 0, 0, 0, 0, 0, 0, 0, 0, 0, 0, 0, 0, 0, 0, 0, 1, 1, 1, 1,\n",
       "       1, 1, 1, 1, 1, 1, 1, 1, 1, 1, 1, 1, 1, 1, 1, 1, 1, 1, 1, 1, 1, 1,\n",
       "       1, 1, 1, 1, 1, 1, 1, 1, 1, 1, 1, 1, 1, 1, 1, 1, 1, 1, 1, 1, 1, 1,\n",
       "       1, 1, 1, 1, 1, 1, 1, 1, 1, 1, 1, 1, 1, 1, 1, 1, 1, 1, 1, 1, 1, 1,\n",
       "       1, 1, 1, 1, 1, 1, 1, 1, 1, 1, 1, 1, 1, 1, 1, 1, 1, 1, 1, 1, 1, 1,\n",
       "       1, 1, 1, 1, 1, 1, 1, 1, 1, 1, 1, 1, 1, 1, 1, 1, 1, 1, 1, 1, 1, 1,\n",
       "       1, 1, 1, 1, 1, 1, 1, 1, 1, 1, 1, 1, 1, 1, 1, 1, 1, 1, 1, 1, 1, 1,\n",
       "       1, 1, 1, 1, 1, 1, 1, 1, 1, 1, 1, 1, 1, 1, 1, 1, 1, 1, 1, 1, 1, 1,\n",
       "       1, 1, 1, 1, 1, 1, 1, 1, 1, 1, 1, 1, 1, 1, 1, 1, 1, 1, 1, 1, 1, 1,\n",
       "       1, 1, 1, 1, 1, 1, 1, 1, 1, 1, 1, 1, 1, 1, 1, 1, 1, 1, 1, 1, 1, 1,\n",
       "       1, 1, 1, 1, 1, 1, 1, 1, 1, 1, 1, 1, 1, 1, 1, 1, 1, 1, 1, 1, 1, 1,\n",
       "       1, 1, 1, 1, 1, 1, 1, 1, 1, 1, 1, 1, 1, 1, 1, 1, 1, 1, 1, 1, 1, 1,\n",
       "       1, 1, 1, 1, 1, 1, 1, 1, 1, 1, 1, 1, 1, 1, 1, 1, 1, 1, 1, 1, 1, 1,\n",
       "       1, 1, 1, 1, 1, 1, 1, 1, 1, 1, 1, 1, 1, 1, 1, 1, 1, 1, 1, 1, 1, 1,\n",
       "       1, 1, 1, 1, 1, 1, 1, 1, 1, 1])"
      ]
     },
     "execution_count": 17,
     "metadata": {},
     "output_type": "execute_result"
    }
   ],
   "source": [
    "preditions=XGboostModel2.predict(X_test)\n",
    "preditions"
   ]
  },
  {
   "cell_type": "code",
   "execution_count": 18,
   "id": "8def8cd7",
   "metadata": {
    "execution": {
     "iopub.execute_input": "2023-12-03T20:34:39.349156Z",
     "iopub.status.busy": "2023-12-03T20:34:39.348464Z",
     "iopub.status.idle": "2023-12-03T20:34:39.353298Z",
     "shell.execute_reply": "2023-12-03T20:34:39.352062Z"
    },
    "papermill": {
     "duration": 0.017206,
     "end_time": "2023-12-03T20:34:39.355706",
     "exception": false,
     "start_time": "2023-12-03T20:34:39.338500",
     "status": "completed"
    },
    "tags": []
   },
   "outputs": [],
   "source": [
    "preditions_lables=labelEncoder.inverse_transform(preditions)\n"
   ]
  },
  {
   "cell_type": "code",
   "execution_count": 19,
   "id": "031b1de9",
   "metadata": {
    "execution": {
     "iopub.execute_input": "2023-12-03T20:34:39.370881Z",
     "iopub.status.busy": "2023-12-03T20:34:39.370245Z",
     "iopub.status.idle": "2023-12-03T20:34:39.378541Z",
     "shell.execute_reply": "2023-12-03T20:34:39.377049Z"
    },
    "papermill": {
     "duration": 0.018389,
     "end_time": "2023-12-03T20:34:39.380699",
     "exception": false,
     "start_time": "2023-12-03T20:34:39.362310",
     "status": "completed"
    },
    "tags": []
   },
   "outputs": [
    {
     "data": {
      "text/plain": [
       "array(['wakeup', 'wakeup', 'wakeup', 'wakeup', 'wakeup', 'wakeup',\n",
       "       'wakeup', 'wakeup', 'wakeup', 'wakeup', 'wakeup', 'wakeup',\n",
       "       'wakeup', 'wakeup', 'wakeup', 'wakeup', 'wakeup', 'wakeup',\n",
       "       'wakeup', 'wakeup', 'wakeup', 'wakeup', 'wakeup', 'wakeup',\n",
       "       'wakeup', 'wakeup', 'wakeup', 'wakeup', 'onset', 'onset', 'onset',\n",
       "       'onset', 'onset', 'onset', 'onset', 'onset', 'onset', 'onset',\n",
       "       'onset', 'onset', 'onset', 'onset', 'onset', 'onset', 'onset',\n",
       "       'onset', 'onset', 'onset', 'onset', 'onset', 'onset', 'onset',\n",
       "       'onset', 'onset', 'onset', 'onset', 'onset', 'onset', 'onset',\n",
       "       'onset', 'onset', 'onset', 'onset', 'onset', 'onset', 'onset',\n",
       "       'onset', 'onset', 'onset', 'onset', 'onset', 'onset', 'onset',\n",
       "       'onset', 'onset', 'onset', 'onset', 'onset', 'onset', 'onset',\n",
       "       'onset', 'onset', 'onset', 'onset', 'onset', 'onset', 'onset',\n",
       "       'onset', 'onset', 'onset', 'onset', 'onset', 'onset', 'onset',\n",
       "       'onset', 'onset', 'onset', 'onset', 'onset', 'onset', 'onset',\n",
       "       'onset', 'onset', 'onset', 'onset', 'onset', 'onset', 'onset',\n",
       "       'onset', 'onset', 'onset', 'onset', 'onset', 'onset', 'onset',\n",
       "       'onset', 'onset', 'onset', 'onset', 'onset', 'onset', 'onset',\n",
       "       'onset', 'onset', 'onset', 'onset', 'onset', 'onset', 'onset',\n",
       "       'onset', 'onset', 'onset', 'onset', 'onset', 'onset', 'onset',\n",
       "       'onset', 'onset', 'onset', 'onset', 'onset', 'onset', 'onset',\n",
       "       'onset', 'onset', 'onset', 'onset', 'onset', 'onset', 'onset',\n",
       "       'wakeup', 'wakeup', 'wakeup', 'wakeup', 'wakeup', 'wakeup',\n",
       "       'wakeup', 'wakeup', 'wakeup', 'wakeup', 'wakeup', 'wakeup',\n",
       "       'wakeup', 'wakeup', 'wakeup', 'wakeup', 'wakeup', 'wakeup',\n",
       "       'wakeup', 'wakeup', 'wakeup', 'wakeup', 'wakeup', 'wakeup',\n",
       "       'wakeup', 'wakeup', 'wakeup', 'wakeup', 'wakeup', 'wakeup',\n",
       "       'wakeup', 'wakeup', 'wakeup', 'wakeup', 'wakeup', 'wakeup',\n",
       "       'wakeup', 'wakeup', 'wakeup', 'wakeup', 'wakeup', 'wakeup',\n",
       "       'wakeup', 'wakeup', 'wakeup', 'wakeup', 'wakeup', 'wakeup',\n",
       "       'wakeup', 'wakeup', 'wakeup', 'wakeup', 'wakeup', 'wakeup',\n",
       "       'wakeup', 'wakeup', 'wakeup', 'wakeup', 'wakeup', 'wakeup',\n",
       "       'wakeup', 'wakeup', 'wakeup', 'wakeup', 'wakeup', 'wakeup',\n",
       "       'wakeup', 'wakeup', 'wakeup', 'wakeup', 'wakeup', 'wakeup',\n",
       "       'wakeup', 'wakeup', 'wakeup', 'wakeup', 'wakeup', 'wakeup',\n",
       "       'wakeup', 'wakeup', 'wakeup', 'wakeup', 'wakeup', 'wakeup',\n",
       "       'wakeup', 'wakeup', 'wakeup', 'wakeup', 'wakeup', 'wakeup',\n",
       "       'wakeup', 'wakeup', 'wakeup', 'wakeup', 'wakeup', 'wakeup',\n",
       "       'wakeup', 'wakeup', 'wakeup', 'wakeup', 'wakeup', 'wakeup',\n",
       "       'wakeup', 'wakeup', 'wakeup', 'wakeup', 'wakeup', 'wakeup',\n",
       "       'wakeup', 'wakeup', 'wakeup', 'wakeup', 'wakeup', 'wakeup',\n",
       "       'wakeup', 'wakeup', 'wakeup', 'wakeup', 'wakeup', 'wakeup',\n",
       "       'wakeup', 'wakeup', 'wakeup', 'wakeup', 'wakeup', 'wakeup',\n",
       "       'wakeup', 'wakeup', 'wakeup', 'wakeup', 'wakeup', 'wakeup',\n",
       "       'wakeup', 'wakeup', 'wakeup', 'wakeup', 'wakeup', 'wakeup',\n",
       "       'wakeup', 'wakeup', 'wakeup', 'wakeup', 'wakeup', 'wakeup',\n",
       "       'wakeup', 'wakeup', 'wakeup', 'wakeup', 'wakeup', 'wakeup',\n",
       "       'wakeup', 'wakeup', 'wakeup', 'wakeup', 'wakeup', 'wakeup',\n",
       "       'wakeup', 'wakeup', 'wakeup', 'wakeup', 'wakeup', 'wakeup',\n",
       "       'wakeup', 'wakeup', 'wakeup', 'wakeup', 'wakeup', 'wakeup',\n",
       "       'wakeup', 'wakeup', 'wakeup', 'wakeup', 'wakeup', 'wakeup',\n",
       "       'wakeup', 'wakeup', 'wakeup', 'wakeup', 'wakeup', 'wakeup',\n",
       "       'wakeup', 'wakeup', 'wakeup', 'wakeup', 'wakeup', 'wakeup',\n",
       "       'wakeup', 'wakeup', 'wakeup', 'wakeup', 'wakeup', 'wakeup',\n",
       "       'wakeup', 'wakeup', 'wakeup', 'wakeup', 'wakeup', 'wakeup',\n",
       "       'wakeup', 'wakeup', 'wakeup', 'wakeup', 'wakeup', 'wakeup',\n",
       "       'wakeup', 'wakeup', 'wakeup', 'wakeup', 'wakeup', 'wakeup',\n",
       "       'wakeup', 'wakeup', 'wakeup', 'wakeup', 'wakeup', 'wakeup',\n",
       "       'wakeup', 'wakeup', 'wakeup', 'wakeup', 'wakeup', 'wakeup',\n",
       "       'wakeup', 'wakeup', 'wakeup', 'wakeup', 'wakeup', 'wakeup',\n",
       "       'wakeup', 'wakeup', 'wakeup', 'wakeup', 'wakeup', 'wakeup',\n",
       "       'wakeup', 'wakeup', 'wakeup', 'wakeup', 'wakeup', 'wakeup',\n",
       "       'wakeup', 'wakeup', 'wakeup', 'wakeup', 'wakeup', 'wakeup',\n",
       "       'wakeup', 'wakeup', 'wakeup', 'wakeup', 'wakeup', 'wakeup',\n",
       "       'wakeup', 'wakeup', 'wakeup', 'wakeup', 'wakeup', 'wakeup',\n",
       "       'wakeup', 'wakeup', 'wakeup', 'wakeup', 'wakeup', 'wakeup',\n",
       "       'wakeup', 'wakeup', 'wakeup', 'wakeup', 'wakeup', 'wakeup',\n",
       "       'wakeup', 'wakeup', 'wakeup', 'wakeup', 'wakeup', 'wakeup',\n",
       "       'wakeup', 'wakeup', 'wakeup', 'wakeup', 'wakeup', 'wakeup',\n",
       "       'wakeup', 'wakeup', 'wakeup', 'wakeup', 'wakeup', 'wakeup',\n",
       "       'wakeup', 'wakeup', 'wakeup', 'wakeup', 'wakeup', 'wakeup',\n",
       "       'wakeup', 'wakeup', 'wakeup', 'wakeup', 'wakeup', 'wakeup'],\n",
       "      dtype=object)"
      ]
     },
     "execution_count": 19,
     "metadata": {},
     "output_type": "execute_result"
    }
   ],
   "source": [
    "preditions_lables"
   ]
  },
  {
   "cell_type": "code",
   "execution_count": 20,
   "id": "81bb857c",
   "metadata": {
    "execution": {
     "iopub.execute_input": "2023-12-03T20:34:39.400828Z",
     "iopub.status.busy": "2023-12-03T20:34:39.400235Z",
     "iopub.status.idle": "2023-12-03T20:34:39.514721Z",
     "shell.execute_reply": "2023-12-03T20:34:39.513031Z"
    },
    "papermill": {
     "duration": 0.128822,
     "end_time": "2023-12-03T20:34:39.517409",
     "exception": false,
     "start_time": "2023-12-03T20:34:39.388587",
     "status": "completed"
    },
    "tags": []
   },
   "outputs": [
    {
     "data": {
      "text/plain": [
       "0"
      ]
     },
     "execution_count": 20,
     "metadata": {},
     "output_type": "execute_result"
    }
   ],
   "source": [
    "preditions_proba=XGboostModel2.predict_proba(X_test)\n",
    "gc.collect()"
   ]
  },
  {
   "cell_type": "code",
   "execution_count": 21,
   "id": "d133b3c3",
   "metadata": {
    "execution": {
     "iopub.execute_input": "2023-12-03T20:34:39.532971Z",
     "iopub.status.busy": "2023-12-03T20:34:39.532598Z",
     "iopub.status.idle": "2023-12-03T20:34:39.542061Z",
     "shell.execute_reply": "2023-12-03T20:34:39.540431Z"
    },
    "papermill": {
     "duration": 0.01993,
     "end_time": "2023-12-03T20:34:39.544516",
     "exception": false,
     "start_time": "2023-12-03T20:34:39.524586",
     "status": "completed"
    },
    "tags": []
   },
   "outputs": [
    {
     "name": "stderr",
     "output_type": "stream",
     "text": [
      "/tmp/ipykernel_20/2627425699.py:2: SettingWithCopyWarning: \n",
      "A value is trying to be set on a copy of a slice from a DataFrame.\n",
      "Try using .loc[row_indexer,col_indexer] = value instead\n",
      "\n",
      "See the caveats in the documentation: https://pandas.pydata.org/pandas-docs/stable/user_guide/indexing.html#returning-a-view-versus-a-copy\n",
      "  submission['event']=preditions_lables\n",
      "/tmp/ipykernel_20/2627425699.py:3: SettingWithCopyWarning: \n",
      "A value is trying to be set on a copy of a slice from a DataFrame.\n",
      "Try using .loc[row_indexer,col_indexer] = value instead\n",
      "\n",
      "See the caveats in the documentation: https://pandas.pydata.org/pandas-docs/stable/user_guide/indexing.html#returning-a-view-versus-a-copy\n",
      "  submission['score']=preditions_proba[:,1]\n"
     ]
    }
   ],
   "source": [
    "submission=testDF[['series_id','step']]\n",
    "submission['event']=preditions_lables\n",
    "submission['score']=preditions_proba[:,1]"
   ]
  },
  {
   "cell_type": "code",
   "execution_count": 22,
   "id": "13f2e796",
   "metadata": {
    "execution": {
     "iopub.execute_input": "2023-12-03T20:34:39.560047Z",
     "iopub.status.busy": "2023-12-03T20:34:39.559673Z",
     "iopub.status.idle": "2023-12-03T20:34:39.566802Z",
     "shell.execute_reply": "2023-12-03T20:34:39.566047Z"
    },
    "papermill": {
     "duration": 0.016964,
     "end_time": "2023-12-03T20:34:39.568537",
     "exception": false,
     "start_time": "2023-12-03T20:34:39.551573",
     "status": "completed"
    },
    "tags": []
   },
   "outputs": [],
   "source": [
    "#submission = submission.sort_values(['series_id','step']).reset_index(drop=True)\n",
    "submission['row_id'] = submission.index.astype(int)\n",
    "submission = submission[['row_id','series_id','step','event','score']]\n",
    "#submission['score'] = submission['score'].fillna(submission['score'].mean())"
   ]
  },
  {
   "cell_type": "code",
   "execution_count": 23,
   "id": "261092cc",
   "metadata": {
    "execution": {
     "iopub.execute_input": "2023-12-03T20:34:39.583873Z",
     "iopub.status.busy": "2023-12-03T20:34:39.583197Z",
     "iopub.status.idle": "2023-12-03T20:34:39.593930Z",
     "shell.execute_reply": "2023-12-03T20:34:39.592607Z"
    },
    "papermill": {
     "duration": 0.021132,
     "end_time": "2023-12-03T20:34:39.596421",
     "exception": false,
     "start_time": "2023-12-03T20:34:39.575289",
     "status": "completed"
    },
    "tags": []
   },
   "outputs": [],
   "source": [
    "submission.to_csv('submission.csv')"
   ]
  },
  {
   "cell_type": "code",
   "execution_count": null,
   "id": "05b8b9f9",
   "metadata": {
    "papermill": {
     "duration": 0.006514,
     "end_time": "2023-12-03T20:34:39.610061",
     "exception": false,
     "start_time": "2023-12-03T20:34:39.603547",
     "status": "completed"
    },
    "tags": []
   },
   "outputs": [],
   "source": []
  },
  {
   "cell_type": "code",
   "execution_count": null,
   "id": "87011707",
   "metadata": {
    "papermill": {
     "duration": 0.006377,
     "end_time": "2023-12-03T20:34:39.623200",
     "exception": false,
     "start_time": "2023-12-03T20:34:39.616823",
     "status": "completed"
    },
    "tags": []
   },
   "outputs": [],
   "source": []
  }
 ],
 "metadata": {
  "kaggle": {
   "accelerator": "none",
   "dataSources": [
    {
     "databundleVersionId": 6589269,
     "sourceId": 53666,
     "sourceType": "competition"
    },
    {
     "datasetId": 4101059,
     "sourceId": 7112181,
     "sourceType": "datasetVersion"
    },
    {
     "datasetId": 4101210,
     "sourceId": 7112383,
     "sourceType": "datasetVersion"
    },
    {
     "datasetId": 4103330,
     "sourceId": 7115270,
     "sourceType": "datasetVersion"
    }
   ],
   "dockerImageVersionId": 30587,
   "isGpuEnabled": false,
   "isInternetEnabled": false,
   "language": "python",
   "sourceType": "notebook"
  },
  "kernelspec": {
   "display_name": "Python 3",
   "language": "python",
   "name": "python3"
  },
  "language_info": {
   "codemirror_mode": {
    "name": "ipython",
    "version": 3
   },
   "file_extension": ".py",
   "mimetype": "text/x-python",
   "name": "python",
   "nbconvert_exporter": "python",
   "pygments_lexer": "ipython3",
   "version": "3.10.12"
  },
  "papermill": {
   "default_parameters": {},
   "duration": 8.632485,
   "end_time": "2023-12-03T20:34:40.251555",
   "environment_variables": {},
   "exception": null,
   "input_path": "__notebook__.ipynb",
   "output_path": "__notebook__.ipynb",
   "parameters": {},
   "start_time": "2023-12-03T20:34:31.619070",
   "version": "2.4.0"
  }
 },
 "nbformat": 4,
 "nbformat_minor": 5
}
