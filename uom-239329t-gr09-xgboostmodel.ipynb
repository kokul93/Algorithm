{
 "cells": [
  {
   "cell_type": "code",
   "execution_count": 1,
   "id": "ed8c8669",
   "metadata": {
    "_cell_guid": "b1076dfc-b9ad-4769-8c92-a6c4dae69d19",
    "_uuid": "8f2839f25d086af736a60e9eeb907d3b93b6e0e5",
    "execution": {
     "iopub.execute_input": "2023-12-03T14:42:28.148969Z",
     "iopub.status.busy": "2023-12-03T14:42:28.148440Z",
     "iopub.status.idle": "2023-12-03T14:42:28.649145Z",
     "shell.execute_reply": "2023-12-03T14:42:28.647391Z"
    },
    "papermill": {
     "duration": 0.516472,
     "end_time": "2023-12-03T14:42:28.652174",
     "exception": false,
     "start_time": "2023-12-03T14:42:28.135702",
     "status": "completed"
    },
    "tags": []
   },
   "outputs": [
    {
     "name": "stdout",
     "output_type": "stream",
     "text": [
      "/kaggle/input/preprocessing/cropedTrainSeries3.csv\n",
      "/kaggle/input/scalers/enmoScaler.pkl\n",
      "/kaggle/input/scalers/anglezScaler.pkl\n",
      "/kaggle/input/child-mind-institute-detect-sleep-states/train_series.parquet\n",
      "/kaggle/input/child-mind-institute-detect-sleep-states/sample_submission.csv\n",
      "/kaggle/input/child-mind-institute-detect-sleep-states/train_events.csv\n",
      "/kaggle/input/child-mind-institute-detect-sleep-states/test_series.parquet\n"
     ]
    }
   ],
   "source": [
    "# This Python 3 environment comes with many helpful analytics libraries installed\n",
    "# It is defined by the kaggle/python Docker image: https://github.com/kaggle/docker-python\n",
    "# For example, here's several helpful packages to load\n",
    "\n",
    "import numpy as np # linear algebra\n",
    "import pandas as pd # data processing, CSV file I/O (e.g. pd.read_csv)\n",
    "\n",
    "# Input data files are available in the read-only \"../input/\" directory\n",
    "# For example, running this (by clicking run or pressing Shift+Enter) will list all files under the input directory\n",
    "\n",
    "import os\n",
    "for dirname, _, filenames in os.walk('/kaggle/input'):\n",
    "    for filename in filenames:\n",
    "        print(os.path.join(dirname, filename))\n",
    "\n",
    "# You can write up to 20GB to the current directory (/kaggle/working/) that gets preserved as output when you create a version using \"Save & Run All\" \n",
    "# You can also write temporary files to /kaggle/temp/, but they won't be saved outside of the current session"
   ]
  },
  {
   "cell_type": "code",
   "execution_count": 2,
   "id": "8c850ecf",
   "metadata": {
    "execution": {
     "iopub.execute_input": "2023-12-03T14:42:28.675150Z",
     "iopub.status.busy": "2023-12-03T14:42:28.674413Z",
     "iopub.status.idle": "2023-12-03T14:42:30.477036Z",
     "shell.execute_reply": "2023-12-03T14:42:30.475661Z"
    },
    "papermill": {
     "duration": 1.817339,
     "end_time": "2023-12-03T14:42:30.479905",
     "exception": false,
     "start_time": "2023-12-03T14:42:28.662566",
     "status": "completed"
    },
    "tags": []
   },
   "outputs": [],
   "source": [
    "from xgboost import XGBClassifier\n",
    "import joblib\n",
    "from sklearn.model_selection import RandomizedSearchCV, TimeSeriesSplit\n",
    "from sklearn.datasets import load_digits\n",
    "from sklearn.preprocessing import LabelEncoder\n",
    "from scipy.stats import randint, uniform"
   ]
  },
  {
   "cell_type": "code",
   "execution_count": 3,
   "id": "1569523a",
   "metadata": {
    "execution": {
     "iopub.execute_input": "2023-12-03T14:42:30.502479Z",
     "iopub.status.busy": "2023-12-03T14:42:30.502003Z",
     "iopub.status.idle": "2023-12-03T14:42:39.126617Z",
     "shell.execute_reply": "2023-12-03T14:42:39.125402Z"
    },
    "papermill": {
     "duration": 8.639341,
     "end_time": "2023-12-03T14:42:39.129810",
     "exception": false,
     "start_time": "2023-12-03T14:42:30.490469",
     "status": "completed"
    },
    "tags": []
   },
   "outputs": [],
   "source": [
    "trainDF=pd.read_csv('/kaggle/input/preprocessing/cropedTrainSeries3.csv')"
   ]
  },
  {
   "cell_type": "code",
   "execution_count": 4,
   "id": "b40ed5f2",
   "metadata": {
    "execution": {
     "iopub.execute_input": "2023-12-03T14:42:39.151265Z",
     "iopub.status.busy": "2023-12-03T14:42:39.150870Z",
     "iopub.status.idle": "2023-12-03T14:42:39.183310Z",
     "shell.execute_reply": "2023-12-03T14:42:39.182261Z"
    },
    "papermill": {
     "duration": 0.046182,
     "end_time": "2023-12-03T14:42:39.185950",
     "exception": false,
     "start_time": "2023-12-03T14:42:39.139768",
     "status": "completed"
    },
    "tags": []
   },
   "outputs": [
    {
     "data": {
      "text/html": [
       "<div>\n",
       "<style scoped>\n",
       "    .dataframe tbody tr th:only-of-type {\n",
       "        vertical-align: middle;\n",
       "    }\n",
       "\n",
       "    .dataframe tbody tr th {\n",
       "        vertical-align: top;\n",
       "    }\n",
       "\n",
       "    .dataframe thead th {\n",
       "        text-align: right;\n",
       "    }\n",
       "</style>\n",
       "<table border=\"1\" class=\"dataframe\">\n",
       "  <thead>\n",
       "    <tr style=\"text-align: right;\">\n",
       "      <th></th>\n",
       "      <th>series_id</th>\n",
       "      <th>step</th>\n",
       "      <th>timestamp</th>\n",
       "      <th>anglez</th>\n",
       "      <th>enmo</th>\n",
       "      <th>Date</th>\n",
       "      <th>Time</th>\n",
       "      <th>event</th>\n",
       "      <th>NewDate</th>\n",
       "      <th>Season</th>\n",
       "      <th>Summer</th>\n",
       "      <th>Autumn</th>\n",
       "      <th>Spring</th>\n",
       "      <th>Winter</th>\n",
       "      <th>anglezScaled</th>\n",
       "      <th>enmoScaled</th>\n",
       "      <th>weekday</th>\n",
       "      <th>time_in_seconds</th>\n",
       "      <th>sin_time</th>\n",
       "      <th>cos_time</th>\n",
       "    </tr>\n",
       "  </thead>\n",
       "  <tbody>\n",
       "    <tr>\n",
       "      <th>0</th>\n",
       "      <td>038441c925bb</td>\n",
       "      <td>0</td>\n",
       "      <td>2018-08-14 19:30:00+00:00</td>\n",
       "      <td>2.6367</td>\n",
       "      <td>0.0217</td>\n",
       "      <td>2018-08-14</td>\n",
       "      <td>1900-01-01 19:30:00</td>\n",
       "      <td>onset</td>\n",
       "      <td>2018-08-14</td>\n",
       "      <td>Summer</td>\n",
       "      <td>1.0</td>\n",
       "      <td>NaN</td>\n",
       "      <td>NaN</td>\n",
       "      <td>NaN</td>\n",
       "      <td>0.517288</td>\n",
       "      <td>0.502686</td>\n",
       "      <td>1</td>\n",
       "      <td>70200</td>\n",
       "      <td>-0.923880</td>\n",
       "      <td>0.382683</td>\n",
       "    </tr>\n",
       "    <tr>\n",
       "      <th>1</th>\n",
       "      <td>038441c925bb</td>\n",
       "      <td>1</td>\n",
       "      <td>2018-08-14 19:30:05+00:00</td>\n",
       "      <td>2.6368</td>\n",
       "      <td>0.0215</td>\n",
       "      <td>2018-08-14</td>\n",
       "      <td>1900-01-01 19:30:05</td>\n",
       "      <td>onset</td>\n",
       "      <td>2018-08-14</td>\n",
       "      <td>Summer</td>\n",
       "      <td>1.0</td>\n",
       "      <td>NaN</td>\n",
       "      <td>NaN</td>\n",
       "      <td>NaN</td>\n",
       "      <td>0.517289</td>\n",
       "      <td>0.502685</td>\n",
       "      <td>1</td>\n",
       "      <td>70205</td>\n",
       "      <td>-0.923740</td>\n",
       "      <td>0.383019</td>\n",
       "    </tr>\n",
       "    <tr>\n",
       "      <th>2</th>\n",
       "      <td>038441c925bb</td>\n",
       "      <td>2</td>\n",
       "      <td>2018-08-14 19:30:10+00:00</td>\n",
       "      <td>2.6370</td>\n",
       "      <td>0.0216</td>\n",
       "      <td>2018-08-14</td>\n",
       "      <td>1900-01-01 19:30:10</td>\n",
       "      <td>onset</td>\n",
       "      <td>2018-08-14</td>\n",
       "      <td>Summer</td>\n",
       "      <td>1.0</td>\n",
       "      <td>NaN</td>\n",
       "      <td>NaN</td>\n",
       "      <td>NaN</td>\n",
       "      <td>0.517290</td>\n",
       "      <td>0.502685</td>\n",
       "      <td>1</td>\n",
       "      <td>70210</td>\n",
       "      <td>-0.923601</td>\n",
       "      <td>0.383355</td>\n",
       "    </tr>\n",
       "    <tr>\n",
       "      <th>3</th>\n",
       "      <td>038441c925bb</td>\n",
       "      <td>3</td>\n",
       "      <td>2018-08-14 19:30:15+00:00</td>\n",
       "      <td>2.6368</td>\n",
       "      <td>0.0213</td>\n",
       "      <td>2018-08-14</td>\n",
       "      <td>1900-01-01 19:30:15</td>\n",
       "      <td>onset</td>\n",
       "      <td>2018-08-14</td>\n",
       "      <td>Summer</td>\n",
       "      <td>1.0</td>\n",
       "      <td>NaN</td>\n",
       "      <td>NaN</td>\n",
       "      <td>NaN</td>\n",
       "      <td>0.517289</td>\n",
       "      <td>0.502684</td>\n",
       "      <td>1</td>\n",
       "      <td>70215</td>\n",
       "      <td>-0.923462</td>\n",
       "      <td>0.383691</td>\n",
       "    </tr>\n",
       "    <tr>\n",
       "      <th>4</th>\n",
       "      <td>038441c925bb</td>\n",
       "      <td>4</td>\n",
       "      <td>2018-08-14 19:30:20+00:00</td>\n",
       "      <td>2.6368</td>\n",
       "      <td>0.0215</td>\n",
       "      <td>2018-08-14</td>\n",
       "      <td>1900-01-01 19:30:20</td>\n",
       "      <td>onset</td>\n",
       "      <td>2018-08-14</td>\n",
       "      <td>Summer</td>\n",
       "      <td>1.0</td>\n",
       "      <td>NaN</td>\n",
       "      <td>NaN</td>\n",
       "      <td>NaN</td>\n",
       "      <td>0.517289</td>\n",
       "      <td>0.502685</td>\n",
       "      <td>1</td>\n",
       "      <td>70220</td>\n",
       "      <td>-0.923322</td>\n",
       "      <td>0.384027</td>\n",
       "    </tr>\n",
       "  </tbody>\n",
       "</table>\n",
       "</div>"
      ],
      "text/plain": [
       "      series_id  step                  timestamp  anglez    enmo        Date  \\\n",
       "0  038441c925bb     0  2018-08-14 19:30:00+00:00  2.6367  0.0217  2018-08-14   \n",
       "1  038441c925bb     1  2018-08-14 19:30:05+00:00  2.6368  0.0215  2018-08-14   \n",
       "2  038441c925bb     2  2018-08-14 19:30:10+00:00  2.6370  0.0216  2018-08-14   \n",
       "3  038441c925bb     3  2018-08-14 19:30:15+00:00  2.6368  0.0213  2018-08-14   \n",
       "4  038441c925bb     4  2018-08-14 19:30:20+00:00  2.6368  0.0215  2018-08-14   \n",
       "\n",
       "                  Time  event     NewDate  Season  Summer  Autumn  Spring  \\\n",
       "0  1900-01-01 19:30:00  onset  2018-08-14  Summer     1.0     NaN     NaN   \n",
       "1  1900-01-01 19:30:05  onset  2018-08-14  Summer     1.0     NaN     NaN   \n",
       "2  1900-01-01 19:30:10  onset  2018-08-14  Summer     1.0     NaN     NaN   \n",
       "3  1900-01-01 19:30:15  onset  2018-08-14  Summer     1.0     NaN     NaN   \n",
       "4  1900-01-01 19:30:20  onset  2018-08-14  Summer     1.0     NaN     NaN   \n",
       "\n",
       "   Winter  anglezScaled  enmoScaled  weekday  time_in_seconds  sin_time  \\\n",
       "0     NaN      0.517288    0.502686        1            70200 -0.923880   \n",
       "1     NaN      0.517289    0.502685        1            70205 -0.923740   \n",
       "2     NaN      0.517290    0.502685        1            70210 -0.923601   \n",
       "3     NaN      0.517289    0.502684        1            70215 -0.923462   \n",
       "4     NaN      0.517289    0.502685        1            70220 -0.923322   \n",
       "\n",
       "   cos_time  \n",
       "0  0.382683  \n",
       "1  0.383019  \n",
       "2  0.383355  \n",
       "3  0.383691  \n",
       "4  0.384027  "
      ]
     },
     "execution_count": 4,
     "metadata": {},
     "output_type": "execute_result"
    }
   ],
   "source": [
    "trainDF.head()"
   ]
  },
  {
   "cell_type": "code",
   "execution_count": 5,
   "id": "c5476bb2",
   "metadata": {
    "execution": {
     "iopub.execute_input": "2023-12-03T14:42:39.207990Z",
     "iopub.status.busy": "2023-12-03T14:42:39.207593Z",
     "iopub.status.idle": "2023-12-03T14:42:39.249913Z",
     "shell.execute_reply": "2023-12-03T14:42:39.248894Z"
    },
    "papermill": {
     "duration": 0.056473,
     "end_time": "2023-12-03T14:42:39.252602",
     "exception": false,
     "start_time": "2023-12-03T14:42:39.196129",
     "status": "completed"
    },
    "tags": []
   },
   "outputs": [],
   "source": [
    "trainFeatures=['sin_time','cos_time','Summer','Autumn','Spring','Winter','anglezScaled','enmoScaled','weekday']\n",
    "X_train=trainDF[trainFeatures]"
   ]
  },
  {
   "cell_type": "code",
   "execution_count": 6,
   "id": "09c52c3a",
   "metadata": {
    "execution": {
     "iopub.execute_input": "2023-12-03T14:42:39.274830Z",
     "iopub.status.busy": "2023-12-03T14:42:39.274458Z",
     "iopub.status.idle": "2023-12-03T14:42:39.645635Z",
     "shell.execute_reply": "2023-12-03T14:42:39.644868Z"
    },
    "papermill": {
     "duration": 0.384903,
     "end_time": "2023-12-03T14:42:39.647875",
     "exception": false,
     "start_time": "2023-12-03T14:42:39.262972",
     "status": "completed"
    },
    "tags": []
   },
   "outputs": [
    {
     "data": {
      "text/plain": [
       "array([0, 0, 0, ..., 1, 1, 1])"
      ]
     },
     "execution_count": 6,
     "metadata": {},
     "output_type": "execute_result"
    }
   ],
   "source": [
    "li=LabelEncoder()\n",
    "y_train=li.fit_transform(trainDF['event'])\n",
    "y_train"
   ]
  },
  {
   "cell_type": "code",
   "execution_count": 7,
   "id": "dc99f41c",
   "metadata": {
    "execution": {
     "iopub.execute_input": "2023-12-03T14:42:39.671098Z",
     "iopub.status.busy": "2023-12-03T14:42:39.670084Z",
     "iopub.status.idle": "2023-12-03T14:42:39.674608Z",
     "shell.execute_reply": "2023-12-03T14:42:39.673786Z"
    },
    "papermill": {
     "duration": 0.018404,
     "end_time": "2023-12-03T14:42:39.676833",
     "exception": false,
     "start_time": "2023-12-03T14:42:39.658429",
     "status": "completed"
    },
    "tags": []
   },
   "outputs": [],
   "source": [
    "xgb_classifier = XGBClassifier()"
   ]
  },
  {
   "cell_type": "code",
   "execution_count": 8,
   "id": "f1986af4",
   "metadata": {
    "execution": {
     "iopub.execute_input": "2023-12-03T14:42:39.700127Z",
     "iopub.status.busy": "2023-12-03T14:42:39.699099Z",
     "iopub.status.idle": "2023-12-03T14:42:39.712037Z",
     "shell.execute_reply": "2023-12-03T14:42:39.710970Z"
    },
    "papermill": {
     "duration": 0.027282,
     "end_time": "2023-12-03T14:42:39.714785",
     "exception": false,
     "start_time": "2023-12-03T14:42:39.687503",
     "status": "completed"
    },
    "tags": []
   },
   "outputs": [],
   "source": [
    "# Define the hyperparameter search space\n",
    "param_dist = {\n",
    "    'n_estimators': randint(50, 200),\n",
    "    'max_depth': randint(1, 10),\n",
    "    'learning_rate': uniform(0.01, 0.3),\n",
    "    'subsample': uniform(0.6, 0.4),\n",
    "    'colsample_bytree': uniform(0.6, 0.4),\n",
    "    'gamma': uniform(0, 0.5),\n",
    "}\n",
    "\n",
    "# Use time series cross-validation\n",
    "tscv = TimeSeriesSplit(n_splits=5)\n",
    "\n",
    "# RandomizedSearchCV for hyperparameter tuning\n",
    "random_search = RandomizedSearchCV(\n",
    "    xgb_classifier, param_distributions=param_dist, n_iter=10, scoring='accuracy', cv=tscv, verbose=2, n_jobs=-1\n",
    ")"
   ]
  },
  {
   "cell_type": "code",
   "execution_count": 9,
   "id": "4a5619df",
   "metadata": {
    "execution": {
     "iopub.execute_input": "2023-12-03T14:42:39.737906Z",
     "iopub.status.busy": "2023-12-03T14:42:39.737478Z",
     "iopub.status.idle": "2023-12-03T14:45:55.444018Z",
     "shell.execute_reply": "2023-12-03T14:45:55.442882Z"
    },
    "papermill": {
     "duration": 195.73144,
     "end_time": "2023-12-03T14:45:55.456787",
     "exception": false,
     "start_time": "2023-12-03T14:42:39.725347",
     "status": "completed"
    },
    "tags": []
   },
   "outputs": [
    {
     "name": "stdout",
     "output_type": "stream",
     "text": [
      "Fitting 5 folds for each of 10 candidates, totalling 50 fits\n"
     ]
    },
    {
     "data": {
      "text/html": [
       "<style>#sk-container-id-1 {color: black;background-color: white;}#sk-container-id-1 pre{padding: 0;}#sk-container-id-1 div.sk-toggleable {background-color: white;}#sk-container-id-1 label.sk-toggleable__label {cursor: pointer;display: block;width: 100%;margin-bottom: 0;padding: 0.3em;box-sizing: border-box;text-align: center;}#sk-container-id-1 label.sk-toggleable__label-arrow:before {content: \"▸\";float: left;margin-right: 0.25em;color: #696969;}#sk-container-id-1 label.sk-toggleable__label-arrow:hover:before {color: black;}#sk-container-id-1 div.sk-estimator:hover label.sk-toggleable__label-arrow:before {color: black;}#sk-container-id-1 div.sk-toggleable__content {max-height: 0;max-width: 0;overflow: hidden;text-align: left;background-color: #f0f8ff;}#sk-container-id-1 div.sk-toggleable__content pre {margin: 0.2em;color: black;border-radius: 0.25em;background-color: #f0f8ff;}#sk-container-id-1 input.sk-toggleable__control:checked~div.sk-toggleable__content {max-height: 200px;max-width: 100%;overflow: auto;}#sk-container-id-1 input.sk-toggleable__control:checked~label.sk-toggleable__label-arrow:before {content: \"▾\";}#sk-container-id-1 div.sk-estimator input.sk-toggleable__control:checked~label.sk-toggleable__label {background-color: #d4ebff;}#sk-container-id-1 div.sk-label input.sk-toggleable__control:checked~label.sk-toggleable__label {background-color: #d4ebff;}#sk-container-id-1 input.sk-hidden--visually {border: 0;clip: rect(1px 1px 1px 1px);clip: rect(1px, 1px, 1px, 1px);height: 1px;margin: -1px;overflow: hidden;padding: 0;position: absolute;width: 1px;}#sk-container-id-1 div.sk-estimator {font-family: monospace;background-color: #f0f8ff;border: 1px dotted black;border-radius: 0.25em;box-sizing: border-box;margin-bottom: 0.5em;}#sk-container-id-1 div.sk-estimator:hover {background-color: #d4ebff;}#sk-container-id-1 div.sk-parallel-item::after {content: \"\";width: 100%;border-bottom: 1px solid gray;flex-grow: 1;}#sk-container-id-1 div.sk-label:hover label.sk-toggleable__label {background-color: #d4ebff;}#sk-container-id-1 div.sk-serial::before {content: \"\";position: absolute;border-left: 1px solid gray;box-sizing: border-box;top: 0;bottom: 0;left: 50%;z-index: 0;}#sk-container-id-1 div.sk-serial {display: flex;flex-direction: column;align-items: center;background-color: white;padding-right: 0.2em;padding-left: 0.2em;position: relative;}#sk-container-id-1 div.sk-item {position: relative;z-index: 1;}#sk-container-id-1 div.sk-parallel {display: flex;align-items: stretch;justify-content: center;background-color: white;position: relative;}#sk-container-id-1 div.sk-item::before, #sk-container-id-1 div.sk-parallel-item::before {content: \"\";position: absolute;border-left: 1px solid gray;box-sizing: border-box;top: 0;bottom: 0;left: 50%;z-index: -1;}#sk-container-id-1 div.sk-parallel-item {display: flex;flex-direction: column;z-index: 1;position: relative;background-color: white;}#sk-container-id-1 div.sk-parallel-item:first-child::after {align-self: flex-end;width: 50%;}#sk-container-id-1 div.sk-parallel-item:last-child::after {align-self: flex-start;width: 50%;}#sk-container-id-1 div.sk-parallel-item:only-child::after {width: 0;}#sk-container-id-1 div.sk-dashed-wrapped {border: 1px dashed gray;margin: 0 0.4em 0.5em 0.4em;box-sizing: border-box;padding-bottom: 0.4em;background-color: white;}#sk-container-id-1 div.sk-label label {font-family: monospace;font-weight: bold;display: inline-block;line-height: 1.2em;}#sk-container-id-1 div.sk-label-container {text-align: center;}#sk-container-id-1 div.sk-container {/* jupyter's `normalize.less` sets `[hidden] { display: none; }` but bootstrap.min.css set `[hidden] { display: none !important; }` so we also need the `!important` here to be able to override the default hidden behavior on the sphinx rendered scikit-learn.org. See: https://github.com/scikit-learn/scikit-learn/issues/21755 */display: inline-block !important;position: relative;}#sk-container-id-1 div.sk-text-repr-fallback {display: none;}</style><div id=\"sk-container-id-1\" class=\"sk-top-container\"><div class=\"sk-text-repr-fallback\"><pre>RandomizedSearchCV(cv=TimeSeriesSplit(gap=0, max_train_size=None, n_splits=5, test_size=None),\n",
       "                   estimator=XGBClassifier(base_score=None, booster=None,\n",
       "                                           callbacks=None,\n",
       "                                           colsample_bylevel=None,\n",
       "                                           colsample_bynode=None,\n",
       "                                           colsample_bytree=None, device=None,\n",
       "                                           early_stopping_rounds=None,\n",
       "                                           enable_categorical=False,\n",
       "                                           eval_metric=None, feature_types=None,\n",
       "                                           gamma=None, grow_policy=N...\n",
       "                                        &#x27;learning_rate&#x27;: &lt;scipy.stats._distn_infrastructure.rv_continuous_frozen object at 0x7f420d450fd0&gt;,\n",
       "                                        &#x27;max_depth&#x27;: &lt;scipy.stats._distn_infrastructure.rv_discrete_frozen object at 0x7f4219653dc0&gt;,\n",
       "                                        &#x27;n_estimators&#x27;: &lt;scipy.stats._distn_infrastructure.rv_discrete_frozen object at 0x7f4219653730&gt;,\n",
       "                                        &#x27;subsample&#x27;: &lt;scipy.stats._distn_infrastructure.rv_continuous_frozen object at 0x7f420d450370&gt;},\n",
       "                   scoring=&#x27;accuracy&#x27;, verbose=2)</pre><b>In a Jupyter environment, please rerun this cell to show the HTML representation or trust the notebook. <br />On GitHub, the HTML representation is unable to render, please try loading this page with nbviewer.org.</b></div><div class=\"sk-container\" hidden><div class=\"sk-item sk-dashed-wrapped\"><div class=\"sk-label-container\"><div class=\"sk-label sk-toggleable\"><input class=\"sk-toggleable__control sk-hidden--visually\" id=\"sk-estimator-id-1\" type=\"checkbox\" ><label for=\"sk-estimator-id-1\" class=\"sk-toggleable__label sk-toggleable__label-arrow\">RandomizedSearchCV</label><div class=\"sk-toggleable__content\"><pre>RandomizedSearchCV(cv=TimeSeriesSplit(gap=0, max_train_size=None, n_splits=5, test_size=None),\n",
       "                   estimator=XGBClassifier(base_score=None, booster=None,\n",
       "                                           callbacks=None,\n",
       "                                           colsample_bylevel=None,\n",
       "                                           colsample_bynode=None,\n",
       "                                           colsample_bytree=None, device=None,\n",
       "                                           early_stopping_rounds=None,\n",
       "                                           enable_categorical=False,\n",
       "                                           eval_metric=None, feature_types=None,\n",
       "                                           gamma=None, grow_policy=N...\n",
       "                                        &#x27;learning_rate&#x27;: &lt;scipy.stats._distn_infrastructure.rv_continuous_frozen object at 0x7f420d450fd0&gt;,\n",
       "                                        &#x27;max_depth&#x27;: &lt;scipy.stats._distn_infrastructure.rv_discrete_frozen object at 0x7f4219653dc0&gt;,\n",
       "                                        &#x27;n_estimators&#x27;: &lt;scipy.stats._distn_infrastructure.rv_discrete_frozen object at 0x7f4219653730&gt;,\n",
       "                                        &#x27;subsample&#x27;: &lt;scipy.stats._distn_infrastructure.rv_continuous_frozen object at 0x7f420d450370&gt;},\n",
       "                   scoring=&#x27;accuracy&#x27;, verbose=2)</pre></div></div></div><div class=\"sk-parallel\"><div class=\"sk-parallel-item\"><div class=\"sk-item\"><div class=\"sk-label-container\"><div class=\"sk-label sk-toggleable\"><input class=\"sk-toggleable__control sk-hidden--visually\" id=\"sk-estimator-id-2\" type=\"checkbox\" ><label for=\"sk-estimator-id-2\" class=\"sk-toggleable__label sk-toggleable__label-arrow\">estimator: XGBClassifier</label><div class=\"sk-toggleable__content\"><pre>XGBClassifier(base_score=None, booster=None, callbacks=None,\n",
       "              colsample_bylevel=None, colsample_bynode=None,\n",
       "              colsample_bytree=None, device=None, early_stopping_rounds=None,\n",
       "              enable_categorical=False, eval_metric=None, feature_types=None,\n",
       "              gamma=None, grow_policy=None, importance_type=None,\n",
       "              interaction_constraints=None, learning_rate=None, max_bin=None,\n",
       "              max_cat_threshold=None, max_cat_to_onehot=None,\n",
       "              max_delta_step=None, max_depth=None, max_leaves=None,\n",
       "              min_child_weight=None, missing=nan, monotone_constraints=None,\n",
       "              multi_strategy=None, n_estimators=None, n_jobs=None,\n",
       "              num_parallel_tree=None, random_state=None, ...)</pre></div></div></div><div class=\"sk-serial\"><div class=\"sk-item\"><div class=\"sk-estimator sk-toggleable\"><input class=\"sk-toggleable__control sk-hidden--visually\" id=\"sk-estimator-id-3\" type=\"checkbox\" ><label for=\"sk-estimator-id-3\" class=\"sk-toggleable__label sk-toggleable__label-arrow\">XGBClassifier</label><div class=\"sk-toggleable__content\"><pre>XGBClassifier(base_score=None, booster=None, callbacks=None,\n",
       "              colsample_bylevel=None, colsample_bynode=None,\n",
       "              colsample_bytree=None, device=None, early_stopping_rounds=None,\n",
       "              enable_categorical=False, eval_metric=None, feature_types=None,\n",
       "              gamma=None, grow_policy=None, importance_type=None,\n",
       "              interaction_constraints=None, learning_rate=None, max_bin=None,\n",
       "              max_cat_threshold=None, max_cat_to_onehot=None,\n",
       "              max_delta_step=None, max_depth=None, max_leaves=None,\n",
       "              min_child_weight=None, missing=nan, monotone_constraints=None,\n",
       "              multi_strategy=None, n_estimators=None, n_jobs=None,\n",
       "              num_parallel_tree=None, random_state=None, ...)</pre></div></div></div></div></div></div></div></div></div></div>"
      ],
      "text/plain": [
       "RandomizedSearchCV(cv=TimeSeriesSplit(gap=0, max_train_size=None, n_splits=5, test_size=None),\n",
       "                   estimator=XGBClassifier(base_score=None, booster=None,\n",
       "                                           callbacks=None,\n",
       "                                           colsample_bylevel=None,\n",
       "                                           colsample_bynode=None,\n",
       "                                           colsample_bytree=None, device=None,\n",
       "                                           early_stopping_rounds=None,\n",
       "                                           enable_categorical=False,\n",
       "                                           eval_metric=None, feature_types=None,\n",
       "                                           gamma=None, grow_policy=N...\n",
       "                                        'learning_rate': <scipy.stats._distn_infrastructure.rv_continuous_frozen object at 0x7f420d450fd0>,\n",
       "                                        'max_depth': <scipy.stats._distn_infrastructure.rv_discrete_frozen object at 0x7f4219653dc0>,\n",
       "                                        'n_estimators': <scipy.stats._distn_infrastructure.rv_discrete_frozen object at 0x7f4219653730>,\n",
       "                                        'subsample': <scipy.stats._distn_infrastructure.rv_continuous_frozen object at 0x7f420d450370>},\n",
       "                   scoring='accuracy', verbose=2)"
      ]
     },
     "execution_count": 9,
     "metadata": {},
     "output_type": "execute_result"
    }
   ],
   "source": [
    "# Fit the model\n",
    "random_search.fit(X_train, y_train)"
   ]
  },
  {
   "cell_type": "code",
   "execution_count": 10,
   "id": "2bb91ebc",
   "metadata": {
    "execution": {
     "iopub.execute_input": "2023-12-03T14:45:55.482096Z",
     "iopub.status.busy": "2023-12-03T14:45:55.481621Z",
     "iopub.status.idle": "2023-12-03T14:45:55.487044Z",
     "shell.execute_reply": "2023-12-03T14:45:55.485809Z"
    },
    "papermill": {
     "duration": 0.02189,
     "end_time": "2023-12-03T14:45:55.489855",
     "exception": false,
     "start_time": "2023-12-03T14:45:55.467965",
     "status": "completed"
    },
    "tags": []
   },
   "outputs": [],
   "source": [
    "bestParams=random_search.best_params_\n",
    "bestXGboost=XGBClassifier(**bestParams)"
   ]
  },
  {
   "cell_type": "code",
   "execution_count": 11,
   "id": "e6722249",
   "metadata": {
    "execution": {
     "iopub.execute_input": "2023-12-03T14:45:55.514048Z",
     "iopub.status.busy": "2023-12-03T14:45:55.513624Z",
     "iopub.status.idle": "2023-12-03T14:45:55.521000Z",
     "shell.execute_reply": "2023-12-03T14:45:55.519907Z"
    },
    "papermill": {
     "duration": 0.022621,
     "end_time": "2023-12-03T14:45:55.523489",
     "exception": false,
     "start_time": "2023-12-03T14:45:55.500868",
     "status": "completed"
    },
    "tags": []
   },
   "outputs": [
    {
     "data": {
      "text/plain": [
       "{'colsample_bytree': 0.6768884383109963,\n",
       " 'gamma': 0.4279066146296105,\n",
       " 'learning_rate': 0.20886819677051832,\n",
       " 'max_depth': 1,\n",
       " 'n_estimators': 175,\n",
       " 'subsample': 0.9278030746723419}"
      ]
     },
     "execution_count": 11,
     "metadata": {},
     "output_type": "execute_result"
    }
   ],
   "source": [
    "bestParams"
   ]
  },
  {
   "cell_type": "code",
   "execution_count": 12,
   "id": "46855660",
   "metadata": {
    "execution": {
     "iopub.execute_input": "2023-12-03T14:45:55.548002Z",
     "iopub.status.busy": "2023-12-03T14:45:55.547546Z",
     "iopub.status.idle": "2023-12-03T14:46:01.103610Z",
     "shell.execute_reply": "2023-12-03T14:46:01.102662Z"
    },
    "papermill": {
     "duration": 5.571072,
     "end_time": "2023-12-03T14:46:01.106027",
     "exception": false,
     "start_time": "2023-12-03T14:45:55.534955",
     "status": "completed"
    },
    "tags": []
   },
   "outputs": [
    {
     "data": {
      "text/html": [
       "<style>#sk-container-id-2 {color: black;background-color: white;}#sk-container-id-2 pre{padding: 0;}#sk-container-id-2 div.sk-toggleable {background-color: white;}#sk-container-id-2 label.sk-toggleable__label {cursor: pointer;display: block;width: 100%;margin-bottom: 0;padding: 0.3em;box-sizing: border-box;text-align: center;}#sk-container-id-2 label.sk-toggleable__label-arrow:before {content: \"▸\";float: left;margin-right: 0.25em;color: #696969;}#sk-container-id-2 label.sk-toggleable__label-arrow:hover:before {color: black;}#sk-container-id-2 div.sk-estimator:hover label.sk-toggleable__label-arrow:before {color: black;}#sk-container-id-2 div.sk-toggleable__content {max-height: 0;max-width: 0;overflow: hidden;text-align: left;background-color: #f0f8ff;}#sk-container-id-2 div.sk-toggleable__content pre {margin: 0.2em;color: black;border-radius: 0.25em;background-color: #f0f8ff;}#sk-container-id-2 input.sk-toggleable__control:checked~div.sk-toggleable__content {max-height: 200px;max-width: 100%;overflow: auto;}#sk-container-id-2 input.sk-toggleable__control:checked~label.sk-toggleable__label-arrow:before {content: \"▾\";}#sk-container-id-2 div.sk-estimator input.sk-toggleable__control:checked~label.sk-toggleable__label {background-color: #d4ebff;}#sk-container-id-2 div.sk-label input.sk-toggleable__control:checked~label.sk-toggleable__label {background-color: #d4ebff;}#sk-container-id-2 input.sk-hidden--visually {border: 0;clip: rect(1px 1px 1px 1px);clip: rect(1px, 1px, 1px, 1px);height: 1px;margin: -1px;overflow: hidden;padding: 0;position: absolute;width: 1px;}#sk-container-id-2 div.sk-estimator {font-family: monospace;background-color: #f0f8ff;border: 1px dotted black;border-radius: 0.25em;box-sizing: border-box;margin-bottom: 0.5em;}#sk-container-id-2 div.sk-estimator:hover {background-color: #d4ebff;}#sk-container-id-2 div.sk-parallel-item::after {content: \"\";width: 100%;border-bottom: 1px solid gray;flex-grow: 1;}#sk-container-id-2 div.sk-label:hover label.sk-toggleable__label {background-color: #d4ebff;}#sk-container-id-2 div.sk-serial::before {content: \"\";position: absolute;border-left: 1px solid gray;box-sizing: border-box;top: 0;bottom: 0;left: 50%;z-index: 0;}#sk-container-id-2 div.sk-serial {display: flex;flex-direction: column;align-items: center;background-color: white;padding-right: 0.2em;padding-left: 0.2em;position: relative;}#sk-container-id-2 div.sk-item {position: relative;z-index: 1;}#sk-container-id-2 div.sk-parallel {display: flex;align-items: stretch;justify-content: center;background-color: white;position: relative;}#sk-container-id-2 div.sk-item::before, #sk-container-id-2 div.sk-parallel-item::before {content: \"\";position: absolute;border-left: 1px solid gray;box-sizing: border-box;top: 0;bottom: 0;left: 50%;z-index: -1;}#sk-container-id-2 div.sk-parallel-item {display: flex;flex-direction: column;z-index: 1;position: relative;background-color: white;}#sk-container-id-2 div.sk-parallel-item:first-child::after {align-self: flex-end;width: 50%;}#sk-container-id-2 div.sk-parallel-item:last-child::after {align-self: flex-start;width: 50%;}#sk-container-id-2 div.sk-parallel-item:only-child::after {width: 0;}#sk-container-id-2 div.sk-dashed-wrapped {border: 1px dashed gray;margin: 0 0.4em 0.5em 0.4em;box-sizing: border-box;padding-bottom: 0.4em;background-color: white;}#sk-container-id-2 div.sk-label label {font-family: monospace;font-weight: bold;display: inline-block;line-height: 1.2em;}#sk-container-id-2 div.sk-label-container {text-align: center;}#sk-container-id-2 div.sk-container {/* jupyter's `normalize.less` sets `[hidden] { display: none; }` but bootstrap.min.css set `[hidden] { display: none !important; }` so we also need the `!important` here to be able to override the default hidden behavior on the sphinx rendered scikit-learn.org. See: https://github.com/scikit-learn/scikit-learn/issues/21755 */display: inline-block !important;position: relative;}#sk-container-id-2 div.sk-text-repr-fallback {display: none;}</style><div id=\"sk-container-id-2\" class=\"sk-top-container\"><div class=\"sk-text-repr-fallback\"><pre>XGBClassifier(base_score=None, booster=None, callbacks=None,\n",
       "              colsample_bylevel=None, colsample_bynode=None,\n",
       "              colsample_bytree=0.6768884383109963, device=None,\n",
       "              early_stopping_rounds=None, enable_categorical=False,\n",
       "              eval_metric=None, feature_types=None, gamma=0.4279066146296105,\n",
       "              grow_policy=None, importance_type=None,\n",
       "              interaction_constraints=None, learning_rate=0.20886819677051832,\n",
       "              max_bin=None, max_cat_threshold=None, max_cat_to_onehot=None,\n",
       "              max_delta_step=None, max_depth=1, max_leaves=None,\n",
       "              min_child_weight=None, missing=nan, monotone_constraints=None,\n",
       "              multi_strategy=None, n_estimators=175, n_jobs=None,\n",
       "              num_parallel_tree=None, random_state=None, ...)</pre><b>In a Jupyter environment, please rerun this cell to show the HTML representation or trust the notebook. <br />On GitHub, the HTML representation is unable to render, please try loading this page with nbviewer.org.</b></div><div class=\"sk-container\" hidden><div class=\"sk-item\"><div class=\"sk-estimator sk-toggleable\"><input class=\"sk-toggleable__control sk-hidden--visually\" id=\"sk-estimator-id-4\" type=\"checkbox\" checked><label for=\"sk-estimator-id-4\" class=\"sk-toggleable__label sk-toggleable__label-arrow\">XGBClassifier</label><div class=\"sk-toggleable__content\"><pre>XGBClassifier(base_score=None, booster=None, callbacks=None,\n",
       "              colsample_bylevel=None, colsample_bynode=None,\n",
       "              colsample_bytree=0.6768884383109963, device=None,\n",
       "              early_stopping_rounds=None, enable_categorical=False,\n",
       "              eval_metric=None, feature_types=None, gamma=0.4279066146296105,\n",
       "              grow_policy=None, importance_type=None,\n",
       "              interaction_constraints=None, learning_rate=0.20886819677051832,\n",
       "              max_bin=None, max_cat_threshold=None, max_cat_to_onehot=None,\n",
       "              max_delta_step=None, max_depth=1, max_leaves=None,\n",
       "              min_child_weight=None, missing=nan, monotone_constraints=None,\n",
       "              multi_strategy=None, n_estimators=175, n_jobs=None,\n",
       "              num_parallel_tree=None, random_state=None, ...)</pre></div></div></div></div></div>"
      ],
      "text/plain": [
       "XGBClassifier(base_score=None, booster=None, callbacks=None,\n",
       "              colsample_bylevel=None, colsample_bynode=None,\n",
       "              colsample_bytree=0.6768884383109963, device=None,\n",
       "              early_stopping_rounds=None, enable_categorical=False,\n",
       "              eval_metric=None, feature_types=None, gamma=0.4279066146296105,\n",
       "              grow_policy=None, importance_type=None,\n",
       "              interaction_constraints=None, learning_rate=0.20886819677051832,\n",
       "              max_bin=None, max_cat_threshold=None, max_cat_to_onehot=None,\n",
       "              max_delta_step=None, max_depth=1, max_leaves=None,\n",
       "              min_child_weight=None, missing=nan, monotone_constraints=None,\n",
       "              multi_strategy=None, n_estimators=175, n_jobs=None,\n",
       "              num_parallel_tree=None, random_state=None, ...)"
      ]
     },
     "execution_count": 12,
     "metadata": {},
     "output_type": "execute_result"
    }
   ],
   "source": [
    "bestXGboost.fit(X_train, y_train)"
   ]
  },
  {
   "cell_type": "code",
   "execution_count": 13,
   "id": "d1e2924f",
   "metadata": {
    "execution": {
     "iopub.execute_input": "2023-12-03T14:46:01.131360Z",
     "iopub.status.busy": "2023-12-03T14:46:01.130986Z",
     "iopub.status.idle": "2023-12-03T14:46:01.146884Z",
     "shell.execute_reply": "2023-12-03T14:46:01.145974Z"
    },
    "papermill": {
     "duration": 0.031941,
     "end_time": "2023-12-03T14:46:01.149611",
     "exception": false,
     "start_time": "2023-12-03T14:46:01.117670",
     "status": "completed"
    },
    "tags": []
   },
   "outputs": [
    {
     "data": {
      "text/plain": [
       "['labelEncoder.pkl']"
      ]
     },
     "execution_count": 13,
     "metadata": {},
     "output_type": "execute_result"
    }
   ],
   "source": [
    "joblib.dump(bestXGboost, 'bestXGboost.pkl')\n",
    "joblib.dump(li, 'labelEncoder.pkl')"
   ]
  },
  {
   "cell_type": "code",
   "execution_count": 14,
   "id": "dddd1353",
   "metadata": {
    "execution": {
     "iopub.execute_input": "2023-12-03T14:46:01.175107Z",
     "iopub.status.busy": "2023-12-03T14:46:01.174705Z",
     "iopub.status.idle": "2023-12-03T14:46:01.181493Z",
     "shell.execute_reply": "2023-12-03T14:46:01.180400Z"
    },
    "papermill": {
     "duration": 0.021848,
     "end_time": "2023-12-03T14:46:01.183836",
     "exception": false,
     "start_time": "2023-12-03T14:46:01.161988",
     "status": "completed"
    },
    "tags": []
   },
   "outputs": [
    {
     "data": {
      "text/plain": [
       "(1279463, 9)"
      ]
     },
     "execution_count": 14,
     "metadata": {},
     "output_type": "execute_result"
    }
   ],
   "source": [
    "X_train.shape"
   ]
  },
  {
   "cell_type": "code",
   "execution_count": 15,
   "id": "afbba996",
   "metadata": {
    "execution": {
     "iopub.execute_input": "2023-12-03T14:46:01.209149Z",
     "iopub.status.busy": "2023-12-03T14:46:01.208774Z",
     "iopub.status.idle": "2023-12-03T14:46:01.353184Z",
     "shell.execute_reply": "2023-12-03T14:46:01.352037Z"
    },
    "papermill": {
     "duration": 0.160261,
     "end_time": "2023-12-03T14:46:01.355697",
     "exception": false,
     "start_time": "2023-12-03T14:46:01.195436",
     "status": "completed"
    },
    "tags": []
   },
   "outputs": [],
   "source": [
    "testDF=pd.read_parquet('/kaggle/input/child-mind-institute-detect-sleep-states/test_series.parquet')"
   ]
  },
  {
   "cell_type": "code",
   "execution_count": 16,
   "id": "5127a00c",
   "metadata": {
    "execution": {
     "iopub.execute_input": "2023-12-03T14:46:01.381431Z",
     "iopub.status.busy": "2023-12-03T14:46:01.380436Z",
     "iopub.status.idle": "2023-12-03T14:46:01.395950Z",
     "shell.execute_reply": "2023-12-03T14:46:01.394907Z"
    },
    "papermill": {
     "duration": 0.030974,
     "end_time": "2023-12-03T14:46:01.398403",
     "exception": false,
     "start_time": "2023-12-03T14:46:01.367429",
     "status": "completed"
    },
    "tags": []
   },
   "outputs": [],
   "source": [
    "enmoScaler=joblib.load('/kaggle/input/scalers/enmoScaler.pkl')\n",
    "anglezScaler=joblib.load('/kaggle/input/scalers/anglezScaler.pkl')"
   ]
  },
  {
   "cell_type": "code",
   "execution_count": 17,
   "id": "331a3f73",
   "metadata": {
    "execution": {
     "iopub.execute_input": "2023-12-03T14:46:01.424031Z",
     "iopub.status.busy": "2023-12-03T14:46:01.423632Z",
     "iopub.status.idle": "2023-12-03T14:46:01.428330Z",
     "shell.execute_reply": "2023-12-03T14:46:01.427378Z"
    },
    "papermill": {
     "duration": 0.020135,
     "end_time": "2023-12-03T14:46:01.430429",
     "exception": false,
     "start_time": "2023-12-03T14:46:01.410294",
     "status": "completed"
    },
    "tags": []
   },
   "outputs": [],
   "source": [
    "test_series_DF_CP=testDF.copy()"
   ]
  },
  {
   "cell_type": "code",
   "execution_count": 18,
   "id": "97312fed",
   "metadata": {
    "execution": {
     "iopub.execute_input": "2023-12-03T14:46:01.456347Z",
     "iopub.status.busy": "2023-12-03T14:46:01.455345Z",
     "iopub.status.idle": "2023-12-03T14:46:01.647604Z",
     "shell.execute_reply": "2023-12-03T14:46:01.646562Z"
    },
    "papermill": {
     "duration": 0.208094,
     "end_time": "2023-12-03T14:46:01.650244",
     "exception": false,
     "start_time": "2023-12-03T14:46:01.442150",
     "status": "completed"
    },
    "tags": []
   },
   "outputs": [],
   "source": [
    "test_series_DF_CP['timestamp'] = pd.to_datetime(test_series_DF_CP['timestamp'],utc=True)\n",
    "test_series_DF_CP['Date'] = test_series_DF_CP['timestamp'].dt.date\n",
    "test_series_DF_CP['Time'] = test_series_DF_CP['timestamp'].dt.time\n",
    "test_series_DF_CP['NewDate'] = pd.to_datetime(test_series_DF_CP['Date'])\n",
    "# Create a new 'Season' column based on the month of each date\n",
    "test_series_DF_CP['Season'] = test_series_DF_CP['NewDate'].dt.month.map(lambda x: {3: 'Spring', 4: 'Spring', 5: 'Spring',\n",
    "                                                 6: 'Summer', 7: 'Summer', 8: 'Summer',\n",
    "                                                 9: 'Autumn', 10: 'Autumn', 11: 'Autumn',\n",
    "                                                 12: 'Winter', 1: 'Winter', 2: 'Winter'}.get(x))\n",
    "\n",
    "# Use get_dummies to one-hot encode the 'Season' column\n",
    "season_dummiesTest = test_series_DF_CP['Season'].apply(lambda x: pd.Series({x: 1}))\n",
    "test_series_DF_CP = pd.concat([test_series_DF_CP, season_dummiesTest], axis=1)\n",
    "\n",
    "seasons=['Summer','Autumn','Spring','Winter']\n",
    "for season in seasons:\n",
    "    if season not in test_series_DF_CP.columns:\n",
    "        test_series_DF_CP[season]=float('nan')\n",
    "        \n",
    "        \n",
    "test_series_DF_CP['Date'] = pd.to_datetime(test_series_DF_CP['Date'])\n",
    "\n",
    "# Add a new column 'weekday' to the DataFrame\n",
    "test_series_DF_CP['weekday'] = test_series_DF_CP['Date'].dt.dayofweek\n",
    "\n",
    "# Map the weekdays to 1 and weekends to 0\n",
    "test_series_DF_CP['weekday'] = test_series_DF_CP['weekday'].apply(lambda x: 1 if x < 5 else 0)\n",
    "\n",
    "test_series_DF_CP['anglezScaled']=anglezScaler.transform(test_series_DF_CP['anglez'].values.reshape(-1, 1))\n",
    "test_series_DF_CP['enmoScaled']=anglezScaler.transform(test_series_DF_CP['enmo'].values.reshape(-1, 1))\n",
    "test_series_DF_CP['Date'] = pd.to_datetime(test_series_DF_CP['Date'])\n",
    "\n",
    "# Add a new column 'weekday' to the DataFrame\n",
    "test_series_DF_CP['weekday'] = test_series_DF_CP['Date'].dt.dayofweek\n",
    "\n",
    "# Map the weekdays to 1 and weekends to 0\n",
    "test_series_DF_CP['weekday'] = test_series_DF_CP['weekday'].apply(lambda x: 1 if x < 5 else 0)\n",
    "\n",
    "test_series_DF_CP['Time'] = pd.to_datetime(test_series_DF_CP['Time'], format='%H:%M:%S')\n",
    "\n",
    "#Extracting total seconds since midnight as a single feature\n",
    "test_series_DF_CP['time_in_seconds'] = test_series_DF_CP['Time'].dt.hour * 3600 + test_series_DF_CP['Time'].dt.minute * 60 + test_series_DF_CP['Time'].dt.second\n",
    "\n",
    "# Create empty columns for sin and cos\n",
    "test_series_DF_CP['sin_time'] = np.nan\n",
    "test_series_DF_CP['cos_time'] = np.nan\n",
    "\n",
    "# Calculating sin and cos of time_in_seconds\n",
    "test_series_DF_CP['sin_time'] = np.sin(2 * np.pi * test_series_DF_CP['time_in_seconds'] / 86400)  # 86400 seconds in a day\n",
    "test_series_DF_CP['cos_time'] = np.cos(2 * np.pi * test_series_DF_CP['time_in_seconds'] / 86400)"
   ]
  },
  {
   "cell_type": "code",
   "execution_count": 19,
   "id": "4964c29e",
   "metadata": {
    "execution": {
     "iopub.execute_input": "2023-12-03T14:46:01.675388Z",
     "iopub.status.busy": "2023-12-03T14:46:01.675017Z",
     "iopub.status.idle": "2023-12-03T14:46:01.680179Z",
     "shell.execute_reply": "2023-12-03T14:46:01.678886Z"
    },
    "papermill": {
     "duration": 0.020281,
     "end_time": "2023-12-03T14:46:01.682235",
     "exception": false,
     "start_time": "2023-12-03T14:46:01.661954",
     "status": "completed"
    },
    "tags": []
   },
   "outputs": [],
   "source": [
    "trainFeatures=['sin_time','cos_time','Summer','Autumn','Spring','Winter','anglezScaled','enmoScaled','weekday']"
   ]
  },
  {
   "cell_type": "code",
   "execution_count": 20,
   "id": "7c26cec2",
   "metadata": {
    "execution": {
     "iopub.execute_input": "2023-12-03T14:46:01.707662Z",
     "iopub.status.busy": "2023-12-03T14:46:01.706921Z",
     "iopub.status.idle": "2023-12-03T14:46:01.724513Z",
     "shell.execute_reply": "2023-12-03T14:46:01.723404Z"
    },
    "papermill": {
     "duration": 0.033072,
     "end_time": "2023-12-03T14:46:01.727036",
     "exception": false,
     "start_time": "2023-12-03T14:46:01.693964",
     "status": "completed"
    },
    "tags": []
   },
   "outputs": [
    {
     "data": {
      "text/html": [
       "<div>\n",
       "<style scoped>\n",
       "    .dataframe tbody tr th:only-of-type {\n",
       "        vertical-align: middle;\n",
       "    }\n",
       "\n",
       "    .dataframe tbody tr th {\n",
       "        vertical-align: top;\n",
       "    }\n",
       "\n",
       "    .dataframe thead th {\n",
       "        text-align: right;\n",
       "    }\n",
       "</style>\n",
       "<table border=\"1\" class=\"dataframe\">\n",
       "  <thead>\n",
       "    <tr style=\"text-align: right;\">\n",
       "      <th></th>\n",
       "      <th>sin_time</th>\n",
       "      <th>cos_time</th>\n",
       "      <th>Summer</th>\n",
       "      <th>Autumn</th>\n",
       "      <th>Spring</th>\n",
       "      <th>Winter</th>\n",
       "      <th>anglezScaled</th>\n",
       "      <th>enmoScaled</th>\n",
       "      <th>weekday</th>\n",
       "    </tr>\n",
       "  </thead>\n",
       "  <tbody>\n",
       "    <tr>\n",
       "      <th>0</th>\n",
       "      <td>-0.923880</td>\n",
       "      <td>0.382683</td>\n",
       "      <td>1.0</td>\n",
       "      <td>NaN</td>\n",
       "      <td>NaN</td>\n",
       "      <td>NaN</td>\n",
       "      <td>0.517288</td>\n",
       "      <td>0.502686</td>\n",
       "      <td>1</td>\n",
       "    </tr>\n",
       "    <tr>\n",
       "      <th>1</th>\n",
       "      <td>-0.923740</td>\n",
       "      <td>0.383019</td>\n",
       "      <td>1.0</td>\n",
       "      <td>NaN</td>\n",
       "      <td>NaN</td>\n",
       "      <td>NaN</td>\n",
       "      <td>0.517289</td>\n",
       "      <td>0.502685</td>\n",
       "      <td>1</td>\n",
       "    </tr>\n",
       "    <tr>\n",
       "      <th>2</th>\n",
       "      <td>-0.923601</td>\n",
       "      <td>0.383355</td>\n",
       "      <td>1.0</td>\n",
       "      <td>NaN</td>\n",
       "      <td>NaN</td>\n",
       "      <td>NaN</td>\n",
       "      <td>0.517290</td>\n",
       "      <td>0.502685</td>\n",
       "      <td>1</td>\n",
       "    </tr>\n",
       "    <tr>\n",
       "      <th>3</th>\n",
       "      <td>-0.923462</td>\n",
       "      <td>0.383691</td>\n",
       "      <td>1.0</td>\n",
       "      <td>NaN</td>\n",
       "      <td>NaN</td>\n",
       "      <td>NaN</td>\n",
       "      <td>0.517289</td>\n",
       "      <td>0.502684</td>\n",
       "      <td>1</td>\n",
       "    </tr>\n",
       "    <tr>\n",
       "      <th>4</th>\n",
       "      <td>-0.923322</td>\n",
       "      <td>0.384027</td>\n",
       "      <td>1.0</td>\n",
       "      <td>NaN</td>\n",
       "      <td>NaN</td>\n",
       "      <td>NaN</td>\n",
       "      <td>0.517289</td>\n",
       "      <td>0.502685</td>\n",
       "      <td>1</td>\n",
       "    </tr>\n",
       "  </tbody>\n",
       "</table>\n",
       "</div>"
      ],
      "text/plain": [
       "   sin_time  cos_time  Summer  Autumn  Spring  Winter  anglezScaled  \\\n",
       "0 -0.923880  0.382683     1.0     NaN     NaN     NaN      0.517288   \n",
       "1 -0.923740  0.383019     1.0     NaN     NaN     NaN      0.517289   \n",
       "2 -0.923601  0.383355     1.0     NaN     NaN     NaN      0.517290   \n",
       "3 -0.923462  0.383691     1.0     NaN     NaN     NaN      0.517289   \n",
       "4 -0.923322  0.384027     1.0     NaN     NaN     NaN      0.517289   \n",
       "\n",
       "   enmoScaled  weekday  \n",
       "0    0.502686        1  \n",
       "1    0.502685        1  \n",
       "2    0.502685        1  \n",
       "3    0.502684        1  \n",
       "4    0.502685        1  "
      ]
     },
     "execution_count": 20,
     "metadata": {},
     "output_type": "execute_result"
    }
   ],
   "source": [
    "X_test=test_series_DF_CP[trainFeatures]\n",
    "X_test.head()"
   ]
  },
  {
   "cell_type": "code",
   "execution_count": 21,
   "id": "903a3d76",
   "metadata": {
    "execution": {
     "iopub.execute_input": "2023-12-03T14:46:01.753833Z",
     "iopub.status.busy": "2023-12-03T14:46:01.752488Z",
     "iopub.status.idle": "2023-12-03T14:46:01.775008Z",
     "shell.execute_reply": "2023-12-03T14:46:01.773933Z"
    },
    "papermill": {
     "duration": 0.03855,
     "end_time": "2023-12-03T14:46:01.777634",
     "exception": false,
     "start_time": "2023-12-03T14:46:01.739084",
     "status": "completed"
    },
    "tags": []
   },
   "outputs": [
    {
     "data": {
      "text/plain": [
       "array([1, 1, 1, 1, 1, 1, 1, 1, 1, 1, 1, 1, 1, 1, 1, 1, 1, 1, 1, 1, 1, 1,\n",
       "       1, 1, 1, 1, 1, 1, 1, 1, 1, 1, 1, 1, 1, 1, 1, 1, 1, 1, 1, 1, 1, 1,\n",
       "       1, 1, 1, 1, 1, 1, 1, 1, 1, 1, 1, 1, 1, 1, 1, 1, 1, 1, 1, 1, 1, 1,\n",
       "       1, 1, 1, 1, 1, 1, 1, 1, 1, 1, 1, 1, 1, 1, 1, 1, 1, 1, 1, 1, 1, 1,\n",
       "       1, 1, 1, 1, 1, 1, 1, 1, 1, 1, 1, 1, 1, 1, 1, 1, 1, 1, 1, 1, 1, 1,\n",
       "       1, 1, 1, 1, 1, 1, 1, 1, 1, 1, 1, 1, 1, 1, 1, 1, 1, 1, 1, 1, 1, 1,\n",
       "       1, 1, 1, 1, 1, 1, 1, 1, 1, 1, 1, 1, 1, 1, 1, 1, 1, 1, 1, 1, 1, 1,\n",
       "       1, 1, 1, 1, 1, 1, 1, 1, 1, 1, 1, 1, 1, 1, 1, 1, 1, 1, 1, 1, 1, 1,\n",
       "       1, 1, 1, 1, 1, 1, 1, 1, 1, 1, 1, 1, 1, 1, 1, 1, 1, 1, 1, 1, 1, 1,\n",
       "       1, 1, 1, 1, 1, 1, 1, 1, 1, 1, 1, 1, 1, 1, 1, 1, 1, 1, 1, 1, 1, 1,\n",
       "       1, 1, 1, 1, 1, 1, 1, 1, 1, 1, 1, 1, 1, 1, 1, 1, 1, 1, 1, 1, 1, 1,\n",
       "       1, 1, 1, 1, 1, 1, 1, 1, 1, 1, 1, 1, 1, 1, 1, 1, 1, 1, 1, 1, 1, 1,\n",
       "       1, 1, 1, 1, 1, 1, 1, 1, 1, 1, 1, 1, 1, 1, 1, 1, 1, 1, 1, 1, 1, 1,\n",
       "       1, 1, 1, 1, 1, 1, 1, 1, 1, 1, 1, 1, 1, 1, 1, 1, 1, 1, 1, 1, 1, 1,\n",
       "       1, 1, 1, 1, 1, 1, 1, 1, 1, 1, 1, 1, 1, 1, 1, 1, 1, 1, 1, 1, 1, 1,\n",
       "       1, 1, 1, 1, 1, 1, 1, 1, 1, 1, 1, 1, 1, 1, 1, 1, 1, 1, 1, 1, 1, 1,\n",
       "       1, 1, 1, 1, 1, 1, 1, 1, 1, 1, 1, 1, 1, 1, 1, 1, 1, 1, 1, 1, 1, 1,\n",
       "       1, 1, 1, 1, 1, 1, 1, 1, 1, 1, 1, 1, 1, 1, 1, 1, 1, 1, 1, 1, 1, 1,\n",
       "       1, 1, 1, 1, 1, 1, 1, 1, 1, 1, 1, 1, 1, 1, 1, 1, 1, 1, 1, 1, 1, 1,\n",
       "       1, 1, 1, 1, 1, 1, 1, 1, 1, 1, 1, 1, 1, 1, 1, 1, 1, 1, 1, 1, 1, 1,\n",
       "       1, 1, 1, 1, 1, 1, 1, 1, 1, 1])"
      ]
     },
     "execution_count": 21,
     "metadata": {},
     "output_type": "execute_result"
    }
   ],
   "source": [
    "preditions=bestXGboost.predict(X_test)\n",
    "preditions"
   ]
  },
  {
   "cell_type": "code",
   "execution_count": 22,
   "id": "e2db51ca",
   "metadata": {
    "execution": {
     "iopub.execute_input": "2023-12-03T14:46:01.804773Z",
     "iopub.status.busy": "2023-12-03T14:46:01.803597Z",
     "iopub.status.idle": "2023-12-03T14:46:01.809634Z",
     "shell.execute_reply": "2023-12-03T14:46:01.808641Z"
    },
    "papermill": {
     "duration": 0.021787,
     "end_time": "2023-12-03T14:46:01.811902",
     "exception": false,
     "start_time": "2023-12-03T14:46:01.790115",
     "status": "completed"
    },
    "tags": []
   },
   "outputs": [],
   "source": [
    "preditions_lables=li.inverse_transform(preditions)"
   ]
  },
  {
   "cell_type": "code",
   "execution_count": 23,
   "id": "6396163e",
   "metadata": {
    "execution": {
     "iopub.execute_input": "2023-12-03T14:46:01.837816Z",
     "iopub.status.busy": "2023-12-03T14:46:01.837364Z",
     "iopub.status.idle": "2023-12-03T14:46:01.846732Z",
     "shell.execute_reply": "2023-12-03T14:46:01.845606Z"
    },
    "papermill": {
     "duration": 0.02516,
     "end_time": "2023-12-03T14:46:01.849146",
     "exception": false,
     "start_time": "2023-12-03T14:46:01.823986",
     "status": "completed"
    },
    "tags": []
   },
   "outputs": [
    {
     "data": {
      "text/plain": [
       "array(['wakeup', 'wakeup', 'wakeup', 'wakeup', 'wakeup', 'wakeup',\n",
       "       'wakeup', 'wakeup', 'wakeup', 'wakeup', 'wakeup', 'wakeup',\n",
       "       'wakeup', 'wakeup', 'wakeup', 'wakeup', 'wakeup', 'wakeup',\n",
       "       'wakeup', 'wakeup', 'wakeup', 'wakeup', 'wakeup', 'wakeup',\n",
       "       'wakeup', 'wakeup', 'wakeup', 'wakeup', 'wakeup', 'wakeup',\n",
       "       'wakeup', 'wakeup', 'wakeup', 'wakeup', 'wakeup', 'wakeup',\n",
       "       'wakeup', 'wakeup', 'wakeup', 'wakeup', 'wakeup', 'wakeup',\n",
       "       'wakeup', 'wakeup', 'wakeup', 'wakeup', 'wakeup', 'wakeup',\n",
       "       'wakeup', 'wakeup', 'wakeup', 'wakeup', 'wakeup', 'wakeup',\n",
       "       'wakeup', 'wakeup', 'wakeup', 'wakeup', 'wakeup', 'wakeup',\n",
       "       'wakeup', 'wakeup', 'wakeup', 'wakeup', 'wakeup', 'wakeup',\n",
       "       'wakeup', 'wakeup', 'wakeup', 'wakeup', 'wakeup', 'wakeup',\n",
       "       'wakeup', 'wakeup', 'wakeup', 'wakeup', 'wakeup', 'wakeup',\n",
       "       'wakeup', 'wakeup', 'wakeup', 'wakeup', 'wakeup', 'wakeup',\n",
       "       'wakeup', 'wakeup', 'wakeup', 'wakeup', 'wakeup', 'wakeup',\n",
       "       'wakeup', 'wakeup', 'wakeup', 'wakeup', 'wakeup', 'wakeup',\n",
       "       'wakeup', 'wakeup', 'wakeup', 'wakeup', 'wakeup', 'wakeup',\n",
       "       'wakeup', 'wakeup', 'wakeup', 'wakeup', 'wakeup', 'wakeup',\n",
       "       'wakeup', 'wakeup', 'wakeup', 'wakeup', 'wakeup', 'wakeup',\n",
       "       'wakeup', 'wakeup', 'wakeup', 'wakeup', 'wakeup', 'wakeup',\n",
       "       'wakeup', 'wakeup', 'wakeup', 'wakeup', 'wakeup', 'wakeup',\n",
       "       'wakeup', 'wakeup', 'wakeup', 'wakeup', 'wakeup', 'wakeup',\n",
       "       'wakeup', 'wakeup', 'wakeup', 'wakeup', 'wakeup', 'wakeup',\n",
       "       'wakeup', 'wakeup', 'wakeup', 'wakeup', 'wakeup', 'wakeup',\n",
       "       'wakeup', 'wakeup', 'wakeup', 'wakeup', 'wakeup', 'wakeup',\n",
       "       'wakeup', 'wakeup', 'wakeup', 'wakeup', 'wakeup', 'wakeup',\n",
       "       'wakeup', 'wakeup', 'wakeup', 'wakeup', 'wakeup', 'wakeup',\n",
       "       'wakeup', 'wakeup', 'wakeup', 'wakeup', 'wakeup', 'wakeup',\n",
       "       'wakeup', 'wakeup', 'wakeup', 'wakeup', 'wakeup', 'wakeup',\n",
       "       'wakeup', 'wakeup', 'wakeup', 'wakeup', 'wakeup', 'wakeup',\n",
       "       'wakeup', 'wakeup', 'wakeup', 'wakeup', 'wakeup', 'wakeup',\n",
       "       'wakeup', 'wakeup', 'wakeup', 'wakeup', 'wakeup', 'wakeup',\n",
       "       'wakeup', 'wakeup', 'wakeup', 'wakeup', 'wakeup', 'wakeup',\n",
       "       'wakeup', 'wakeup', 'wakeup', 'wakeup', 'wakeup', 'wakeup',\n",
       "       'wakeup', 'wakeup', 'wakeup', 'wakeup', 'wakeup', 'wakeup',\n",
       "       'wakeup', 'wakeup', 'wakeup', 'wakeup', 'wakeup', 'wakeup',\n",
       "       'wakeup', 'wakeup', 'wakeup', 'wakeup', 'wakeup', 'wakeup',\n",
       "       'wakeup', 'wakeup', 'wakeup', 'wakeup', 'wakeup', 'wakeup',\n",
       "       'wakeup', 'wakeup', 'wakeup', 'wakeup', 'wakeup', 'wakeup',\n",
       "       'wakeup', 'wakeup', 'wakeup', 'wakeup', 'wakeup', 'wakeup',\n",
       "       'wakeup', 'wakeup', 'wakeup', 'wakeup', 'wakeup', 'wakeup',\n",
       "       'wakeup', 'wakeup', 'wakeup', 'wakeup', 'wakeup', 'wakeup',\n",
       "       'wakeup', 'wakeup', 'wakeup', 'wakeup', 'wakeup', 'wakeup',\n",
       "       'wakeup', 'wakeup', 'wakeup', 'wakeup', 'wakeup', 'wakeup',\n",
       "       'wakeup', 'wakeup', 'wakeup', 'wakeup', 'wakeup', 'wakeup',\n",
       "       'wakeup', 'wakeup', 'wakeup', 'wakeup', 'wakeup', 'wakeup',\n",
       "       'wakeup', 'wakeup', 'wakeup', 'wakeup', 'wakeup', 'wakeup',\n",
       "       'wakeup', 'wakeup', 'wakeup', 'wakeup', 'wakeup', 'wakeup',\n",
       "       'wakeup', 'wakeup', 'wakeup', 'wakeup', 'wakeup', 'wakeup',\n",
       "       'wakeup', 'wakeup', 'wakeup', 'wakeup', 'wakeup', 'wakeup',\n",
       "       'wakeup', 'wakeup', 'wakeup', 'wakeup', 'wakeup', 'wakeup',\n",
       "       'wakeup', 'wakeup', 'wakeup', 'wakeup', 'wakeup', 'wakeup',\n",
       "       'wakeup', 'wakeup', 'wakeup', 'wakeup', 'wakeup', 'wakeup',\n",
       "       'wakeup', 'wakeup', 'wakeup', 'wakeup', 'wakeup', 'wakeup',\n",
       "       'wakeup', 'wakeup', 'wakeup', 'wakeup', 'wakeup', 'wakeup',\n",
       "       'wakeup', 'wakeup', 'wakeup', 'wakeup', 'wakeup', 'wakeup',\n",
       "       'wakeup', 'wakeup', 'wakeup', 'wakeup', 'wakeup', 'wakeup',\n",
       "       'wakeup', 'wakeup', 'wakeup', 'wakeup', 'wakeup', 'wakeup',\n",
       "       'wakeup', 'wakeup', 'wakeup', 'wakeup', 'wakeup', 'wakeup',\n",
       "       'wakeup', 'wakeup', 'wakeup', 'wakeup', 'wakeup', 'wakeup',\n",
       "       'wakeup', 'wakeup', 'wakeup', 'wakeup', 'wakeup', 'wakeup',\n",
       "       'wakeup', 'wakeup', 'wakeup', 'wakeup', 'wakeup', 'wakeup',\n",
       "       'wakeup', 'wakeup', 'wakeup', 'wakeup', 'wakeup', 'wakeup',\n",
       "       'wakeup', 'wakeup', 'wakeup', 'wakeup', 'wakeup', 'wakeup',\n",
       "       'wakeup', 'wakeup', 'wakeup', 'wakeup', 'wakeup', 'wakeup',\n",
       "       'wakeup', 'wakeup', 'wakeup', 'wakeup', 'wakeup', 'wakeup',\n",
       "       'wakeup', 'wakeup', 'wakeup', 'wakeup', 'wakeup', 'wakeup',\n",
       "       'wakeup', 'wakeup', 'wakeup', 'wakeup', 'wakeup', 'wakeup',\n",
       "       'wakeup', 'wakeup', 'wakeup', 'wakeup', 'wakeup', 'wakeup',\n",
       "       'wakeup', 'wakeup', 'wakeup', 'wakeup', 'wakeup', 'wakeup',\n",
       "       'wakeup', 'wakeup', 'wakeup', 'wakeup', 'wakeup', 'wakeup',\n",
       "       'wakeup', 'wakeup', 'wakeup', 'wakeup', 'wakeup', 'wakeup',\n",
       "       'wakeup', 'wakeup', 'wakeup', 'wakeup', 'wakeup', 'wakeup',\n",
       "       'wakeup', 'wakeup', 'wakeup', 'wakeup', 'wakeup', 'wakeup',\n",
       "       'wakeup', 'wakeup', 'wakeup', 'wakeup', 'wakeup', 'wakeup'],\n",
       "      dtype=object)"
      ]
     },
     "execution_count": 23,
     "metadata": {},
     "output_type": "execute_result"
    }
   ],
   "source": [
    "preditions_lables"
   ]
  },
  {
   "cell_type": "code",
   "execution_count": 24,
   "id": "f98e36be",
   "metadata": {
    "execution": {
     "iopub.execute_input": "2023-12-03T14:46:01.875770Z",
     "iopub.status.busy": "2023-12-03T14:46:01.875309Z",
     "iopub.status.idle": "2023-12-03T14:46:01.900781Z",
     "shell.execute_reply": "2023-12-03T14:46:01.899712Z"
    },
    "papermill": {
     "duration": 0.041397,
     "end_time": "2023-12-03T14:46:01.903038",
     "exception": false,
     "start_time": "2023-12-03T14:46:01.861641",
     "status": "completed"
    },
    "tags": []
   },
   "outputs": [
    {
     "data": {
      "text/plain": [
       "array([0.6588544 , 0.6588544 , 0.6588544 , 0.6588544 , 0.6588544 ,\n",
       "       0.6588544 , 0.6588544 , 0.6588544 , 0.6588544 , 0.6588544 ,\n",
       "       0.6588544 , 0.6588544 , 0.6588544 , 0.6588544 , 0.6588544 ,\n",
       "       0.6588544 , 0.6588544 , 0.6588544 , 0.72808146, 0.63991165,\n",
       "       0.63991165, 0.63991165, 0.6588544 , 0.63991165, 0.63991165,\n",
       "       0.63991165, 0.63991165, 0.72808146, 0.6047511 , 0.6047511 ,\n",
       "       0.6047511 , 0.6047511 , 0.6047511 , 0.6047511 , 0.6047511 ,\n",
       "       0.6047511 , 0.6047511 , 0.6047511 , 0.6047511 , 0.6047511 ,\n",
       "       0.6047511 , 0.6047511 , 0.6047511 , 0.6047511 , 0.6047511 ,\n",
       "       0.6047511 , 0.6047511 , 0.6047511 , 0.6047511 , 0.6047511 ,\n",
       "       0.6047511 , 0.6047511 , 0.6047511 , 0.6047511 , 0.6047511 ,\n",
       "       0.6047511 , 0.6047511 , 0.6047511 , 0.6047511 , 0.6047511 ,\n",
       "       0.6047511 , 0.6047511 , 0.6047511 , 0.6047511 , 0.6047511 ,\n",
       "       0.6047511 , 0.6047511 , 0.6047511 , 0.6047511 , 0.6047511 ,\n",
       "       0.6047511 , 0.6047511 , 0.6047511 , 0.6047511 , 0.6047511 ,\n",
       "       0.6047511 , 0.6047511 , 0.6047511 , 0.6047511 , 0.6047511 ,\n",
       "       0.6047511 , 0.6047511 , 0.6047511 , 0.6047511 , 0.6047511 ,\n",
       "       0.6047511 , 0.6047511 , 0.6047511 , 0.6047511 , 0.6047511 ,\n",
       "       0.6047511 , 0.6047511 , 0.6047511 , 0.6047511 , 0.6047511 ,\n",
       "       0.6047511 , 0.6047511 , 0.6047511 , 0.6047511 , 0.6047511 ,\n",
       "       0.6047511 , 0.6047511 , 0.6047511 , 0.6047511 , 0.6047511 ,\n",
       "       0.6047511 , 0.6047511 , 0.6047511 , 0.6047511 , 0.5514695 ,\n",
       "       0.5514695 , 0.5514695 , 0.5514695 , 0.5514695 , 0.5514695 ,\n",
       "       0.5514695 , 0.5514695 , 0.5514695 , 0.5514695 , 0.5514695 ,\n",
       "       0.5514695 , 0.5514695 , 0.5514695 , 0.5514695 , 0.5514695 ,\n",
       "       0.5514695 , 0.5514695 , 0.5514695 , 0.5514695 , 0.5514695 ,\n",
       "       0.5514695 , 0.5514695 , 0.5514695 , 0.5514695 , 0.5514695 ,\n",
       "       0.5514695 , 0.5514695 , 0.5514695 , 0.5514695 , 0.5514695 ,\n",
       "       0.5514695 , 0.5514695 , 0.5514695 , 0.5514695 , 0.5514695 ,\n",
       "       0.5514695 , 0.5514695 , 0.5514695 , 0.5514695 , 0.5514695 ,\n",
       "       0.99993896, 0.99993896, 0.99993896, 0.9998479 , 0.9998479 ,\n",
       "       0.9998479 , 0.9998479 , 0.9998479 , 0.9998479 , 0.9998307 ,\n",
       "       0.999734  , 0.999734  , 0.999734  , 0.999734  , 0.999734  ,\n",
       "       0.999734  , 0.999734  , 0.999734  , 0.999734  , 0.999734  ,\n",
       "       0.9998098 , 0.9998479 , 0.9998098 , 0.999734  , 0.999734  ,\n",
       "       0.999734  , 0.999734  , 0.999734  , 0.999734  , 0.999734  ,\n",
       "       0.999734  , 0.999734  , 0.999734  , 0.999734  , 0.999734  ,\n",
       "       0.999734  , 0.999734  , 0.99957067, 0.99957067, 0.99957067,\n",
       "       0.99957067, 0.99957067, 0.99957067, 0.99957067, 0.99957067,\n",
       "       0.99957067, 0.99957067, 0.99957067, 0.99957067, 0.99957067,\n",
       "       0.99957067, 0.99957067, 0.99957067, 0.99957067, 0.99957067,\n",
       "       0.99957067, 0.99957067, 0.99957067, 0.99957067, 0.99957067,\n",
       "       0.99957067, 0.99957067, 0.99957067, 0.99957067, 0.99957067,\n",
       "       0.99957067, 0.99957067, 0.99957067, 0.99957067, 0.99957067,\n",
       "       0.99957067, 0.99957067, 0.99957067, 0.99957067, 0.99957067,\n",
       "       0.99957067, 0.99957067, 0.99957067, 0.99957067, 0.99957067,\n",
       "       0.99957067, 0.99957067, 0.99957067, 0.99957067, 0.99957067,\n",
       "       0.99957067, 0.99957067, 0.99957067, 0.99957067, 0.99957067,\n",
       "       0.99957067, 0.99957067, 0.99957067, 0.99957067, 0.99957067,\n",
       "       0.99957067, 0.99957067, 0.99957067, 0.99957067, 0.99957067,\n",
       "       0.99957067, 0.99957067, 0.99957067, 0.99957067, 0.99957067,\n",
       "       0.99957067, 0.99957067, 0.99957067, 0.99957067, 0.99957067,\n",
       "       0.99957067, 0.99957067, 0.99957067, 0.99957067, 0.99957067,\n",
       "       0.99957067, 0.99957067, 0.99957067, 0.99957067, 0.99957067,\n",
       "       0.99957067, 0.99957067, 0.99957067, 0.99957067, 0.99957067,\n",
       "       0.99957067, 0.99957067, 0.99957067, 0.99957067, 0.99957067,\n",
       "       0.99957067, 0.99957067, 0.99957067, 0.99957067, 0.99957067,\n",
       "       0.99957067, 0.99957067, 0.99957067, 0.99957067, 0.99957067,\n",
       "       0.99957067, 0.99957067, 0.99957067, 0.99957067, 0.99957067,\n",
       "       0.99957067, 0.99957067, 0.99957067, 0.99957067, 0.99957067,\n",
       "       0.9917538 , 0.9911243 , 0.9911243 , 0.9911243 , 0.9911243 ,\n",
       "       0.9911243 , 0.9911243 , 0.9911243 , 0.9911243 , 0.9911243 ,\n",
       "       0.9888131 , 0.9893288 , 0.9893288 , 0.9917733 , 0.992892  ,\n",
       "       0.9911243 , 0.99209386, 0.9893288 , 0.9866867 , 0.9866867 ,\n",
       "       0.9911243 , 0.9911243 , 0.9917538 , 0.9911243 , 0.9911243 ,\n",
       "       0.98969704, 0.9893288 , 0.99209386, 0.9911243 , 0.9917538 ,\n",
       "       0.992892  , 0.9911243 , 0.9917733 , 0.992892  , 0.99209386,\n",
       "       0.9911243 , 0.9911243 , 0.9911243 , 0.99209386, 0.992892  ,\n",
       "       0.992892  , 0.992892  , 0.992892  , 0.98823583, 0.98973024,\n",
       "       0.9917538 , 0.99045765, 0.99045765, 0.9911243 , 0.99209386,\n",
       "       0.9893288 , 0.9893288 , 0.992892  , 0.9893288 , 0.9893288 ,\n",
       "       0.9893288 , 0.9893288 , 0.9893288 , 0.9893288 , 0.9917733 ,\n",
       "       0.9917538 , 0.9917538 , 0.9917538 , 0.9911243 , 0.9911243 ,\n",
       "       0.9911243 , 0.9911243 , 0.9911243 , 0.992892  , 0.9893288 ,\n",
       "       0.98973024, 0.9911243 , 0.9911243 , 0.9911243 , 0.9917538 ,\n",
       "       0.9917538 , 0.9917538 , 0.9917538 , 0.9911243 , 0.9911243 ,\n",
       "       0.9866867 , 0.9911243 , 0.9911243 , 0.9917538 , 0.9917538 ,\n",
       "       0.9911243 , 0.992892  , 0.992892  , 0.992892  , 0.992892  ,\n",
       "       0.9901724 , 0.9911243 , 0.9911243 , 0.992892  , 0.992892  ,\n",
       "       0.9893288 , 0.9843522 , 0.988664  , 0.988664  , 0.988664  ,\n",
       "       0.988664  , 0.988664  , 0.9837054 , 0.988664  , 0.988664  ,\n",
       "       0.988664  , 0.9843522 , 0.988664  , 0.9843522 , 0.988664  ,\n",
       "       0.98946613, 0.98946613, 0.98946613, 0.98946613, 0.98946613,\n",
       "       0.98946613, 0.98946613, 0.9843522 , 0.9878149 , 0.98946613,\n",
       "       0.988664  , 0.9868885 , 0.98946613, 0.98946613, 0.98946613,\n",
       "       0.98946613, 0.98946613, 0.98946613, 0.98946613, 0.988664  ,\n",
       "       0.98889625, 0.98889625, 0.9893528 , 0.98805106, 0.98805106,\n",
       "       0.98805106, 0.9861812 , 0.98351014, 0.98805106, 0.98853755,\n",
       "       0.98805106, 0.98805106, 0.98805106, 0.98805106, 0.9867742 ,\n",
       "       0.98889625, 0.98805106, 0.98805106, 0.98805106, 0.9856431 ],\n",
       "      dtype=float32)"
      ]
     },
     "execution_count": 24,
     "metadata": {},
     "output_type": "execute_result"
    }
   ],
   "source": [
    "predict_proba=bestXGboost.predict_proba(X_test)[:,1]\n",
    "predict_proba"
   ]
  },
  {
   "cell_type": "code",
   "execution_count": 25,
   "id": "f3cf6675",
   "metadata": {
    "execution": {
     "iopub.execute_input": "2023-12-03T14:46:01.931678Z",
     "iopub.status.busy": "2023-12-03T14:46:01.930412Z",
     "iopub.status.idle": "2023-12-03T14:46:01.939569Z",
     "shell.execute_reply": "2023-12-03T14:46:01.938610Z"
    },
    "papermill": {
     "duration": 0.026363,
     "end_time": "2023-12-03T14:46:01.942096",
     "exception": false,
     "start_time": "2023-12-03T14:46:01.915733",
     "status": "completed"
    },
    "tags": []
   },
   "outputs": [
    {
     "name": "stderr",
     "output_type": "stream",
     "text": [
      "/tmp/ipykernel_20/4284071892.py:2: SettingWithCopyWarning: \n",
      "A value is trying to be set on a copy of a slice from a DataFrame.\n",
      "Try using .loc[row_indexer,col_indexer] = value instead\n",
      "\n",
      "See the caveats in the documentation: https://pandas.pydata.org/pandas-docs/stable/user_guide/indexing.html#returning-a-view-versus-a-copy\n",
      "  submission['event']=preditions_lables\n",
      "/tmp/ipykernel_20/4284071892.py:3: SettingWithCopyWarning: \n",
      "A value is trying to be set on a copy of a slice from a DataFrame.\n",
      "Try using .loc[row_indexer,col_indexer] = value instead\n",
      "\n",
      "See the caveats in the documentation: https://pandas.pydata.org/pandas-docs/stable/user_guide/indexing.html#returning-a-view-versus-a-copy\n",
      "  submission['score']=predict_proba\n"
     ]
    }
   ],
   "source": [
    "submission=testDF[['series_id','step']]\n",
    "submission['event']=preditions_lables\n",
    "submission['score']=predict_proba"
   ]
  },
  {
   "cell_type": "code",
   "execution_count": 26,
   "id": "ee50ce34",
   "metadata": {
    "execution": {
     "iopub.execute_input": "2023-12-03T14:46:01.969533Z",
     "iopub.status.busy": "2023-12-03T14:46:01.969147Z",
     "iopub.status.idle": "2023-12-03T14:46:01.976161Z",
     "shell.execute_reply": "2023-12-03T14:46:01.975054Z"
    },
    "papermill": {
     "duration": 0.023639,
     "end_time": "2023-12-03T14:46:01.978601",
     "exception": false,
     "start_time": "2023-12-03T14:46:01.954962",
     "status": "completed"
    },
    "tags": []
   },
   "outputs": [],
   "source": [
    "submission['row_id'] = submission.index.astype(int)\n",
    "submission = submission[['row_id','series_id','step','event','score']]"
   ]
  },
  {
   "cell_type": "code",
   "execution_count": 27,
   "id": "a23deb82",
   "metadata": {
    "execution": {
     "iopub.execute_input": "2023-12-03T14:46:02.006453Z",
     "iopub.status.busy": "2023-12-03T14:46:02.005745Z",
     "iopub.status.idle": "2023-12-03T14:46:02.022320Z",
     "shell.execute_reply": "2023-12-03T14:46:02.020966Z"
    },
    "papermill": {
     "duration": 0.033303,
     "end_time": "2023-12-03T14:46:02.024719",
     "exception": false,
     "start_time": "2023-12-03T14:46:01.991416",
     "status": "completed"
    },
    "tags": []
   },
   "outputs": [
    {
     "data": {
      "text/html": [
       "<div>\n",
       "<style scoped>\n",
       "    .dataframe tbody tr th:only-of-type {\n",
       "        vertical-align: middle;\n",
       "    }\n",
       "\n",
       "    .dataframe tbody tr th {\n",
       "        vertical-align: top;\n",
       "    }\n",
       "\n",
       "    .dataframe thead th {\n",
       "        text-align: right;\n",
       "    }\n",
       "</style>\n",
       "<table border=\"1\" class=\"dataframe\">\n",
       "  <thead>\n",
       "    <tr style=\"text-align: right;\">\n",
       "      <th></th>\n",
       "      <th>row_id</th>\n",
       "      <th>series_id</th>\n",
       "      <th>step</th>\n",
       "      <th>event</th>\n",
       "      <th>score</th>\n",
       "    </tr>\n",
       "  </thead>\n",
       "  <tbody>\n",
       "    <tr>\n",
       "      <th>0</th>\n",
       "      <td>0</td>\n",
       "      <td>038441c925bb</td>\n",
       "      <td>0</td>\n",
       "      <td>wakeup</td>\n",
       "      <td>0.658854</td>\n",
       "    </tr>\n",
       "    <tr>\n",
       "      <th>1</th>\n",
       "      <td>1</td>\n",
       "      <td>038441c925bb</td>\n",
       "      <td>1</td>\n",
       "      <td>wakeup</td>\n",
       "      <td>0.658854</td>\n",
       "    </tr>\n",
       "    <tr>\n",
       "      <th>2</th>\n",
       "      <td>2</td>\n",
       "      <td>038441c925bb</td>\n",
       "      <td>2</td>\n",
       "      <td>wakeup</td>\n",
       "      <td>0.658854</td>\n",
       "    </tr>\n",
       "    <tr>\n",
       "      <th>3</th>\n",
       "      <td>3</td>\n",
       "      <td>038441c925bb</td>\n",
       "      <td>3</td>\n",
       "      <td>wakeup</td>\n",
       "      <td>0.658854</td>\n",
       "    </tr>\n",
       "    <tr>\n",
       "      <th>4</th>\n",
       "      <td>4</td>\n",
       "      <td>038441c925bb</td>\n",
       "      <td>4</td>\n",
       "      <td>wakeup</td>\n",
       "      <td>0.658854</td>\n",
       "    </tr>\n",
       "    <tr>\n",
       "      <th>...</th>\n",
       "      <td>...</td>\n",
       "      <td>...</td>\n",
       "      <td>...</td>\n",
       "      <td>...</td>\n",
       "      <td>...</td>\n",
       "    </tr>\n",
       "    <tr>\n",
       "      <th>445</th>\n",
       "      <td>445</td>\n",
       "      <td>0402a003dae9</td>\n",
       "      <td>145</td>\n",
       "      <td>wakeup</td>\n",
       "      <td>0.988896</td>\n",
       "    </tr>\n",
       "    <tr>\n",
       "      <th>446</th>\n",
       "      <td>446</td>\n",
       "      <td>0402a003dae9</td>\n",
       "      <td>146</td>\n",
       "      <td>wakeup</td>\n",
       "      <td>0.988051</td>\n",
       "    </tr>\n",
       "    <tr>\n",
       "      <th>447</th>\n",
       "      <td>447</td>\n",
       "      <td>0402a003dae9</td>\n",
       "      <td>147</td>\n",
       "      <td>wakeup</td>\n",
       "      <td>0.988051</td>\n",
       "    </tr>\n",
       "    <tr>\n",
       "      <th>448</th>\n",
       "      <td>448</td>\n",
       "      <td>0402a003dae9</td>\n",
       "      <td>148</td>\n",
       "      <td>wakeup</td>\n",
       "      <td>0.988051</td>\n",
       "    </tr>\n",
       "    <tr>\n",
       "      <th>449</th>\n",
       "      <td>449</td>\n",
       "      <td>0402a003dae9</td>\n",
       "      <td>149</td>\n",
       "      <td>wakeup</td>\n",
       "      <td>0.985643</td>\n",
       "    </tr>\n",
       "  </tbody>\n",
       "</table>\n",
       "<p>450 rows × 5 columns</p>\n",
       "</div>"
      ],
      "text/plain": [
       "     row_id     series_id  step   event     score\n",
       "0         0  038441c925bb     0  wakeup  0.658854\n",
       "1         1  038441c925bb     1  wakeup  0.658854\n",
       "2         2  038441c925bb     2  wakeup  0.658854\n",
       "3         3  038441c925bb     3  wakeup  0.658854\n",
       "4         4  038441c925bb     4  wakeup  0.658854\n",
       "..      ...           ...   ...     ...       ...\n",
       "445     445  0402a003dae9   145  wakeup  0.988896\n",
       "446     446  0402a003dae9   146  wakeup  0.988051\n",
       "447     447  0402a003dae9   147  wakeup  0.988051\n",
       "448     448  0402a003dae9   148  wakeup  0.988051\n",
       "449     449  0402a003dae9   149  wakeup  0.985643\n",
       "\n",
       "[450 rows x 5 columns]"
      ]
     },
     "execution_count": 27,
     "metadata": {},
     "output_type": "execute_result"
    }
   ],
   "source": [
    "submission"
   ]
  },
  {
   "cell_type": "code",
   "execution_count": 28,
   "id": "74ae7677",
   "metadata": {
    "execution": {
     "iopub.execute_input": "2023-12-03T14:46:02.055190Z",
     "iopub.status.busy": "2023-12-03T14:46:02.054668Z",
     "iopub.status.idle": "2023-12-03T14:46:02.067178Z",
     "shell.execute_reply": "2023-12-03T14:46:02.065532Z"
    },
    "papermill": {
     "duration": 0.031848,
     "end_time": "2023-12-03T14:46:02.069957",
     "exception": false,
     "start_time": "2023-12-03T14:46:02.038109",
     "status": "completed"
    },
    "tags": []
   },
   "outputs": [],
   "source": [
    "submission.to_csv('submission.csv')"
   ]
  },
  {
   "cell_type": "code",
   "execution_count": null,
   "id": "cb2c8d15",
   "metadata": {
    "papermill": {
     "duration": 0.01297,
     "end_time": "2023-12-03T14:46:02.097749",
     "exception": false,
     "start_time": "2023-12-03T14:46:02.084779",
     "status": "completed"
    },
    "tags": []
   },
   "outputs": [],
   "source": []
  }
 ],
 "metadata": {
  "kaggle": {
   "accelerator": "none",
   "dataSources": [
    {
     "databundleVersionId": 6589269,
     "sourceId": 53666,
     "sourceType": "competition"
    },
    {
     "datasetId": 4100976,
     "sourceId": 7112070,
     "sourceType": "datasetVersion"
    },
    {
     "datasetId": 4101139,
     "sourceId": 7112296,
     "sourceType": "datasetVersion"
    }
   ],
   "dockerImageVersionId": 30587,
   "isGpuEnabled": false,
   "isInternetEnabled": true,
   "language": "python",
   "sourceType": "notebook"
  },
  "kernelspec": {
   "display_name": "Python 3",
   "language": "python",
   "name": "python3"
  },
  "language_info": {
   "codemirror_mode": {
    "name": "ipython",
    "version": 3
   },
   "file_extension": ".py",
   "mimetype": "text/x-python",
   "name": "python",
   "nbconvert_exporter": "python",
   "pygments_lexer": "ipython3",
   "version": "3.10.12"
  },
  "papermill": {
   "default_parameters": {},
   "duration": 220.166064,
   "end_time": "2023-12-03T14:46:04.800843",
   "environment_variables": {},
   "exception": null,
   "input_path": "__notebook__.ipynb",
   "output_path": "__notebook__.ipynb",
   "parameters": {},
   "start_time": "2023-12-03T14:42:24.634779",
   "version": "2.4.0"
  }
 },
 "nbformat": 4,
 "nbformat_minor": 5
}
